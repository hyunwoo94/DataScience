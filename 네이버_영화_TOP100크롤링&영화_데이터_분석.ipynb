{
  "nbformat": 4,
  "nbformat_minor": 0,
  "metadata": {
    "colab": {
      "name": "네이버 영화 TOP100크롤링&영화 데이터 분석.ipynb",
      "provenance": [],
      "collapsed_sections": [],
      "authorship_tag": "ABX9TyOgFZr0LA4AF3SwHslm3+XD",
      "include_colab_link": true
    },
    "kernelspec": {
      "name": "python3",
      "display_name": "Python 3"
    },
    "language_info": {
      "name": "python"
    }
  },
  "cells": [
    {
      "cell_type": "markdown",
      "metadata": {
        "id": "view-in-github",
        "colab_type": "text"
      },
      "source": [
        "<a href=\"https://colab.research.google.com/github/hyunwoo94/DataScience/blob/main/%EB%84%A4%EC%9D%B4%EB%B2%84_%EC%98%81%ED%99%94_TOP100%ED%81%AC%EB%A1%A4%EB%A7%81%26%EC%98%81%ED%99%94_%EB%8D%B0%EC%9D%B4%ED%84%B0_%EB%B6%84%EC%84%9D.ipynb\" target=\"_parent\"><img src=\"https://colab.research.google.com/assets/colab-badge.svg\" alt=\"Open In Colab\"/></a>"
      ]
    },
    {
      "cell_type": "code",
      "metadata": {
        "colab": {
          "base_uri": "https://localhost:8080/"
        },
        "id": "KpcGlaxVntjf",
        "outputId": "4ad9395e-2a7f-4c10-b03d-8d4404198288"
      },
      "source": [
        "#링크 수집을 위한 라이브러리 탐색\n",
        "!pip install selenium"
      ],
      "execution_count": 2,
      "outputs": [
        {
          "output_type": "stream",
          "text": [
            "Collecting selenium\n",
            "\u001b[?25l  Downloading https://files.pythonhosted.org/packages/80/d6/4294f0b4bce4de0abf13e17190289f9d0613b0a44e5dd6a7f5ca98459853/selenium-3.141.0-py2.py3-none-any.whl (904kB)\n",
            "\r\u001b[K     |▍                               | 10kB 14.8MB/s eta 0:00:01\r\u001b[K     |▊                               | 20kB 19.5MB/s eta 0:00:01\r\u001b[K     |█                               | 30kB 22.5MB/s eta 0:00:01\r\u001b[K     |█▌                              | 40kB 25.4MB/s eta 0:00:01\r\u001b[K     |█▉                              | 51kB 28.1MB/s eta 0:00:01\r\u001b[K     |██▏                             | 61kB 25.2MB/s eta 0:00:01\r\u001b[K     |██▌                             | 71kB 26.5MB/s eta 0:00:01\r\u001b[K     |███                             | 81kB 25.8MB/s eta 0:00:01\r\u001b[K     |███▎                            | 92kB 27.0MB/s eta 0:00:01\r\u001b[K     |███▋                            | 102kB 24.9MB/s eta 0:00:01\r\u001b[K     |████                            | 112kB 24.9MB/s eta 0:00:01\r\u001b[K     |████▍                           | 122kB 24.9MB/s eta 0:00:01\r\u001b[K     |████▊                           | 133kB 24.9MB/s eta 0:00:01\r\u001b[K     |█████                           | 143kB 24.9MB/s eta 0:00:01\r\u001b[K     |█████▍                          | 153kB 24.9MB/s eta 0:00:01\r\u001b[K     |█████▉                          | 163kB 24.9MB/s eta 0:00:01\r\u001b[K     |██████▏                         | 174kB 24.9MB/s eta 0:00:01\r\u001b[K     |██████▌                         | 184kB 24.9MB/s eta 0:00:01\r\u001b[K     |██████▉                         | 194kB 24.9MB/s eta 0:00:01\r\u001b[K     |███████▎                        | 204kB 24.9MB/s eta 0:00:01\r\u001b[K     |███████▋                        | 215kB 24.9MB/s eta 0:00:01\r\u001b[K     |████████                        | 225kB 24.9MB/s eta 0:00:01\r\u001b[K     |████████▎                       | 235kB 24.9MB/s eta 0:00:01\r\u001b[K     |████████▊                       | 245kB 24.9MB/s eta 0:00:01\r\u001b[K     |█████████                       | 256kB 24.9MB/s eta 0:00:01\r\u001b[K     |█████████▍                      | 266kB 24.9MB/s eta 0:00:01\r\u001b[K     |█████████▉                      | 276kB 24.9MB/s eta 0:00:01\r\u001b[K     |██████████▏                     | 286kB 24.9MB/s eta 0:00:01\r\u001b[K     |██████████▌                     | 296kB 24.9MB/s eta 0:00:01\r\u001b[K     |██████████▉                     | 307kB 24.9MB/s eta 0:00:01\r\u001b[K     |███████████▎                    | 317kB 24.9MB/s eta 0:00:01\r\u001b[K     |███████████▋                    | 327kB 24.9MB/s eta 0:00:01\r\u001b[K     |████████████                    | 337kB 24.9MB/s eta 0:00:01\r\u001b[K     |████████████▎                   | 348kB 24.9MB/s eta 0:00:01\r\u001b[K     |████████████▊                   | 358kB 24.9MB/s eta 0:00:01\r\u001b[K     |█████████████                   | 368kB 24.9MB/s eta 0:00:01\r\u001b[K     |█████████████▍                  | 378kB 24.9MB/s eta 0:00:01\r\u001b[K     |█████████████▊                  | 389kB 24.9MB/s eta 0:00:01\r\u001b[K     |██████████████▏                 | 399kB 24.9MB/s eta 0:00:01\r\u001b[K     |██████████████▌                 | 409kB 24.9MB/s eta 0:00:01\r\u001b[K     |██████████████▉                 | 419kB 24.9MB/s eta 0:00:01\r\u001b[K     |███████████████▏                | 430kB 24.9MB/s eta 0:00:01\r\u001b[K     |███████████████▋                | 440kB 24.9MB/s eta 0:00:01\r\u001b[K     |████████████████                | 450kB 24.9MB/s eta 0:00:01\r\u001b[K     |████████████████▎               | 460kB 24.9MB/s eta 0:00:01\r\u001b[K     |████████████████▋               | 471kB 24.9MB/s eta 0:00:01\r\u001b[K     |█████████████████               | 481kB 24.9MB/s eta 0:00:01\r\u001b[K     |█████████████████▍              | 491kB 24.9MB/s eta 0:00:01\r\u001b[K     |█████████████████▊              | 501kB 24.9MB/s eta 0:00:01\r\u001b[K     |██████████████████▏             | 512kB 24.9MB/s eta 0:00:01\r\u001b[K     |██████████████████▌             | 522kB 24.9MB/s eta 0:00:01\r\u001b[K     |██████████████████▉             | 532kB 24.9MB/s eta 0:00:01\r\u001b[K     |███████████████████▏            | 542kB 24.9MB/s eta 0:00:01\r\u001b[K     |███████████████████▋            | 552kB 24.9MB/s eta 0:00:01\r\u001b[K     |████████████████████            | 563kB 24.9MB/s eta 0:00:01\r\u001b[K     |████████████████████▎           | 573kB 24.9MB/s eta 0:00:01\r\u001b[K     |████████████████████▋           | 583kB 24.9MB/s eta 0:00:01\r\u001b[K     |█████████████████████           | 593kB 24.9MB/s eta 0:00:01\r\u001b[K     |█████████████████████▍          | 604kB 24.9MB/s eta 0:00:01\r\u001b[K     |█████████████████████▊          | 614kB 24.9MB/s eta 0:00:01\r\u001b[K     |██████████████████████          | 624kB 24.9MB/s eta 0:00:01\r\u001b[K     |██████████████████████▌         | 634kB 24.9MB/s eta 0:00:01\r\u001b[K     |██████████████████████▉         | 645kB 24.9MB/s eta 0:00:01\r\u001b[K     |███████████████████████▏        | 655kB 24.9MB/s eta 0:00:01\r\u001b[K     |███████████████████████▌        | 665kB 24.9MB/s eta 0:00:01\r\u001b[K     |████████████████████████        | 675kB 24.9MB/s eta 0:00:01\r\u001b[K     |████████████████████████▎       | 686kB 24.9MB/s eta 0:00:01\r\u001b[K     |████████████████████████▋       | 696kB 24.9MB/s eta 0:00:01\r\u001b[K     |█████████████████████████       | 706kB 24.9MB/s eta 0:00:01\r\u001b[K     |█████████████████████████▍      | 716kB 24.9MB/s eta 0:00:01\r\u001b[K     |█████████████████████████▊      | 727kB 24.9MB/s eta 0:00:01\r\u001b[K     |██████████████████████████      | 737kB 24.9MB/s eta 0:00:01\r\u001b[K     |██████████████████████████▍     | 747kB 24.9MB/s eta 0:00:01\r\u001b[K     |██████████████████████████▉     | 757kB 24.9MB/s eta 0:00:01\r\u001b[K     |███████████████████████████▏    | 768kB 24.9MB/s eta 0:00:01\r\u001b[K     |███████████████████████████▌    | 778kB 24.9MB/s eta 0:00:01\r\u001b[K     |████████████████████████████    | 788kB 24.9MB/s eta 0:00:01\r\u001b[K     |████████████████████████████▎   | 798kB 24.9MB/s eta 0:00:01\r\u001b[K     |████████████████████████████▋   | 808kB 24.9MB/s eta 0:00:01\r\u001b[K     |█████████████████████████████   | 819kB 24.9MB/s eta 0:00:01\r\u001b[K     |█████████████████████████████▍  | 829kB 24.9MB/s eta 0:00:01\r\u001b[K     |█████████████████████████████▊  | 839kB 24.9MB/s eta 0:00:01\r\u001b[K     |██████████████████████████████  | 849kB 24.9MB/s eta 0:00:01\r\u001b[K     |██████████████████████████████▍ | 860kB 24.9MB/s eta 0:00:01\r\u001b[K     |██████████████████████████████▉ | 870kB 24.9MB/s eta 0:00:01\r\u001b[K     |███████████████████████████████▏| 880kB 24.9MB/s eta 0:00:01\r\u001b[K     |███████████████████████████████▌| 890kB 24.9MB/s eta 0:00:01\r\u001b[K     |███████████████████████████████▉| 901kB 24.9MB/s eta 0:00:01\r\u001b[K     |████████████████████████████████| 911kB 24.9MB/s \n",
            "\u001b[?25hRequirement already satisfied: urllib3 in /usr/local/lib/python3.7/dist-packages (from selenium) (1.24.3)\n",
            "Installing collected packages: selenium\n",
            "Successfully installed selenium-3.141.0\n"
          ],
          "name": "stdout"
        }
      ]
    },
    {
      "cell_type": "markdown",
      "metadata": {
        "id": "Y-GyQti4n7fS"
      },
      "source": [
        "라이브러리 임포트"
      ]
    },
    {
      "cell_type": "code",
      "metadata": {
        "id": "ARrMNQ3Pn6-s"
      },
      "source": [
        "from bs4 import BeautifulSoup\n",
        "import requests\n",
        "from selenium import webdriver as wd \n",
        "from selenium.webdriver.common.keys import Keys\n",
        "import time\n",
        "import re\n",
        "import pandas as pd"
      ],
      "execution_count": 3,
      "outputs": []
    },
    {
      "cell_type": "code",
      "metadata": {
        "colab": {
          "base_uri": "https://localhost:8080/"
        },
        "id": "Lf10V2g-oXC5",
        "outputId": "0047abd3-80bf-4489-8e5b-0334153edc9d"
      },
      "source": [
        "# install chromium, its driver, and selenium\n",
        "!apt-get update\n",
        "!apt install chromium-chromedriver\n",
        "!cp /usr/lib/chromium-browser/chromedriver /usr/bin\n",
        "!pip install selenium\n",
        "# set options to be headless, ..\n",
        "from selenium import webdriver\n",
        "options = webdriver.ChromeOptions()\n",
        "options.add_argument('--headless')\n",
        "options.add_argument('--no-sandbox')\n",
        "options.add_argument('--disable-dev-shm-usage')\n",
        "\n",
        "driver = webdriver.Chrome('chromedriver',options=options)\n"
      ],
      "execution_count": 4,
      "outputs": [
        {
          "output_type": "stream",
          "text": [
            "\r0% [Working]\r            \rGet:1 http://security.ubuntu.com/ubuntu bionic-security InRelease [88.7 kB]\n",
            "\r0% [Connecting to archive.ubuntu.com (91.189.88.142)] [1 InRelease 14.2 kB/88.7\r0% [Connecting to archive.ubuntu.com (91.189.88.142)] [Waiting for headers] [Co\r0% [1 InRelease gpgv 88.7 kB] [Waiting for headers] [Waiting for headers] [Wait\r                                                                               \rIgn:2 https://developer.download.nvidia.com/compute/cuda/repos/ubuntu1804/x86_64  InRelease\n",
            "\r0% [1 InRelease gpgv 88.7 kB] [Waiting for headers] [Waiting for headers] [Wait\r                                                                               \rHit:3 https://cloud.r-project.org/bin/linux/ubuntu bionic-cran40/ InRelease\n",
            "\r0% [1 InRelease gpgv 88.7 kB] [Waiting for headers] [Waiting for headers] [Wait\r                                                                               \rHit:4 http://archive.ubuntu.com/ubuntu bionic InRelease\n",
            "Hit:5 http://ppa.launchpad.net/c2d4u.team/c2d4u4.0+/ubuntu bionic InRelease\n",
            "Ign:6 https://developer.download.nvidia.com/compute/machine-learning/repos/ubuntu1804/x86_64  InRelease\n",
            "Get:7 https://developer.download.nvidia.com/compute/cuda/repos/ubuntu1804/x86_64  Release [697 B]\n",
            "Hit:8 https://developer.download.nvidia.com/compute/machine-learning/repos/ubuntu1804/x86_64  Release\n",
            "Get:9 https://developer.download.nvidia.com/compute/cuda/repos/ubuntu1804/x86_64  Release.gpg [836 B]\n",
            "Get:10 http://archive.ubuntu.com/ubuntu bionic-updates InRelease [88.7 kB]\n",
            "Hit:11 http://ppa.launchpad.net/cran/libgit2/ubuntu bionic InRelease\n",
            "Get:12 http://ppa.launchpad.net/deadsnakes/ppa/ubuntu bionic InRelease [15.9 kB]\n",
            "Get:13 http://security.ubuntu.com/ubuntu bionic-security/universe amd64 Packages [1,418 kB]\n",
            "Get:14 http://archive.ubuntu.com/ubuntu bionic-backports InRelease [74.6 kB]\n",
            "Get:15 http://security.ubuntu.com/ubuntu bionic-security/restricted amd64 Packages [473 kB]\n",
            "Get:16 http://security.ubuntu.com/ubuntu bionic-security/main amd64 Packages [2,219 kB]\n",
            "Get:17 http://ppa.launchpad.net/graphics-drivers/ppa/ubuntu bionic InRelease [21.3 kB]\n",
            "Ign:19 https://developer.download.nvidia.com/compute/cuda/repos/ubuntu1804/x86_64  Packages\n",
            "Get:19 https://developer.download.nvidia.com/compute/cuda/repos/ubuntu1804/x86_64  Packages [599 kB]\n",
            "Get:20 http://archive.ubuntu.com/ubuntu bionic-updates/universe amd64 Packages [2,188 kB]\n",
            "Get:21 http://archive.ubuntu.com/ubuntu bionic-updates/restricted amd64 Packages [505 kB]\n",
            "Get:22 http://archive.ubuntu.com/ubuntu bionic-updates/main amd64 Packages [2,652 kB]\n",
            "Get:23 http://ppa.launchpad.net/deadsnakes/ppa/ubuntu bionic/main amd64 Packages [40.9 kB]\n",
            "Get:24 http://ppa.launchpad.net/graphics-drivers/ppa/ubuntu bionic/main amd64 Packages [41.5 kB]\n",
            "Fetched 10.4 MB in 4s (2,696 kB/s)\n",
            "Reading package lists... Done\n",
            "Reading package lists... Done\n",
            "Building dependency tree       \n",
            "Reading state information... Done\n",
            "The following additional packages will be installed:\n",
            "  chromium-browser chromium-browser-l10n chromium-codecs-ffmpeg-extra\n",
            "Suggested packages:\n",
            "  webaccounts-chromium-extension unity-chromium-extension\n",
            "The following NEW packages will be installed:\n",
            "  chromium-browser chromium-browser-l10n chromium-chromedriver\n",
            "  chromium-codecs-ffmpeg-extra\n",
            "0 upgraded, 4 newly installed, 0 to remove and 70 not upgraded.\n",
            "Need to get 86.0 MB of archives.\n",
            "After this operation, 298 MB of additional disk space will be used.\n",
            "Get:1 http://archive.ubuntu.com/ubuntu bionic-updates/universe amd64 chromium-codecs-ffmpeg-extra amd64 91.0.4472.101-0ubuntu0.18.04.1 [1,124 kB]\n",
            "Get:2 http://archive.ubuntu.com/ubuntu bionic-updates/universe amd64 chromium-browser amd64 91.0.4472.101-0ubuntu0.18.04.1 [76.1 MB]\n",
            "Get:3 http://archive.ubuntu.com/ubuntu bionic-updates/universe amd64 chromium-browser-l10n all 91.0.4472.101-0ubuntu0.18.04.1 [3,937 kB]\n",
            "Get:4 http://archive.ubuntu.com/ubuntu bionic-updates/universe amd64 chromium-chromedriver amd64 91.0.4472.101-0ubuntu0.18.04.1 [4,837 kB]\n",
            "Fetched 86.0 MB in 3s (28.1 MB/s)\n",
            "Selecting previously unselected package chromium-codecs-ffmpeg-extra.\n",
            "(Reading database ... 160772 files and directories currently installed.)\n",
            "Preparing to unpack .../chromium-codecs-ffmpeg-extra_91.0.4472.101-0ubuntu0.18.04.1_amd64.deb ...\n",
            "Unpacking chromium-codecs-ffmpeg-extra (91.0.4472.101-0ubuntu0.18.04.1) ...\n",
            "Selecting previously unselected package chromium-browser.\n",
            "Preparing to unpack .../chromium-browser_91.0.4472.101-0ubuntu0.18.04.1_amd64.deb ...\n",
            "Unpacking chromium-browser (91.0.4472.101-0ubuntu0.18.04.1) ...\n",
            "Selecting previously unselected package chromium-browser-l10n.\n",
            "Preparing to unpack .../chromium-browser-l10n_91.0.4472.101-0ubuntu0.18.04.1_all.deb ...\n",
            "Unpacking chromium-browser-l10n (91.0.4472.101-0ubuntu0.18.04.1) ...\n",
            "Selecting previously unselected package chromium-chromedriver.\n",
            "Preparing to unpack .../chromium-chromedriver_91.0.4472.101-0ubuntu0.18.04.1_amd64.deb ...\n",
            "Unpacking chromium-chromedriver (91.0.4472.101-0ubuntu0.18.04.1) ...\n",
            "Setting up chromium-codecs-ffmpeg-extra (91.0.4472.101-0ubuntu0.18.04.1) ...\n",
            "Setting up chromium-browser (91.0.4472.101-0ubuntu0.18.04.1) ...\n",
            "update-alternatives: using /usr/bin/chromium-browser to provide /usr/bin/x-www-browser (x-www-browser) in auto mode\n",
            "update-alternatives: using /usr/bin/chromium-browser to provide /usr/bin/gnome-www-browser (gnome-www-browser) in auto mode\n",
            "Setting up chromium-chromedriver (91.0.4472.101-0ubuntu0.18.04.1) ...\n",
            "Setting up chromium-browser-l10n (91.0.4472.101-0ubuntu0.18.04.1) ...\n",
            "Processing triggers for man-db (2.8.3-2ubuntu0.1) ...\n",
            "Processing triggers for hicolor-icon-theme (0.17-2) ...\n",
            "Processing triggers for mime-support (3.60ubuntu1) ...\n",
            "Processing triggers for libc-bin (2.27-3ubuntu1.2) ...\n",
            "/sbin/ldconfig.real: /usr/local/lib/python3.7/dist-packages/ideep4py/lib/libmkldnn.so.0 is not a symbolic link\n",
            "\n",
            "cp: '/usr/lib/chromium-browser/chromedriver' and '/usr/bin/chromedriver' are the same file\n",
            "Requirement already satisfied: selenium in /usr/local/lib/python3.7/dist-packages (3.141.0)\n",
            "Requirement already satisfied: urllib3 in /usr/local/lib/python3.7/dist-packages (from selenium) (1.24.3)\n"
          ],
          "name": "stdout"
        }
      ]
    },
    {
      "cell_type": "markdown",
      "metadata": {
        "id": "EuPHLUKdr-N1"
      },
      "source": [
        "분석할 데이터 모으기(크롤링)"
      ]
    },
    {
      "cell_type": "markdown",
      "metadata": {
        "id": "E2F6fGtOsB5G"
      },
      "source": [
        "네이버 영화 TOP100 페이지 별 링크 수집"
      ]
    },
    {
      "cell_type": "code",
      "metadata": {
        "id": "Ibp0dTrPsFBz"
      },
      "source": [
        "#https://serieson.naver.com/movie/top100List.nhn?&rankingTypeCode=PC_R&page= 실시간\n",
        "#https://serieson.naver.com/movie/top100List.nhn?&rankingTypeCode=PC_R&page= 일간\n",
        "#https://serieson.naver.com/movie/top100List.nhn?&rankingTypeCode=PC_R&page= 주간\n",
        "#https://serieson.naver.com/movie/top100List.nhn?&rankingTypeCode=PC_R&page= 월간\n",
        "#https://serieson.naver.com/movie/top100List.nhn?&rankingTypeCode=PC_R&page=\n",
        "\n",
        "def getPageLinksWantRange(startPageNo, lastPageNo) :\n",
        "  links = []        #100개의 영화 링크를 수집할 리스트 변수 선언\n",
        "  return_links =[]\n",
        "  \n",
        "  for pageNo in range(startPageNo -1, lastPageNo) :\n",
        "    # 실시간 TOP 100 영화 링크 수집\n",
        "    url = \"https://serieson.naver.com/movie/top100List.nhn?&rankingTypeCode=PC_R&page=\" + str(pageNo + 1)\n",
        "    req =requests.get(url)      # 페이지 접속\n",
        "    soup =BeautifulSoup(req.text,'lxml')\n",
        "    movielinks = soup.select('div.lst_thum_wrap ul li a[href]') # <div class=\"lst_thum_wrap\"> -> <ul> -> <li> -> <a href =\"\">\n",
        "\n",
        "\n",
        "    for movielink in movielinks:\n",
        "      link = str(movielink.get('href'))\n",
        "      links.append(\"https://series.naver.com\" +link)\n",
        "  return links"
      ],
      "execution_count": 12,
      "outputs": []
    },
    {
      "cell_type": "markdown",
      "metadata": {
        "id": "_Tiip4lcwqbM"
      },
      "source": [
        "네이버 영화 제목, 평점, 장르, 줄거리 크롤링"
      ]
    },
    {
      "cell_type": "code",
      "metadata": {
        "id": "lXC6nB5EwqsZ"
      },
      "source": [
        "# 네이버 영화 정보 크롤링 함수\n",
        "def getMovieDataFromNaverSeries(links):\n",
        "  title_infos =[]     # 제목\n",
        "  content_infos = []  # 줄거리\n",
        "  genre_infos = []    # 장르\n",
        "  score_infos = []    # 평정\n",
        "  date_infos = []     # 개봉일\n",
        "  \n",
        "  url2 = \"https://www.naver.com\"\n",
        "\n",
        "  driver = webdriver.Chrome('chromedriver', options=options)\n",
        "  driver.get(url2)\n",
        "  time.sleep(3.0) # 3초 sleep\n",
        "\n",
        "  driver.find_element_by_css_selector('body').send_keys(Keys.CONTROL + \"t\")\n",
        "\n",
        "  for link in links:\n",
        "    print(link + ' 수집 중........')\n",
        "    driver.switch_to.window(driver.window_handles[-1])  # 새창 활성화\n",
        "    time.sleep(0.1)\n",
        "    driver.get(link)\n",
        "    time.sleep(0.1)\n",
        "    driver.switch_to.window(driver.window_handles[0])\n",
        "    time.sleep(0.3)\n",
        "\n",
        "    html_source = driver.page_source   # req.text 같은 동작\n",
        "\n",
        "    html_soup = BeautifulSoup(html_source, 'lxml')\n",
        "\n",
        "    flag = html_soup.text[0:10]\n",
        "    # 청소년관람불가 영화 크롤링 할 경우 -> 인증 -> 수집 제외\n",
        "    newflag = \"\".join(flag)\n",
        "    newflag = newflag.replace('\\n', '')\n",
        "\n",
        "    if newflag == '네이버':\n",
        "      time.sleep(1.0)\n",
        "\n",
        "      # 평점 수집\n",
        "      score = driver.find_element_by_css_selector('div.score_area > em ')\n",
        "      score = float(score.text)\n",
        "      score = int(score)\n",
        "      score_infos.append(score)\n",
        "      print(score)\n",
        "\n",
        "      # 장르 수집\n",
        "      genre = driver.find_element_by_css_selector('li.info_lst > ul > li:nth-child(4)').get_attribute('textContent')\n",
        "      genre = genre.replace('장르','')\n",
        "      genre = genre.replace('\\n','')\n",
        "      genre = genre.replace('\\t','')\n",
        "      genre_infos.append(genre)\n",
        "      print(genre)\n",
        "\n",
        "      #제목, 줄거리\n",
        "\n",
        "      try:\n",
        "        movieInfoUrl = driver.find_element_by_css_selector('li.info_lst > ul > li:nth-child(7) > a').get_attribute('href')\n",
        "        # 장르 수집 -> 장르 정보가 없어서, 6번째 except ->  공백으로 수집\n",
        "      except:\n",
        "        movieInfoUrl = driver.find_element_by_css_selector('li.info_lst > ul > li:nth-child(6) > a').get_attribute('href')\n",
        "      \n",
        "      # 영화 상세보기 페이지로 이동\n",
        "      movie_req = requests.get(movieInfoUrl)\n",
        "\n",
        "      # 제목 수집\n",
        "      movie_soup = BeautifulSoup(movie_req.text,'lxml')\n",
        "      title = movie_soup.head.find(\"meta\", {\"property\":\"og:title\"}).get('content')\n",
        "      title_infos.append(title)\n",
        "      print(title)\n",
        "\n",
        "      # 줄거리 수집\n",
        "      contents_texts =movie_soup.select('div.story_area > p.con_tx')\n",
        "\n",
        "      if len(contents_texts) == 0:\n",
        "        content_infos.append(\"줄거리 오류\")\n",
        "\n",
        "      else:\n",
        "        for contents in contents_texts:\n",
        "          #줄거리 데이터 클랜징 작업\n",
        "          temp = contents.text\n",
        "          temp = temp.replace('\\r','')   #줄바꿈 제거\n",
        "          temp = temp.replace('\\xa0', '')  # 공백제거\n",
        "          content_infos.append(temp)\n",
        "    elif newflag == '' : \n",
        "      print('청불 영화로 데이터 수집하지 않습니다.')\n",
        "  print('수집 완료 합니다.......')\n",
        "  print(len(score_infos), len(genre_infos), len(content_infos))\n",
        "  driver.close()\n",
        "\n",
        "  movie_dic = {\"제목\":title_infos, \"평점\": score_infos, \"장르\":genre_infos, \"줄거리\":content_infos}\n",
        "  \n",
        "  # 딕셔너리 -> DataFrame\n",
        "  movie_df = pd.DataFrame(movie_dic)\n",
        "\n",
        "  # 수집된 정보 중에 중복 데이터 삭제\n",
        "  movie_df2 = movie_df.drop_duplicates(\"줄거리\", keep = 'first') # 줄거리 비교해서, 중복된 영화를 삭제 (첫번쨰 수집 영화만 남김)\n",
        "\n",
        "  return movie_df2\n"
      ],
      "execution_count": 13,
      "outputs": []
    },
    {
      "cell_type": "markdown",
      "metadata": {
        "id": "ePgKMyiOKosb"
      },
      "source": [
        "csv 파일로 저장"
      ]
    },
    {
      "cell_type": "code",
      "metadata": {
        "id": "9pTJHB7aKqqc"
      },
      "source": [
        "def dftoCsv(movie_df,num):\n",
        "  try:\n",
        "    movie_df.to_csv(('movie_my_data_'+ str(num)+'.csv'),\n",
        "                    sep=',', na_rep='NaN', encoding='euc-kr') #utf-8 혹시 그래도 한글 깨지면  encoding='utf-8-sig'\n",
        "\n",
        "    print(\"Error\")"
      ],
      "execution_count": null,
      "outputs": []
    },
    {
      "cell_type": "markdown",
      "metadata": {
        "id": "EF4Bh5UxLfkL"
      },
      "source": [
        "크롤링 실행"
      ]
    },
    {
      "cell_type": "code",
      "metadata": {
        "id": "Bvm2jAGwLaxM"
      },
      "source": [
        "#1) 크롤링 할 링크 수집\n",
        "links = getPageLinksWantRange(1,5) \n",
        " \n",
        "#2) 영화 상세 정보 수집\n",
        "movie_df2 = getMovieDataFromNaverSeries(links)\n",
        "\n",
        "#3)  csv 파일 저장\n",
        "dftoCsv(movie_df2, len(movie_df2))"
      ],
      "execution_count": null,
      "outputs": []
    },
    {
      "cell_type": "markdown",
      "metadata": {
        "id": "2NhNg84xnPHt"
      },
      "source": [
        "데이터 준비하기"
      ]
    },
    {
      "cell_type": "code",
      "metadata": {
        "id": "S9HaOCEbDWSg"
      },
      "source": [
        "df = pd.read_csv('movie_my_data_75.csv', encoding ='euc-kr')\n",
        "df.info()"
      ],
      "execution_count": null,
      "outputs": []
    },
    {
      "cell_type": "code",
      "metadata": {
        "id": "Jg_bwOhxoRXB"
      },
      "source": [
        "import plotly.express as px\n",
        "fig = px.scatter(df, x='제목', y='평점', color='장르')\n",
        "fig.show()"
      ],
      "execution_count": null,
      "outputs": []
    },
    {
      "cell_type": "code",
      "metadata": {
        "id": "IIk6VfQ5pwLc"
      },
      "source": [
        "df_score = df[df.평점 == 9]\n",
        "df_score.tail()"
      ],
      "execution_count": null,
      "outputs": []
    },
    {
      "cell_type": "markdown",
      "metadata": {
        "id": "cu2EVrXdqAro"
      },
      "source": [
        "9점의 영화 중 가장 큰 비율을 차지하고 있는 장르는?"
      ]
    },
    {
      "cell_type": "code",
      "metadata": {
        "id": "fn1najT0qGqz"
      },
      "source": [
        "fig = px.pie(df_score,values='평점', names='장르')\n",
        "fig.show()"
      ],
      "execution_count": null,
      "outputs": []
    },
    {
      "cell_type": "markdown",
      "metadata": {
        "id": "Ewi04F7AqxdV"
      },
      "source": [
        "일간 TOP 100 시간화"
      ]
    },
    {
      "cell_type": "code",
      "metadata": {
        "id": "tGQE0XWCq10d"
      },
      "source": [
        "df2 = pd.read_csv('movie_my_data_75.csv', encoding ='euc-kr')\n",
        "df2.head()"
      ],
      "execution_count": null,
      "outputs": []
    },
    {
      "cell_type": "code",
      "metadata": {
        "id": "6IvnhiqwrHii"
      },
      "source": [
        "fig = px.bar(df2, x=\"제목\", y='평점',color='장르')\n",
        "fig.show()"
      ],
      "execution_count": null,
      "outputs": []
    },
    {
      "cell_type": "code",
      "metadata": {
        "id": "jMRh4lcirf7l"
      },
      "source": [
        "fig = px.pie(df2, values='평점', names='장르')\n",
        "fig.show()"
      ],
      "execution_count": null,
      "outputs": []
    },
    {
      "cell_type": "code",
      "metadata": {
        "id": "TTXQQg683Nuj"
      },
      "source": [
        "# 월간 분석\n",
        "df2 = pd.read_csv('movie_my_data_64_month.csv', encoding='euc-kr')\n",
        "df2.head()"
      ],
      "execution_count": null,
      "outputs": []
    }
  ]
}