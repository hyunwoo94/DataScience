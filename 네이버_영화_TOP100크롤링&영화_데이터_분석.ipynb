{
  "nbformat": 4,
  "nbformat_minor": 0,
  "metadata": {
    "colab": {
      "name": "네이버 영화 TOP100크롤링&영화 데이터 분석.ipynb",
      "provenance": [],
      "collapsed_sections": [],
      "authorship_tag": "ABX9TyO97ww3MOw/D0LAvHy9k2nC",
      "include_colab_link": true
    },
    "kernelspec": {
      "name": "python3",
      "display_name": "Python 3"
    },
    "language_info": {
      "name": "python"
    }
  },
  "cells": [
    {
      "cell_type": "markdown",
      "metadata": {
        "id": "view-in-github",
        "colab_type": "text"
      },
      "source": [
        "<a href=\"https://colab.research.google.com/github/hyunwoo94/DataScience/blob/main/%EB%84%A4%EC%9D%B4%EB%B2%84_%EC%98%81%ED%99%94_TOP100%ED%81%AC%EB%A1%A4%EB%A7%81%26%EC%98%81%ED%99%94_%EB%8D%B0%EC%9D%B4%ED%84%B0_%EB%B6%84%EC%84%9D.ipynb\" target=\"_parent\"><img src=\"https://colab.research.google.com/assets/colab-badge.svg\" alt=\"Open In Colab\"/></a>"
      ]
    },
    {
      "cell_type": "code",
      "metadata": {
        "colab": {
          "base_uri": "https://localhost:8080/"
        },
        "id": "KpcGlaxVntjf",
        "outputId": "4ad9395e-2a7f-4c10-b03d-8d4404198288"
      },
      "source": [
        "#링크 수집을 위한 라이브러리 탐색\n",
        "!pip install selenium"
      ],
      "execution_count": 2,
      "outputs": [
        {
          "output_type": "stream",
          "text": [
            "Collecting selenium\n",
            "\u001b[?25l  Downloading https://files.pythonhosted.org/packages/80/d6/4294f0b4bce4de0abf13e17190289f9d0613b0a44e5dd6a7f5ca98459853/selenium-3.141.0-py2.py3-none-any.whl (904kB)\n",
            "\r\u001b[K     |▍                               | 10kB 14.8MB/s eta 0:00:01\r\u001b[K     |▊                               | 20kB 19.5MB/s eta 0:00:01\r\u001b[K     |█                               | 30kB 22.5MB/s eta 0:00:01\r\u001b[K     |█▌                              | 40kB 25.4MB/s eta 0:00:01\r\u001b[K     |█▉                              | 51kB 28.1MB/s eta 0:00:01\r\u001b[K     |██▏                             | 61kB 25.2MB/s eta 0:00:01\r\u001b[K     |██▌                             | 71kB 26.5MB/s eta 0:00:01\r\u001b[K     |███                             | 81kB 25.8MB/s eta 0:00:01\r\u001b[K     |███▎                            | 92kB 27.0MB/s eta 0:00:01\r\u001b[K     |███▋                            | 102kB 24.9MB/s eta 0:00:01\r\u001b[K     |████                            | 112kB 24.9MB/s eta 0:00:01\r\u001b[K     |████▍                           | 122kB 24.9MB/s eta 0:00:01\r\u001b[K     |████▊                           | 133kB 24.9MB/s eta 0:00:01\r\u001b[K     |█████                           | 143kB 24.9MB/s eta 0:00:01\r\u001b[K     |█████▍                          | 153kB 24.9MB/s eta 0:00:01\r\u001b[K     |█████▉                          | 163kB 24.9MB/s eta 0:00:01\r\u001b[K     |██████▏                         | 174kB 24.9MB/s eta 0:00:01\r\u001b[K     |██████▌                         | 184kB 24.9MB/s eta 0:00:01\r\u001b[K     |██████▉                         | 194kB 24.9MB/s eta 0:00:01\r\u001b[K     |███████▎                        | 204kB 24.9MB/s eta 0:00:01\r\u001b[K     |███████▋                        | 215kB 24.9MB/s eta 0:00:01\r\u001b[K     |████████                        | 225kB 24.9MB/s eta 0:00:01\r\u001b[K     |████████▎                       | 235kB 24.9MB/s eta 0:00:01\r\u001b[K     |████████▊                       | 245kB 24.9MB/s eta 0:00:01\r\u001b[K     |█████████                       | 256kB 24.9MB/s eta 0:00:01\r\u001b[K     |█████████▍                      | 266kB 24.9MB/s eta 0:00:01\r\u001b[K     |█████████▉                      | 276kB 24.9MB/s eta 0:00:01\r\u001b[K     |██████████▏                     | 286kB 24.9MB/s eta 0:00:01\r\u001b[K     |██████████▌                     | 296kB 24.9MB/s eta 0:00:01\r\u001b[K     |██████████▉                     | 307kB 24.9MB/s eta 0:00:01\r\u001b[K     |███████████▎                    | 317kB 24.9MB/s eta 0:00:01\r\u001b[K     |███████████▋                    | 327kB 24.9MB/s eta 0:00:01\r\u001b[K     |████████████                    | 337kB 24.9MB/s eta 0:00:01\r\u001b[K     |████████████▎                   | 348kB 24.9MB/s eta 0:00:01\r\u001b[K     |████████████▊                   | 358kB 24.9MB/s eta 0:00:01\r\u001b[K     |█████████████                   | 368kB 24.9MB/s eta 0:00:01\r\u001b[K     |█████████████▍                  | 378kB 24.9MB/s eta 0:00:01\r\u001b[K     |█████████████▊                  | 389kB 24.9MB/s eta 0:00:01\r\u001b[K     |██████████████▏                 | 399kB 24.9MB/s eta 0:00:01\r\u001b[K     |██████████████▌                 | 409kB 24.9MB/s eta 0:00:01\r\u001b[K     |██████████████▉                 | 419kB 24.9MB/s eta 0:00:01\r\u001b[K     |███████████████▏                | 430kB 24.9MB/s eta 0:00:01\r\u001b[K     |███████████████▋                | 440kB 24.9MB/s eta 0:00:01\r\u001b[K     |████████████████                | 450kB 24.9MB/s eta 0:00:01\r\u001b[K     |████████████████▎               | 460kB 24.9MB/s eta 0:00:01\r\u001b[K     |████████████████▋               | 471kB 24.9MB/s eta 0:00:01\r\u001b[K     |█████████████████               | 481kB 24.9MB/s eta 0:00:01\r\u001b[K     |█████████████████▍              | 491kB 24.9MB/s eta 0:00:01\r\u001b[K     |█████████████████▊              | 501kB 24.9MB/s eta 0:00:01\r\u001b[K     |██████████████████▏             | 512kB 24.9MB/s eta 0:00:01\r\u001b[K     |██████████████████▌             | 522kB 24.9MB/s eta 0:00:01\r\u001b[K     |██████████████████▉             | 532kB 24.9MB/s eta 0:00:01\r\u001b[K     |███████████████████▏            | 542kB 24.9MB/s eta 0:00:01\r\u001b[K     |███████████████████▋            | 552kB 24.9MB/s eta 0:00:01\r\u001b[K     |████████████████████            | 563kB 24.9MB/s eta 0:00:01\r\u001b[K     |████████████████████▎           | 573kB 24.9MB/s eta 0:00:01\r\u001b[K     |████████████████████▋           | 583kB 24.9MB/s eta 0:00:01\r\u001b[K     |█████████████████████           | 593kB 24.9MB/s eta 0:00:01\r\u001b[K     |█████████████████████▍          | 604kB 24.9MB/s eta 0:00:01\r\u001b[K     |█████████████████████▊          | 614kB 24.9MB/s eta 0:00:01\r\u001b[K     |██████████████████████          | 624kB 24.9MB/s eta 0:00:01\r\u001b[K     |██████████████████████▌         | 634kB 24.9MB/s eta 0:00:01\r\u001b[K     |██████████████████████▉         | 645kB 24.9MB/s eta 0:00:01\r\u001b[K     |███████████████████████▏        | 655kB 24.9MB/s eta 0:00:01\r\u001b[K     |███████████████████████▌        | 665kB 24.9MB/s eta 0:00:01\r\u001b[K     |████████████████████████        | 675kB 24.9MB/s eta 0:00:01\r\u001b[K     |████████████████████████▎       | 686kB 24.9MB/s eta 0:00:01\r\u001b[K     |████████████████████████▋       | 696kB 24.9MB/s eta 0:00:01\r\u001b[K     |█████████████████████████       | 706kB 24.9MB/s eta 0:00:01\r\u001b[K     |█████████████████████████▍      | 716kB 24.9MB/s eta 0:00:01\r\u001b[K     |█████████████████████████▊      | 727kB 24.9MB/s eta 0:00:01\r\u001b[K     |██████████████████████████      | 737kB 24.9MB/s eta 0:00:01\r\u001b[K     |██████████████████████████▍     | 747kB 24.9MB/s eta 0:00:01\r\u001b[K     |██████████████████████████▉     | 757kB 24.9MB/s eta 0:00:01\r\u001b[K     |███████████████████████████▏    | 768kB 24.9MB/s eta 0:00:01\r\u001b[K     |███████████████████████████▌    | 778kB 24.9MB/s eta 0:00:01\r\u001b[K     |████████████████████████████    | 788kB 24.9MB/s eta 0:00:01\r\u001b[K     |████████████████████████████▎   | 798kB 24.9MB/s eta 0:00:01\r\u001b[K     |████████████████████████████▋   | 808kB 24.9MB/s eta 0:00:01\r\u001b[K     |█████████████████████████████   | 819kB 24.9MB/s eta 0:00:01\r\u001b[K     |█████████████████████████████▍  | 829kB 24.9MB/s eta 0:00:01\r\u001b[K     |█████████████████████████████▊  | 839kB 24.9MB/s eta 0:00:01\r\u001b[K     |██████████████████████████████  | 849kB 24.9MB/s eta 0:00:01\r\u001b[K     |██████████████████████████████▍ | 860kB 24.9MB/s eta 0:00:01\r\u001b[K     |██████████████████████████████▉ | 870kB 24.9MB/s eta 0:00:01\r\u001b[K     |███████████████████████████████▏| 880kB 24.9MB/s eta 0:00:01\r\u001b[K     |███████████████████████████████▌| 890kB 24.9MB/s eta 0:00:01\r\u001b[K     |███████████████████████████████▉| 901kB 24.9MB/s eta 0:00:01\r\u001b[K     |████████████████████████████████| 911kB 24.9MB/s \n",
            "\u001b[?25hRequirement already satisfied: urllib3 in /usr/local/lib/python3.7/dist-packages (from selenium) (1.24.3)\n",
            "Installing collected packages: selenium\n",
            "Successfully installed selenium-3.141.0\n"
          ],
          "name": "stdout"
        }
      ]
    },
    {
      "cell_type": "markdown",
      "metadata": {
        "id": "Y-GyQti4n7fS"
      },
      "source": [
        "라이브러리 임포트"
      ]
    },
    {
      "cell_type": "code",
      "metadata": {
        "id": "ARrMNQ3Pn6-s"
      },
      "source": [
        "from bs4 import BeautifulSoup\n",
        "import requests\n",
        "from selenium import webdriver as wd \n",
        "from selenium.webdriver.common.keys import Keys\n",
        "import time\n",
        "import re\n",
        "import pandas as pd"
      ],
      "execution_count": 3,
      "outputs": []
    },
    {
      "cell_type": "code",
      "metadata": {
        "colab": {
          "base_uri": "https://localhost:8080/"
        },
        "id": "Lf10V2g-oXC5",
        "outputId": "0047abd3-80bf-4489-8e5b-0334153edc9d"
      },
      "source": [
        "# install chromium, its driver, and selenium\n",
        "!apt-get update\n",
        "!apt install chromium-chromedriver\n",
        "!cp /usr/lib/chromium-browser/chromedriver /usr/bin\n",
        "!pip install selenium\n",
        "# set options to be headless, ..\n",
        "from selenium import webdriver\n",
        "options = webdriver.ChromeOptions()\n",
        "options.add_argument('--headless')\n",
        "options.add_argument('--no-sandbox')\n",
        "options.add_argument('--disable-dev-shm-usage')\n",
        "\n",
        "driver = webdriver.Chrome('chromedriver',options=options)\n"
      ],
      "execution_count": 4,
      "outputs": [
        {
          "output_type": "stream",
          "text": [
            "\r0% [Working]\r            \rGet:1 http://security.ubuntu.com/ubuntu bionic-security InRelease [88.7 kB]\n",
            "\r0% [Connecting to archive.ubuntu.com (91.189.88.142)] [1 InRelease 14.2 kB/88.7\r0% [Connecting to archive.ubuntu.com (91.189.88.142)] [Waiting for headers] [Co\r0% [1 InRelease gpgv 88.7 kB] [Waiting for headers] [Waiting for headers] [Wait\r                                                                               \rIgn:2 https://developer.download.nvidia.com/compute/cuda/repos/ubuntu1804/x86_64  InRelease\n",
            "\r0% [1 InRelease gpgv 88.7 kB] [Waiting for headers] [Waiting for headers] [Wait\r                                                                               \rHit:3 https://cloud.r-project.org/bin/linux/ubuntu bionic-cran40/ InRelease\n",
            "\r0% [1 InRelease gpgv 88.7 kB] [Waiting for headers] [Waiting for headers] [Wait\r                                                                               \rHit:4 http://archive.ubuntu.com/ubuntu bionic InRelease\n",
            "Hit:5 http://ppa.launchpad.net/c2d4u.team/c2d4u4.0+/ubuntu bionic InRelease\n",
            "Ign:6 https://developer.download.nvidia.com/compute/machine-learning/repos/ubuntu1804/x86_64  InRelease\n",
            "Get:7 https://developer.download.nvidia.com/compute/cuda/repos/ubuntu1804/x86_64  Release [697 B]\n",
            "Hit:8 https://developer.download.nvidia.com/compute/machine-learning/repos/ubuntu1804/x86_64  Release\n",
            "Get:9 https://developer.download.nvidia.com/compute/cuda/repos/ubuntu1804/x86_64  Release.gpg [836 B]\n",
            "Get:10 http://archive.ubuntu.com/ubuntu bionic-updates InRelease [88.7 kB]\n",
            "Hit:11 http://ppa.launchpad.net/cran/libgit2/ubuntu bionic InRelease\n",
            "Get:12 http://ppa.launchpad.net/deadsnakes/ppa/ubuntu bionic InRelease [15.9 kB]\n",
            "Get:13 http://security.ubuntu.com/ubuntu bionic-security/universe amd64 Packages [1,418 kB]\n",
            "Get:14 http://archive.ubuntu.com/ubuntu bionic-backports InRelease [74.6 kB]\n",
            "Get:15 http://security.ubuntu.com/ubuntu bionic-security/restricted amd64 Packages [473 kB]\n",
            "Get:16 http://security.ubuntu.com/ubuntu bionic-security/main amd64 Packages [2,219 kB]\n",
            "Get:17 http://ppa.launchpad.net/graphics-drivers/ppa/ubuntu bionic InRelease [21.3 kB]\n",
            "Ign:19 https://developer.download.nvidia.com/compute/cuda/repos/ubuntu1804/x86_64  Packages\n",
            "Get:19 https://developer.download.nvidia.com/compute/cuda/repos/ubuntu1804/x86_64  Packages [599 kB]\n",
            "Get:20 http://archive.ubuntu.com/ubuntu bionic-updates/universe amd64 Packages [2,188 kB]\n",
            "Get:21 http://archive.ubuntu.com/ubuntu bionic-updates/restricted amd64 Packages [505 kB]\n",
            "Get:22 http://archive.ubuntu.com/ubuntu bionic-updates/main amd64 Packages [2,652 kB]\n",
            "Get:23 http://ppa.launchpad.net/deadsnakes/ppa/ubuntu bionic/main amd64 Packages [40.9 kB]\n",
            "Get:24 http://ppa.launchpad.net/graphics-drivers/ppa/ubuntu bionic/main amd64 Packages [41.5 kB]\n",
            "Fetched 10.4 MB in 4s (2,696 kB/s)\n",
            "Reading package lists... Done\n",
            "Reading package lists... Done\n",
            "Building dependency tree       \n",
            "Reading state information... Done\n",
            "The following additional packages will be installed:\n",
            "  chromium-browser chromium-browser-l10n chromium-codecs-ffmpeg-extra\n",
            "Suggested packages:\n",
            "  webaccounts-chromium-extension unity-chromium-extension\n",
            "The following NEW packages will be installed:\n",
            "  chromium-browser chromium-browser-l10n chromium-chromedriver\n",
            "  chromium-codecs-ffmpeg-extra\n",
            "0 upgraded, 4 newly installed, 0 to remove and 70 not upgraded.\n",
            "Need to get 86.0 MB of archives.\n",
            "After this operation, 298 MB of additional disk space will be used.\n",
            "Get:1 http://archive.ubuntu.com/ubuntu bionic-updates/universe amd64 chromium-codecs-ffmpeg-extra amd64 91.0.4472.101-0ubuntu0.18.04.1 [1,124 kB]\n",
            "Get:2 http://archive.ubuntu.com/ubuntu bionic-updates/universe amd64 chromium-browser amd64 91.0.4472.101-0ubuntu0.18.04.1 [76.1 MB]\n",
            "Get:3 http://archive.ubuntu.com/ubuntu bionic-updates/universe amd64 chromium-browser-l10n all 91.0.4472.101-0ubuntu0.18.04.1 [3,937 kB]\n",
            "Get:4 http://archive.ubuntu.com/ubuntu bionic-updates/universe amd64 chromium-chromedriver amd64 91.0.4472.101-0ubuntu0.18.04.1 [4,837 kB]\n",
            "Fetched 86.0 MB in 3s (28.1 MB/s)\n",
            "Selecting previously unselected package chromium-codecs-ffmpeg-extra.\n",
            "(Reading database ... 160772 files and directories currently installed.)\n",
            "Preparing to unpack .../chromium-codecs-ffmpeg-extra_91.0.4472.101-0ubuntu0.18.04.1_amd64.deb ...\n",
            "Unpacking chromium-codecs-ffmpeg-extra (91.0.4472.101-0ubuntu0.18.04.1) ...\n",
            "Selecting previously unselected package chromium-browser.\n",
            "Preparing to unpack .../chromium-browser_91.0.4472.101-0ubuntu0.18.04.1_amd64.deb ...\n",
            "Unpacking chromium-browser (91.0.4472.101-0ubuntu0.18.04.1) ...\n",
            "Selecting previously unselected package chromium-browser-l10n.\n",
            "Preparing to unpack .../chromium-browser-l10n_91.0.4472.101-0ubuntu0.18.04.1_all.deb ...\n",
            "Unpacking chromium-browser-l10n (91.0.4472.101-0ubuntu0.18.04.1) ...\n",
            "Selecting previously unselected package chromium-chromedriver.\n",
            "Preparing to unpack .../chromium-chromedriver_91.0.4472.101-0ubuntu0.18.04.1_amd64.deb ...\n",
            "Unpacking chromium-chromedriver (91.0.4472.101-0ubuntu0.18.04.1) ...\n",
            "Setting up chromium-codecs-ffmpeg-extra (91.0.4472.101-0ubuntu0.18.04.1) ...\n",
            "Setting up chromium-browser (91.0.4472.101-0ubuntu0.18.04.1) ...\n",
            "update-alternatives: using /usr/bin/chromium-browser to provide /usr/bin/x-www-browser (x-www-browser) in auto mode\n",
            "update-alternatives: using /usr/bin/chromium-browser to provide /usr/bin/gnome-www-browser (gnome-www-browser) in auto mode\n",
            "Setting up chromium-chromedriver (91.0.4472.101-0ubuntu0.18.04.1) ...\n",
            "Setting up chromium-browser-l10n (91.0.4472.101-0ubuntu0.18.04.1) ...\n",
            "Processing triggers for man-db (2.8.3-2ubuntu0.1) ...\n",
            "Processing triggers for hicolor-icon-theme (0.17-2) ...\n",
            "Processing triggers for mime-support (3.60ubuntu1) ...\n",
            "Processing triggers for libc-bin (2.27-3ubuntu1.2) ...\n",
            "/sbin/ldconfig.real: /usr/local/lib/python3.7/dist-packages/ideep4py/lib/libmkldnn.so.0 is not a symbolic link\n",
            "\n",
            "cp: '/usr/lib/chromium-browser/chromedriver' and '/usr/bin/chromedriver' are the same file\n",
            "Requirement already satisfied: selenium in /usr/local/lib/python3.7/dist-packages (3.141.0)\n",
            "Requirement already satisfied: urllib3 in /usr/local/lib/python3.7/dist-packages (from selenium) (1.24.3)\n"
          ],
          "name": "stdout"
        }
      ]
    },
    {
      "cell_type": "markdown",
      "metadata": {
        "id": "EuPHLUKdr-N1"
      },
      "source": [
        "분석할 데이터 모으기(크롤링)"
      ]
    },
    {
      "cell_type": "markdown",
      "metadata": {
        "id": "E2F6fGtOsB5G"
      },
      "source": [
        "네이버 영화 TOP100 페이지 별 링크 수집"
      ]
    },
    {
      "cell_type": "code",
      "metadata": {
        "id": "Ibp0dTrPsFBz"
      },
      "source": [
        "#https://serieson.naver.com/movie/top100List.nhn?&rankingTypeCode=PC_R&page= 실시간\n",
        "#https://serieson.naver.com/movie/top100List.nhn?&rankingTypeCode=PC_R&page= 일간\n",
        "#https://serieson.naver.com/movie/top100List.nhn?&rankingTypeCode=PC_R&page= 주간\n",
        "#https://serieson.naver.com/movie/top100List.nhn?&rankingTypeCode=PC_R&page= 월간\n",
        "#https://serieson.naver.com/movie/top100List.nhn?&rankingTypeCode=PC_R&page=\n",
        "\n",
        "def getPageLinksWantRange(startPageNo, lastPageNo) :\n",
        "  links = []        #100개의 영화 링크를 수집할 리스트 변수 선언\n",
        "  return_links =[]\n",
        "  \n",
        "  for pageNo in range(startPageNo -1, lastPageNo) :\n",
        "    # 실시간 TOP 100 영화 링크 수집\n",
        "    url = \"https://serieson.naver.com/movie/top100List.nhn?&rankingTypeCode=PC_R&page=\" + str(pageNo + 1)\n",
        "    req =requests.get(url)      # 페이지 접속\n",
        "    soup =BeautifulSoup(req.text,'lxml')\n",
        "    movielinks = soup.select('div.lst_thum_wrap ul li a[href]') # <div class=\"lst_thum_wrap\"> -> <ul> -> <li> -> <a href =\"\">\n",
        "\n",
        "\n",
        "    for movielink in movielinks:\n",
        "      link = str(movielink.get('href'))\n",
        "      links.append(\"https://series.naver.com\" +link)\n",
        "  return links"
      ],
      "execution_count": 12,
      "outputs": []
    },
    {
      "cell_type": "markdown",
      "metadata": {
        "id": "_Tiip4lcwqbM"
      },
      "source": [
        "네이버 영화 제목, 평점, 장르, 줄거리 크롤링"
      ]
    },
    {
      "cell_type": "code",
      "metadata": {
        "id": "lXC6nB5EwqsZ"
      },
      "source": [
        "# 네이버 영화 정보 크롤링 함수\n",
        "def getMovieDataFromNaverSeries(links):\n",
        "  title_infos =[]     # 제목\n",
        "  content_infos = []  # 줄거리\n",
        "  genre_infos = []    # 장르\n",
        "  score_infos = []    # 평정\n",
        "  date_infos = []     # 개봉일\n",
        "  \n",
        "  url2 = \"https://www.naver.com\"\n",
        "\n",
        "  driver = webdriver.Chrome('chromedriver', options=options)\n",
        "  driver.get(url2)\n",
        "  time.sleep(3.0) # 3초 sleep\n",
        "\n",
        "  driver.find_element_by_css_selector('body').send_keys(Keys.CONTROL + \"t\")\n",
        "\n",
        "  for link in links:\n",
        "    print(link + ' 수집 중........')\n",
        "    driver.switch_to.window(driver.window_handles[-1])  # 새창 활성화\n",
        "    time.sleep(0.1)\n",
        "    driver.get(link)\n",
        "    time.sleep(0.1)\n",
        "    driver.switch_to.window(driver.window_handles[0])\n",
        "    time.sleep(0.3)\n",
        "\n",
        "    html_source = driver.page_source   # req.text 같은 동작\n",
        "\n",
        "    html_soup = BeautifulSoup(html_source, 'lxml')\n",
        "\n",
        "    flag = html_soup.text[0:10]\n",
        "    # 청소년관람불가 영화 크롤링 할 경우 -> 인증 -> 수집 제외\n",
        "    newflag = \"\".join(flag)\n",
        "    newflag = newflag.replace('\\n', '')\n",
        "\n",
        "    if newflag == '네이버':\n",
        "      time.sleep(1.0)\n",
        "\n",
        "      # 평점 수집\n",
        "      score = driver.find_element_by_css_selector('div.score_area > em ')\n",
        "      score = float(score.text)\n",
        "      score = int(score)\n",
        "      score_infos.append(score)\n",
        "      print(score)\n",
        "\n",
        "      # 장르 수집\n",
        "      genre = driver.find_element_by_css_selector('li.info_lst > ul > li:nth-child(4)').get_attribute('textContent')\n",
        "      genre = genre.replace('장르','')\n",
        "      genre = genre.replace('\\n','')\n",
        "      genre = genre.replace('\\t','')\n",
        "      genre_infos.append(genre)\n",
        "      print(genre)\n",
        "\n",
        "      #제목, 줄거리\n",
        "\n",
        "      try:\n",
        "        movieInfoUrl = driver.find_element_by_css_selector('li.info_lst > ul > li:nth-child(7) > a').get_attribute('href')\n",
        "      except:\n",
        "        movieInfoUrl = driver.find_element_by_css_selector('li.info_lst > ul > li:nth-child(6) > a').get_attribute('href')\n",
        "      \n",
        "      # 영화 상세보기 페이지로 이동\n",
        "      movie_req = requests.get(movieInfoUrl)\n",
        "\n",
        "      # 제목 수집\n",
        "      movie_soup = BeautifulSoup(movie_req.text,'lxml')\n",
        "      title = movie_soup.head.find(\"meta\", {\"property\":\"og:title\"}).get('content')\n",
        "      title_infos.append(title)\n",
        "      print(title)\n",
        "\n",
        "      # 줄거리 수집\n",
        "      contents_texts =movie_soup.select('div.story_area > p.con_tx')\n",
        "\n",
        "      if len(contents_texts) == 0:\n",
        "        content_infos.append(\"줄거리 오류\")\n",
        "\n",
        "      else:\n",
        "        for contents in contents_texts:\n",
        "          #줄거리 데이터 클랜징 작업\n",
        "          temp = contents.text\n",
        "          temp = temp.replace('\\r','')   #줄바꿈 제거\n",
        "          temp = temp.replace('\\xa0', '')  # 공백제거\n",
        "          content_infos.append(temp)\n",
        "    elif newflag == '' : \n",
        "      print('청불 영화로 데이터 수집하지 않습니다.')\n",
        "  print('수집 완료 합니다.......')\n",
        "  print(len(score_infos), len(genre_infos), len(content_infos))\n",
        "  driver.close()\n",
        "\n",
        "  movie_dic = {\"제목\":title_infos, \"평점\": score_infos, \"장르\":genre_infos, \"줄거리\":content_infos}\n",
        "  \n",
        "  # 딕셔너리 -> DataFrame\n",
        "  movie_df = pd.DataFrame(movie_dic)\n",
        "\n",
        "  # 수집된 정보 중에 중복 데이터 삭제\n",
        "  movie_df2 = movie_df.drop_duplicates(\"줄거리\", keep = 'first') # 줄거리 비교해서, 중복된 영화를 삭제 (첫번쨰 수집 영화만 남김)\n",
        "\n",
        "  return movie_df2\n"
      ],
      "execution_count": 13,
      "outputs": []
    },
    {
      "cell_type": "markdown",
      "metadata": {
        "id": "ePgKMyiOKosb"
      },
      "source": [
        "csv 파일로 저장"
      ]
    },
    {
      "cell_type": "code",
      "metadata": {
        "id": "9pTJHB7aKqqc"
      },
      "source": [
        "def dftoCsv(movie_df,num):\n",
        "  try:\n",
        "    movie_df.to_csv(('movie_my_data_'+ str(num)+'.csv'),\n",
        "                    sep=',', na_rep='NaN', encoding='euc-kr') #utf-8 혹시 그래도 한글 깨지면  encoding='utf-8-sig'\n",
        "\n",
        "    print(\"Error\")"
      ],
      "execution_count": null,
      "outputs": []
    },
    {
      "cell_type": "markdown",
      "metadata": {
        "id": "EF4Bh5UxLfkL"
      },
      "source": [
        "크롤링 실행"
      ]
    },
    {
      "cell_type": "code",
      "metadata": {
        "id": "Bvm2jAGwLaxM"
      },
      "source": [
        "#1) 크롤링 할 링크 수집\n",
        "links = getPageLinksWantRange(1,5) \n",
        " \n",
        "#2) 영화 상세 정보 수집\n",
        "movie_df2 = getMovieDataFromNaverSeries(links)\n",
        "\n",
        "#3)  csv 파일 저장\n",
        "dftoCsv(movie_df2, len(movie_df2))"
      ],
      "execution_count": null,
      "outputs": []
    },
    {
      "cell_type": "markdown",
      "metadata": {
        "id": "2NhNg84xnPHt"
      },
      "source": [
        "데이터 준비하기"
      ]
    },
    {
      "cell_type": "code",
      "metadata": {
        "id": "S9HaOCEbDWSg",
        "colab": {
          "base_uri": "https://localhost:8080/"
        },
        "outputId": "9deb550d-2a4f-468b-9e73-43e47333c8cf"
      },
      "source": [
        "df = pd.read_csv('movie_my_data_75.csv', encoding ='euc-kr')\n",
        "df.info()"
      ],
      "execution_count": 19,
      "outputs": [
        {
          "output_type": "stream",
          "text": [
            "<class 'pandas.core.frame.DataFrame'>\n",
            "RangeIndex: 75 entries, 0 to 74\n",
            "Data columns (total 5 columns):\n",
            " #   Column      Non-Null Count  Dtype \n",
            "---  ------      --------------  ----- \n",
            " 0   Unnamed: 0  75 non-null     int64 \n",
            " 1   제목          75 non-null     object\n",
            " 2   평점          75 non-null     int64 \n",
            " 3   장르          75 non-null     object\n",
            " 4   줄거리         75 non-null     object\n",
            "dtypes: int64(2), object(3)\n",
            "memory usage: 3.1+ KB\n"
          ],
          "name": "stdout"
        }
      ]
    },
    {
      "cell_type": "code",
      "metadata": {
        "colab": {
          "base_uri": "https://localhost:8080/",
          "height": 542
        },
        "id": "Jg_bwOhxoRXB",
        "outputId": "92959b6f-b1cf-41ca-a320-328d945b6573"
      },
      "source": [
        "import plotly.express as px\n",
        "fig = px.scatter(df, x='제목', y='평점', color='장르')\n",
        "fig.show()"
      ],
      "execution_count": 21,
      "outputs": [
        {
          "output_type": "display_data",
          "data": {
            "text/html": [
              "<html>\n",
              "<head><meta charset=\"utf-8\" /></head>\n",
              "<body>\n",
              "    <div>\n",
              "            <script src=\"https://cdnjs.cloudflare.com/ajax/libs/mathjax/2.7.5/MathJax.js?config=TeX-AMS-MML_SVG\"></script><script type=\"text/javascript\">if (window.MathJax) {MathJax.Hub.Config({SVG: {font: \"STIX-Web\"}});}</script>\n",
              "                <script type=\"text/javascript\">window.PlotlyConfig = {MathJaxConfig: 'local'};</script>\n",
              "        <script src=\"https://cdn.plot.ly/plotly-latest.min.js\"></script>    \n",
              "            <div id=\"6b4d22f0-e9c6-4fa4-a003-f47fba30579f\" class=\"plotly-graph-div\" style=\"height:525px; width:100%;\"></div>\n",
              "            <script type=\"text/javascript\">\n",
              "                \n",
              "                    window.PLOTLYENV=window.PLOTLYENV || {};\n",
              "                    \n",
              "                if (document.getElementById(\"6b4d22f0-e9c6-4fa4-a003-f47fba30579f\")) {\n",
              "                    Plotly.newPlot(\n",
              "                        '6b4d22f0-e9c6-4fa4-a003-f47fba30579f',\n",
              "                        [{\"hoverlabel\": {\"namelength\": 0}, \"hovertemplate\": \"\\uc7a5\\ub974=\\uacf5\\ud3ec/\\uc2a4\\ub9b4\\ub7ec<br>\\uc81c\\ubaa9=%{x}<br>\\ud3c9\\uc810=%{y}\", \"legendgroup\": \"\\uc7a5\\ub974=\\uacf5\\ud3ec/\\uc2a4\\ub9b4\\ub7ec\", \"marker\": {\"color\": \"#636efa\", \"symbol\": \"circle\"}, \"mode\": \"markers\", \"name\": \"\\uc7a5\\ub974=\\uacf5\\ud3ec/\\uc2a4\\ub9b4\\ub7ec\", \"showlegend\": true, \"type\": \"scatter\", \"x\": [\"\\ucf70\\uc774\\uc5b4\\ud2b8 \\ud50c\\ub808\\uc774\\uc2a4\", \"\\ub354 \\uc2a4\\ud30c\\uc774\", \"\\ub0b4\\uc77c\\uc758 \\uae30\\uc5b5\", \"\\uc560\\ub4dc \\uc544\\uc2a4\\ud2b8\\ub77c\", \"\\uc5b4\\uc2a4\", \"\\uae30\\uc5b5\\uc758 \\ubc24\", \"\\ud0c0\\uc784 \\ud328\\ub7ec\\ub3c5\\uc2a4\"], \"xaxis\": \"x\", \"y\": [7, 8, 7, 7, 6, 8, 8], \"yaxis\": \"y\"}, {\"hoverlabel\": {\"namelength\": 0}, \"hovertemplate\": \"\\uc7a5\\ub974=\\uc560\\ub2c8\\uba54\\uc774\\uc158<br>\\uc81c\\ubaa9=%{x}<br>\\ud3c9\\uc810=%{y}\", \"legendgroup\": \"\\uc7a5\\ub974=\\uc560\\ub2c8\\uba54\\uc774\\uc158\", \"marker\": {\"color\": \"#EF553B\", \"symbol\": \"circle\"}, \"mode\": \"markers\", \"name\": \"\\uc7a5\\ub974=\\uc560\\ub2c8\\uba54\\uc774\\uc158\", \"showlegend\": true, \"type\": \"scatter\", \"x\": [\"\\uadf9\\uc7a5\\ud310 \\uadc0\\uba78\\uc758 \\uce7c\\ub0a0: \\ubb34\\ud55c\\uc5f4\\ucc28\\ud3b8\", \"\\uc18c\\uc6b8\", \"\\ub77c\\uc57c\\uc640 \\ub9c8\\uc9c0\\ub9c9 \\ub4dc\\ub798\\uace4\"], \"xaxis\": \"x\", \"y\": [9, 9, 9], \"yaxis\": \"y\"}, {\"hoverlabel\": {\"namelength\": 0}, \"hovertemplate\": \"\\uc7a5\\ub974=\\uc561\\uc158<br>\\uc81c\\ubaa9=%{x}<br>\\ud3c9\\uc810=%{y}\", \"legendgroup\": \"\\uc7a5\\ub974=\\uc561\\uc158\", \"marker\": {\"color\": \"#00cc96\", \"symbol\": \"circle\"}, \"mode\": \"markers\", \"name\": \"\\uc7a5\\ub974=\\uc561\\uc158\", \"showlegend\": true, \"type\": \"scatter\", \"x\": [\"\\ud0ac\\ub7ec\\uc758 \\ubcf4\\ub514\\uac00\\ub4dc\", \"\\ud30c\\uc774\\ud504\\ub77c\\uc778\", \"\\ud06c\\ub8e8\\uc988 \\ud328\\ubc00\\ub9ac: \\ub274 \\uc5d0\\uc774\\uc9c0\", \"\\ub178\\ubc14\\ub514 \", \"\\ud14c\\ub137\", \"\\uaca8\\uc6b8\\uc655\\uad6d 2\", \"\\uc5b4\\ubca4\\uc838\\uc2a4: \\uc5d4\\ub4dc\\uac8c\\uc784\", \"\\ub808\\ub514 \\ud50c\\ub808\\uc774\\uc5b4 \\uc6d0\", \"\\ubd84\\ub178\\uc758 \\uc9c8\\uc8fc: \\ub354 \\uc138\\ube10\", \"\\ud5dd\\uac70\\uac8c\\uc784:\\ubaa8\\ud0b9\\uc81c\\uc774\", \"\\ubcbc\\ub791 \\uc704\\uc758 \\ud3ec\\ub1e8\", \"\\ud0dc\\uadf9\\uae30 \\ud718\\ub0a0\\ub9ac\\uba70\", \"\\ub77c\\uc774\\ub354\\uc2a4 \\uc624\\ube0c \\uc800\\uc2a4\\ud2f0\\uc2a4\", \"\\ub3c4\\uad74\", \"\\uc544\\uc6c3\\ud3ec\\uc2a4\\ud2b8\", \"\\ud130\\ubbf8\\ub124\\uc774\\ud130: \\ub2e4\\ud06c \\ud398\\uc774\\ud2b8\", \"\\ubd84\\ub178\\uc758 \\uc9c8\\uc8fc: \\ud649\\uc2a4&\\uc1fc\", \"\\ud1a0\\uc774 \\uc2a4\\ud1a0\\ub9ac 4\", \"\\uc564\\ud2b8\\ub9e8\\uacfc \\uc640\\uc2a4\\ud504\", \"\\uc624\\uc158\\uc2a48\", \"\\ud1a0\\ub974: \\ub77c\\uadf8\\ub098\\ub85c\\ud06c\", \"\\uc81c\\uc774\\uc2a8 \\ubcf8\", \"\\uba54\\uc774\\uc988 \\ub7ec\\ub108: \\uc2a4\\ucf54\\uce58 \\ud2b8\\ub77c\\uc774\\uc5bc\", \"\\ub098\\uc6b0 \\uc720 \\uc528 \\ubbf8 : \\ub9c8\\uc220\\uc0ac\\uae30\\ub2e8\", \"\\uc544\\uc774\\uc5b8\\ub9e8 2\", \"\\uc774\\ud0dc\\uc6d0 \\uc0b4\\uc778\\uc0ac\\uac74\", \"\\ubd84\\ub178\\uc758 \\uc9c8\\uc8fc: \\ub354 \\uc624\\ub9ac\\uc9c0\\ub110\", \"\\ub77c\\ub530\\ub69c\\uc774\", \"\\ud574\\ub9ac \\ud3ec\\ud130\\uc640 \\ubd88\\uc0ac\\uc870 \\uae30\\uc0ac\\ub2e8\", \"\\ud574\\ub9ac \\ud3ec\\ud130\\uc640 \\ubd88\\uc758 \\uc794\", \"\\ud0b9\\ub364 \\uc624\\ube0c \\ud5e4\\ube10\"], \"xaxis\": \"x\", \"y\": [8, 6, 9, 8, 8, 8, 9, 8, 9, 7, 8, 9, 7, 7, 8, 8, 7, 9, 8, 7, 8, 8, 8, 8, 7, 5, 8, 9, 7, 8, 8], \"yaxis\": \"y\"}, {\"hoverlabel\": {\"namelength\": 0}, \"hovertemplate\": \"\\uc7a5\\ub974=\\ub4dc\\ub77c\\ub9c8<br>\\uc81c\\ubaa9=%{x}<br>\\ud3c9\\uc810=%{y}\", \"legendgroup\": \"\\uc7a5\\ub974=\\ub4dc\\ub77c\\ub9c8\", \"marker\": {\"color\": \"#ab63fa\", \"symbol\": \"circle\"}, \"mode\": \"markers\", \"name\": \"\\uc7a5\\ub974=\\ub4dc\\ub77c\\ub9c8\", \"showlegend\": true, \"type\": \"scatter\", \"x\": [\"\\ud06c\\ub8e8\\uc5d8\\ub77c\", \"\\ub77c\\ub77c\\ub79c\\ub4dc\", \"\\uc870\\ucee4\", \"\\uc790\\uc0b0\\uc5b4\\ubcf4\", \"\\ubbf8\\ub098\\ub9ac\", \"\\uc704\\ub300\\ud55c \\uc1fc\\ub9e8\", \"\\uc2a4\\ud0c0 \\uc774\\uc988 \\ubcf8\", \"\\uace1\\uc131(\\u54ed\\u8072)\", \"\\ube44\\uc640 \\ub2f9\\uc2e0\\uc758 \\uc774\\uc57c\\uae30\", \"\\ub0b4 \\uc0ac\\ub791\", \"\\ub108\\uc758 \\uc774\\ub984\\uc740.\", \"\\ubc14\\ub2f7\\ub9c8\\uc744 \\ub2e4\\uc774\\uc5b4\\ub9ac\", \"\\uc544\\ub378\\ub77c\\uc778 : \\uba48\\ucdb0\\uc9c4 \\uc2dc\\uac04\", \"\\ubcc0\\ud638\\uc778\", \"\\uadf8\\ub798\\ube44\\ud2f0\", \"\\uace0\\ub839\\ud654 \\uac00\\uc871\", \"\\uc9c4\\uc9dc\\ub85c \\uc77c\\uc5b4\\ub0a0\\uc9c0\\ub3c4 \\ubab0\\ub77c \\uae30\\uc801\", \"\\uc138\\uc0c1\\uc5d0\\uc11c \\uac00\\uc7a5 \\uc544\\ub984\\ub2e4\\uc6b4 \\uc774\\ubcc4\", \"\\uac78\\uc5b4\\ub3c4 \\uac78\\uc5b4\\ub3c4\", \"\\ub85c\\ub098\\uc758 \\uce68\\ubb35\", \"\\ub9d0\\ud560 \\uc218 \\uc5c6\\ub294 \\ube44\\ubc00\", \"\\uc2dc\\uac04\\uc744 \\ub2ec\\ub9ac\\ub294 \\uc18c\\ub140\", \"\\uc774\\ud130\\ub110 \\uc120\\uc0e4\\uc778\"], \"xaxis\": \"x\", \"y\": [9, 8, 8, 9, 7, 9, 9, 7, 6, 9, 8, 8, 8, 9, 8, 8, 8, 9, 8, 8, 9, 9, 9], \"yaxis\": \"y\"}, {\"hoverlabel\": {\"namelength\": 0}, \"hovertemplate\": \"\\uc7a5\\ub974=\\ucf54\\ubbf8\\ub514<br>\\uc81c\\ubaa9=%{x}<br>\\ud3c9\\uc810=%{y}\", \"legendgroup\": \"\\uc7a5\\ub974=\\ucf54\\ubbf8\\ub514\", \"marker\": {\"color\": \"#FFA15A\", \"symbol\": \"circle\"}, \"mode\": \"markers\", \"name\": \"\\uc7a5\\ub974=\\ucf54\\ubbf8\\ub514\", \"showlegend\": true, \"type\": \"scatter\", \"x\": [\"\\uae30\\ucfe0\\uc9c0\\ub85c\\uc758 \\uc5ec\\ub984\", \"\\ub0b4 \\uc774\\uc57c\\uae30!!\", \"\\uc778\\uc0ac\\uc774\\ub4dc \\uc544\\uc6c3\", \"\\ube44\\uae34 \\uc5b4\\uac8c\\uc778\", \"\\ud504\\ub780\\uc2dc\\uc2a4 \\ud558\", \"\\uc5b8\\ud130\\ucc98\\ube14: 1%\\uc758 \\uc6b0\\uc815\", \"500\\uc77c\\uc758 \\uc378\\uba38\", \"\\uc26c\\uc988 \\ub354 \\ub9e8\"], \"xaxis\": \"x\", \"y\": [8, 9, 9, 9, 8, 9, 8, 8], \"yaxis\": \"y\"}, {\"hoverlabel\": {\"namelength\": 0}, \"hovertemplate\": \"\\uc7a5\\ub974=SF/\\ud310\\ud0c0\\uc9c0<br>\\uc81c\\ubaa9=%{x}<br>\\ud3c9\\uc810=%{y}\", \"legendgroup\": \"\\uc7a5\\ub974=SF/\\ud310\\ud0c0\\uc9c0\", \"marker\": {\"color\": \"#19d3f3\", \"symbol\": \"circle\"}, \"mode\": \"markers\", \"name\": \"\\uc7a5\\ub974=SF/\\ud310\\ud0c0\\uc9c0\", \"showlegend\": true, \"type\": \"scatter\", \"x\": [\"\\ub9cc\\ub378\\ub77c \\uc774\\ud399\\ud2b8\"], \"xaxis\": \"x\", \"y\": [9], \"yaxis\": \"y\"}, {\"hoverlabel\": {\"namelength\": 0}, \"hovertemplate\": \"\\uc7a5\\ub974=\\ub2e4\\ud050\\uba58\\ud130\\ub9ac<br>\\uc81c\\ubaa9=%{x}<br>\\ud3c9\\uc810=%{y}\", \"legendgroup\": \"\\uc7a5\\ub974=\\ub2e4\\ud050\\uba58\\ud130\\ub9ac\", \"marker\": {\"color\": \"#FF6692\", \"symbol\": \"circle\"}, \"mode\": \"markers\", \"name\": \"\\uc7a5\\ub974=\\ub2e4\\ud050\\uba58\\ud130\\ub9ac\", \"showlegend\": true, \"type\": \"scatter\", \"x\": [\"\\ubc25\\uc815\", \"\\ud53c\\uc544\\ub2c8\\uc2a4\\ud2b8 \\uc138\\uc774\\ubaa8\\uc5b4\\uc758 \\ub274\\uc695 \\uc18c\\ub124\\ud2b8\"], \"xaxis\": \"x\", \"y\": [9, 9], \"yaxis\": \"y\"}],\n",
              "                        {\"legend\": {\"tracegroupgap\": 0}, \"margin\": {\"t\": 60}, \"template\": {\"data\": {\"bar\": [{\"error_x\": {\"color\": \"#2a3f5f\"}, \"error_y\": {\"color\": \"#2a3f5f\"}, \"marker\": {\"line\": {\"color\": \"#E5ECF6\", \"width\": 0.5}}, \"type\": \"bar\"}], \"barpolar\": [{\"marker\": {\"line\": {\"color\": \"#E5ECF6\", \"width\": 0.5}}, \"type\": \"barpolar\"}], \"carpet\": [{\"aaxis\": {\"endlinecolor\": \"#2a3f5f\", \"gridcolor\": \"white\", \"linecolor\": \"white\", \"minorgridcolor\": \"white\", \"startlinecolor\": \"#2a3f5f\"}, \"baxis\": {\"endlinecolor\": \"#2a3f5f\", \"gridcolor\": \"white\", \"linecolor\": \"white\", \"minorgridcolor\": \"white\", \"startlinecolor\": \"#2a3f5f\"}, \"type\": \"carpet\"}], \"choropleth\": [{\"colorbar\": {\"outlinewidth\": 0, \"ticks\": \"\"}, \"type\": \"choropleth\"}], \"contour\": [{\"colorbar\": {\"outlinewidth\": 0, \"ticks\": \"\"}, \"colorscale\": [[0.0, \"#0d0887\"], [0.1111111111111111, \"#46039f\"], [0.2222222222222222, \"#7201a8\"], [0.3333333333333333, \"#9c179e\"], [0.4444444444444444, \"#bd3786\"], [0.5555555555555556, \"#d8576b\"], [0.6666666666666666, \"#ed7953\"], [0.7777777777777778, \"#fb9f3a\"], [0.8888888888888888, \"#fdca26\"], [1.0, \"#f0f921\"]], \"type\": \"contour\"}], \"contourcarpet\": [{\"colorbar\": {\"outlinewidth\": 0, \"ticks\": \"\"}, \"type\": \"contourcarpet\"}], \"heatmap\": [{\"colorbar\": {\"outlinewidth\": 0, \"ticks\": \"\"}, \"colorscale\": [[0.0, \"#0d0887\"], [0.1111111111111111, \"#46039f\"], [0.2222222222222222, \"#7201a8\"], [0.3333333333333333, \"#9c179e\"], [0.4444444444444444, \"#bd3786\"], [0.5555555555555556, \"#d8576b\"], [0.6666666666666666, \"#ed7953\"], [0.7777777777777778, \"#fb9f3a\"], [0.8888888888888888, \"#fdca26\"], [1.0, \"#f0f921\"]], \"type\": \"heatmap\"}], \"heatmapgl\": [{\"colorbar\": {\"outlinewidth\": 0, \"ticks\": \"\"}, \"colorscale\": [[0.0, \"#0d0887\"], [0.1111111111111111, \"#46039f\"], [0.2222222222222222, \"#7201a8\"], [0.3333333333333333, \"#9c179e\"], [0.4444444444444444, \"#bd3786\"], [0.5555555555555556, \"#d8576b\"], [0.6666666666666666, \"#ed7953\"], [0.7777777777777778, \"#fb9f3a\"], [0.8888888888888888, \"#fdca26\"], [1.0, \"#f0f921\"]], \"type\": \"heatmapgl\"}], \"histogram\": [{\"marker\": {\"colorbar\": {\"outlinewidth\": 0, \"ticks\": \"\"}}, \"type\": \"histogram\"}], \"histogram2d\": [{\"colorbar\": {\"outlinewidth\": 0, \"ticks\": \"\"}, \"colorscale\": [[0.0, \"#0d0887\"], [0.1111111111111111, \"#46039f\"], [0.2222222222222222, \"#7201a8\"], [0.3333333333333333, \"#9c179e\"], [0.4444444444444444, \"#bd3786\"], [0.5555555555555556, \"#d8576b\"], [0.6666666666666666, \"#ed7953\"], [0.7777777777777778, \"#fb9f3a\"], [0.8888888888888888, \"#fdca26\"], [1.0, \"#f0f921\"]], \"type\": \"histogram2d\"}], \"histogram2dcontour\": [{\"colorbar\": {\"outlinewidth\": 0, \"ticks\": \"\"}, \"colorscale\": [[0.0, \"#0d0887\"], [0.1111111111111111, \"#46039f\"], [0.2222222222222222, \"#7201a8\"], [0.3333333333333333, \"#9c179e\"], [0.4444444444444444, \"#bd3786\"], [0.5555555555555556, \"#d8576b\"], [0.6666666666666666, \"#ed7953\"], [0.7777777777777778, \"#fb9f3a\"], [0.8888888888888888, \"#fdca26\"], [1.0, \"#f0f921\"]], \"type\": \"histogram2dcontour\"}], \"mesh3d\": [{\"colorbar\": {\"outlinewidth\": 0, \"ticks\": \"\"}, \"type\": \"mesh3d\"}], \"parcoords\": [{\"line\": {\"colorbar\": {\"outlinewidth\": 0, \"ticks\": \"\"}}, \"type\": \"parcoords\"}], \"pie\": [{\"automargin\": true, \"type\": \"pie\"}], \"scatter\": [{\"marker\": {\"colorbar\": {\"outlinewidth\": 0, \"ticks\": \"\"}}, \"type\": \"scatter\"}], \"scatter3d\": [{\"line\": {\"colorbar\": {\"outlinewidth\": 0, \"ticks\": \"\"}}, \"marker\": {\"colorbar\": {\"outlinewidth\": 0, \"ticks\": \"\"}}, \"type\": \"scatter3d\"}], \"scattercarpet\": [{\"marker\": {\"colorbar\": {\"outlinewidth\": 0, \"ticks\": \"\"}}, \"type\": \"scattercarpet\"}], \"scattergeo\": [{\"marker\": {\"colorbar\": {\"outlinewidth\": 0, \"ticks\": \"\"}}, \"type\": \"scattergeo\"}], \"scattergl\": [{\"marker\": {\"colorbar\": {\"outlinewidth\": 0, \"ticks\": \"\"}}, \"type\": \"scattergl\"}], \"scattermapbox\": [{\"marker\": {\"colorbar\": {\"outlinewidth\": 0, \"ticks\": \"\"}}, \"type\": \"scattermapbox\"}], \"scatterpolar\": [{\"marker\": {\"colorbar\": {\"outlinewidth\": 0, \"ticks\": \"\"}}, \"type\": \"scatterpolar\"}], \"scatterpolargl\": [{\"marker\": {\"colorbar\": {\"outlinewidth\": 0, \"ticks\": \"\"}}, \"type\": \"scatterpolargl\"}], \"scatterternary\": [{\"marker\": {\"colorbar\": {\"outlinewidth\": 0, \"ticks\": \"\"}}, \"type\": \"scatterternary\"}], \"surface\": [{\"colorbar\": {\"outlinewidth\": 0, \"ticks\": \"\"}, \"colorscale\": [[0.0, \"#0d0887\"], [0.1111111111111111, \"#46039f\"], [0.2222222222222222, \"#7201a8\"], [0.3333333333333333, \"#9c179e\"], [0.4444444444444444, \"#bd3786\"], [0.5555555555555556, \"#d8576b\"], [0.6666666666666666, \"#ed7953\"], [0.7777777777777778, \"#fb9f3a\"], [0.8888888888888888, \"#fdca26\"], [1.0, \"#f0f921\"]], \"type\": \"surface\"}], \"table\": [{\"cells\": {\"fill\": {\"color\": \"#EBF0F8\"}, \"line\": {\"color\": \"white\"}}, \"header\": {\"fill\": {\"color\": \"#C8D4E3\"}, \"line\": {\"color\": \"white\"}}, \"type\": \"table\"}]}, \"layout\": {\"annotationdefaults\": {\"arrowcolor\": \"#2a3f5f\", \"arrowhead\": 0, \"arrowwidth\": 1}, \"coloraxis\": {\"colorbar\": {\"outlinewidth\": 0, \"ticks\": \"\"}}, \"colorscale\": {\"diverging\": [[0, \"#8e0152\"], [0.1, \"#c51b7d\"], [0.2, \"#de77ae\"], [0.3, \"#f1b6da\"], [0.4, \"#fde0ef\"], [0.5, \"#f7f7f7\"], [0.6, \"#e6f5d0\"], [0.7, \"#b8e186\"], [0.8, \"#7fbc41\"], [0.9, \"#4d9221\"], [1, \"#276419\"]], \"sequential\": [[0.0, \"#0d0887\"], [0.1111111111111111, \"#46039f\"], [0.2222222222222222, \"#7201a8\"], [0.3333333333333333, \"#9c179e\"], [0.4444444444444444, \"#bd3786\"], [0.5555555555555556, \"#d8576b\"], [0.6666666666666666, \"#ed7953\"], [0.7777777777777778, \"#fb9f3a\"], [0.8888888888888888, \"#fdca26\"], [1.0, \"#f0f921\"]], \"sequentialminus\": [[0.0, \"#0d0887\"], [0.1111111111111111, \"#46039f\"], [0.2222222222222222, \"#7201a8\"], [0.3333333333333333, \"#9c179e\"], [0.4444444444444444, \"#bd3786\"], [0.5555555555555556, \"#d8576b\"], [0.6666666666666666, \"#ed7953\"], [0.7777777777777778, \"#fb9f3a\"], [0.8888888888888888, \"#fdca26\"], [1.0, \"#f0f921\"]]}, \"colorway\": [\"#636efa\", \"#EF553B\", \"#00cc96\", \"#ab63fa\", \"#FFA15A\", \"#19d3f3\", \"#FF6692\", \"#B6E880\", \"#FF97FF\", \"#FECB52\"], \"font\": {\"color\": \"#2a3f5f\"}, \"geo\": {\"bgcolor\": \"white\", \"lakecolor\": \"white\", \"landcolor\": \"#E5ECF6\", \"showlakes\": true, \"showland\": true, \"subunitcolor\": \"white\"}, \"hoverlabel\": {\"align\": \"left\"}, \"hovermode\": \"closest\", \"mapbox\": {\"style\": \"light\"}, \"paper_bgcolor\": \"white\", \"plot_bgcolor\": \"#E5ECF6\", \"polar\": {\"angularaxis\": {\"gridcolor\": \"white\", \"linecolor\": \"white\", \"ticks\": \"\"}, \"bgcolor\": \"#E5ECF6\", \"radialaxis\": {\"gridcolor\": \"white\", \"linecolor\": \"white\", \"ticks\": \"\"}}, \"scene\": {\"xaxis\": {\"backgroundcolor\": \"#E5ECF6\", \"gridcolor\": \"white\", \"gridwidth\": 2, \"linecolor\": \"white\", \"showbackground\": true, \"ticks\": \"\", \"zerolinecolor\": \"white\"}, \"yaxis\": {\"backgroundcolor\": \"#E5ECF6\", \"gridcolor\": \"white\", \"gridwidth\": 2, \"linecolor\": \"white\", \"showbackground\": true, \"ticks\": \"\", \"zerolinecolor\": \"white\"}, \"zaxis\": {\"backgroundcolor\": \"#E5ECF6\", \"gridcolor\": \"white\", \"gridwidth\": 2, \"linecolor\": \"white\", \"showbackground\": true, \"ticks\": \"\", \"zerolinecolor\": \"white\"}}, \"shapedefaults\": {\"line\": {\"color\": \"#2a3f5f\"}}, \"ternary\": {\"aaxis\": {\"gridcolor\": \"white\", \"linecolor\": \"white\", \"ticks\": \"\"}, \"baxis\": {\"gridcolor\": \"white\", \"linecolor\": \"white\", \"ticks\": \"\"}, \"bgcolor\": \"#E5ECF6\", \"caxis\": {\"gridcolor\": \"white\", \"linecolor\": \"white\", \"ticks\": \"\"}}, \"title\": {\"x\": 0.05}, \"xaxis\": {\"automargin\": true, \"gridcolor\": \"white\", \"linecolor\": \"white\", \"ticks\": \"\", \"title\": {\"standoff\": 15}, \"zerolinecolor\": \"white\", \"zerolinewidth\": 2}, \"yaxis\": {\"automargin\": true, \"gridcolor\": \"white\", \"linecolor\": \"white\", \"ticks\": \"\", \"title\": {\"standoff\": 15}, \"zerolinecolor\": \"white\", \"zerolinewidth\": 2}}}, \"xaxis\": {\"anchor\": \"y\", \"domain\": [0.0, 1.0], \"title\": {\"text\": \"\\uc81c\\ubaa9\"}}, \"yaxis\": {\"anchor\": \"x\", \"domain\": [0.0, 1.0], \"title\": {\"text\": \"\\ud3c9\\uc810\"}}},\n",
              "                        {\"responsive\": true}\n",
              "                    ).then(function(){\n",
              "                            \n",
              "var gd = document.getElementById('6b4d22f0-e9c6-4fa4-a003-f47fba30579f');\n",
              "var x = new MutationObserver(function (mutations, observer) {{\n",
              "        var display = window.getComputedStyle(gd).display;\n",
              "        if (!display || display === 'none') {{\n",
              "            console.log([gd, 'removed!']);\n",
              "            Plotly.purge(gd);\n",
              "            observer.disconnect();\n",
              "        }}\n",
              "}});\n",
              "\n",
              "// Listen for the removal of the full notebook cells\n",
              "var notebookContainer = gd.closest('#notebook-container');\n",
              "if (notebookContainer) {{\n",
              "    x.observe(notebookContainer, {childList: true});\n",
              "}}\n",
              "\n",
              "// Listen for the clearing of the current output cell\n",
              "var outputEl = gd.closest('.output');\n",
              "if (outputEl) {{\n",
              "    x.observe(outputEl, {childList: true});\n",
              "}}\n",
              "\n",
              "                        })\n",
              "                };\n",
              "                \n",
              "            </script>\n",
              "        </div>\n",
              "</body>\n",
              "</html>"
            ]
          },
          "metadata": {
            "tags": []
          }
        }
      ]
    },
    {
      "cell_type": "code",
      "metadata": {
        "colab": {
          "base_uri": "https://localhost:8080/",
          "height": 195
        },
        "id": "IIk6VfQ5pwLc",
        "outputId": "be07c3be-aec0-4963-b129-eb39417f8194"
      },
      "source": [
        "df_score = df[df.평점 == 9]\n",
        "df_score.tail()"
      ],
      "execution_count": 22,
      "outputs": [
        {
          "output_type": "execute_result",
          "data": {
            "text/html": [
              "<div>\n",
              "<style scoped>\n",
              "    .dataframe tbody tr th:only-of-type {\n",
              "        vertical-align: middle;\n",
              "    }\n",
              "\n",
              "    .dataframe tbody tr th {\n",
              "        vertical-align: top;\n",
              "    }\n",
              "\n",
              "    .dataframe thead th {\n",
              "        text-align: right;\n",
              "    }\n",
              "</style>\n",
              "<table border=\"1\" class=\"dataframe\">\n",
              "  <thead>\n",
              "    <tr style=\"text-align: right;\">\n",
              "      <th></th>\n",
              "      <th>Unnamed: 0</th>\n",
              "      <th>제목</th>\n",
              "      <th>평점</th>\n",
              "      <th>장르</th>\n",
              "      <th>줄거리</th>\n",
              "    </tr>\n",
              "  </thead>\n",
              "  <tbody>\n",
              "    <tr>\n",
              "      <th>60</th>\n",
              "      <td>69</td>\n",
              "      <td>세상에서 가장 아름다운 이별</td>\n",
              "      <td>9</td>\n",
              "      <td>드라마</td>\n",
              "      <td>“피곤해” 병원 일에만 신경 쓰는 가장(김갑수)“밥 줘, 밥” 어린애가 되어버린 할...</td>\n",
              "    </tr>\n",
              "    <tr>\n",
              "      <th>67</th>\n",
              "      <td>76</td>\n",
              "      <td>말할 수 없는 비밀</td>\n",
              "      <td>9</td>\n",
              "      <td>드라마</td>\n",
              "      <td>나는 너를 사랑해!너도 나를 사랑하니?예술학교로 전학 온 상륜(주걸륜)은 아버지의 ...</td>\n",
              "    </tr>\n",
              "    <tr>\n",
              "      <th>68</th>\n",
              "      <td>77</td>\n",
              "      <td>라따뚜이</td>\n",
              "      <td>9</td>\n",
              "      <td>액션</td>\n",
              "      <td>절대미각, 빠른 손놀림, 끓어 넘치는 열정의 소유자 ‘레미’. 프랑스 최고의 요리사...</td>\n",
              "    </tr>\n",
              "    <tr>\n",
              "      <th>70</th>\n",
              "      <td>79</td>\n",
              "      <td>시간을 달리는 소녀</td>\n",
              "      <td>9</td>\n",
              "      <td>드라마</td>\n",
              "      <td>저 마코토에게는 남들에게 말 못할 비밀이 하나 있어요. 타임리프라고 하는 능력이죠....</td>\n",
              "    </tr>\n",
              "    <tr>\n",
              "      <th>73</th>\n",
              "      <td>82</td>\n",
              "      <td>이터널 선샤인</td>\n",
              "      <td>9</td>\n",
              "      <td>드라마</td>\n",
              "      <td>조엘은 아픈 기억만을 지워준다는 라쿠나사를 찾아가 헤어진 연인 클레멘타인의 기억을 ...</td>\n",
              "    </tr>\n",
              "  </tbody>\n",
              "</table>\n",
              "</div>"
            ],
            "text/plain": [
              "    Unnamed: 0  ...                                                줄거리\n",
              "60          69  ...  “피곤해” 병원 일에만 신경 쓰는 가장(김갑수)“밥 줘, 밥” 어린애가 되어버린 할...\n",
              "67          76  ...  나는 너를 사랑해!너도 나를 사랑하니?예술학교로 전학 온 상륜(주걸륜)은 아버지의 ...\n",
              "68          77  ...  절대미각, 빠른 손놀림, 끓어 넘치는 열정의 소유자 ‘레미’. 프랑스 최고의 요리사...\n",
              "70          79  ...  저 마코토에게는 남들에게 말 못할 비밀이 하나 있어요. 타임리프라고 하는 능력이죠....\n",
              "73          82  ...  조엘은 아픈 기억만을 지워준다는 라쿠나사를 찾아가 헤어진 연인 클레멘타인의 기억을 ...\n",
              "\n",
              "[5 rows x 5 columns]"
            ]
          },
          "metadata": {
            "tags": []
          },
          "execution_count": 22
        }
      ]
    },
    {
      "cell_type": "markdown",
      "metadata": {
        "id": "cu2EVrXdqAro"
      },
      "source": [
        "9점의 영화 중 가장 큰 비율을 차지하고 있는 장르는?"
      ]
    },
    {
      "cell_type": "code",
      "metadata": {
        "colab": {
          "base_uri": "https://localhost:8080/",
          "height": 542
        },
        "id": "fn1najT0qGqz",
        "outputId": "f209ff50-113d-44fd-dde0-a664e7526e63"
      },
      "source": [
        "fig = px.pie(df_score,values='평점', names='장르')\n",
        "fig.show()"
      ],
      "execution_count": 28,
      "outputs": [
        {
          "output_type": "display_data",
          "data": {
            "text/html": [
              "<html>\n",
              "<head><meta charset=\"utf-8\" /></head>\n",
              "<body>\n",
              "    <div>\n",
              "            <script src=\"https://cdnjs.cloudflare.com/ajax/libs/mathjax/2.7.5/MathJax.js?config=TeX-AMS-MML_SVG\"></script><script type=\"text/javascript\">if (window.MathJax) {MathJax.Hub.Config({SVG: {font: \"STIX-Web\"}});}</script>\n",
              "                <script type=\"text/javascript\">window.PlotlyConfig = {MathJaxConfig: 'local'};</script>\n",
              "        <script src=\"https://cdn.plot.ly/plotly-latest.min.js\"></script>    \n",
              "            <div id=\"fdf9b194-c686-44c4-861b-9034efa39443\" class=\"plotly-graph-div\" style=\"height:525px; width:100%;\"></div>\n",
              "            <script type=\"text/javascript\">\n",
              "                \n",
              "                    window.PLOTLYENV=window.PLOTLYENV || {};\n",
              "                    \n",
              "                if (document.getElementById(\"fdf9b194-c686-44c4-861b-9034efa39443\")) {\n",
              "                    Plotly.newPlot(\n",
              "                        'fdf9b194-c686-44c4-861b-9034efa39443',\n",
              "                        [{\"domain\": {\"x\": [0.0, 1.0], \"y\": [0.0, 1.0]}, \"hoverlabel\": {\"namelength\": 0}, \"hovertemplate\": \"\\uc7a5\\ub974=%{label}<br>\\ud3c9\\uc810=%{value}\", \"labels\": [\"\\uc560\\ub2c8\\uba54\\uc774\\uc158\", \"\\ub4dc\\ub77c\\ub9c8\", \"\\uc561\\uc158\", \"\\uc560\\ub2c8\\uba54\\uc774\\uc158\", \"\\ub4dc\\ub77c\\ub9c8\", \"\\uc561\\uc158\", \"\\ub4dc\\ub77c\\ub9c8\", \"\\ub4dc\\ub77c\\ub9c8\", \"\\uc561\\uc158\", \"\\uc561\\uc158\", \"\\uc560\\ub2c8\\uba54\\uc774\\uc158\", \"SF/\\ud310\\ud0c0\\uc9c0\", \"\\ub2e4\\ud050\\uba58\\ud130\\ub9ac\", \"\\uc561\\uc158\", \"\\ucf54\\ubbf8\\ub514\", \"\\ub4dc\\ub77c\\ub9c8\", \"\\ub2e4\\ud050\\uba58\\ud130\\ub9ac\", \"\\ucf54\\ubbf8\\ub514\", \"\\ucf54\\ubbf8\\ub514\", \"\\ub4dc\\ub77c\\ub9c8\", \"\\ucf54\\ubbf8\\ub514\", \"\\ub4dc\\ub77c\\ub9c8\", \"\\ub4dc\\ub77c\\ub9c8\", \"\\uc561\\uc158\", \"\\ub4dc\\ub77c\\ub9c8\", \"\\ub4dc\\ub77c\\ub9c8\"], \"legendgroup\": \"\", \"name\": \"\", \"showlegend\": true, \"type\": \"pie\", \"values\": [9, 9, 9, 9, 9, 9, 9, 9, 9, 9, 9, 9, 9, 9, 9, 9, 9, 9, 9, 9, 9, 9, 9, 9, 9, 9]}],\n",
              "                        {\"legend\": {\"tracegroupgap\": 0}, \"margin\": {\"t\": 60}, \"template\": {\"data\": {\"bar\": [{\"error_x\": {\"color\": \"#2a3f5f\"}, \"error_y\": {\"color\": \"#2a3f5f\"}, \"marker\": {\"line\": {\"color\": \"#E5ECF6\", \"width\": 0.5}}, \"type\": \"bar\"}], \"barpolar\": [{\"marker\": {\"line\": {\"color\": \"#E5ECF6\", \"width\": 0.5}}, \"type\": \"barpolar\"}], \"carpet\": [{\"aaxis\": {\"endlinecolor\": \"#2a3f5f\", \"gridcolor\": \"white\", \"linecolor\": \"white\", \"minorgridcolor\": \"white\", \"startlinecolor\": \"#2a3f5f\"}, \"baxis\": {\"endlinecolor\": \"#2a3f5f\", \"gridcolor\": \"white\", \"linecolor\": \"white\", \"minorgridcolor\": \"white\", \"startlinecolor\": \"#2a3f5f\"}, \"type\": \"carpet\"}], \"choropleth\": [{\"colorbar\": {\"outlinewidth\": 0, \"ticks\": \"\"}, \"type\": \"choropleth\"}], \"contour\": [{\"colorbar\": {\"outlinewidth\": 0, \"ticks\": \"\"}, \"colorscale\": [[0.0, \"#0d0887\"], [0.1111111111111111, \"#46039f\"], [0.2222222222222222, \"#7201a8\"], [0.3333333333333333, \"#9c179e\"], [0.4444444444444444, \"#bd3786\"], [0.5555555555555556, \"#d8576b\"], [0.6666666666666666, \"#ed7953\"], [0.7777777777777778, \"#fb9f3a\"], [0.8888888888888888, \"#fdca26\"], [1.0, \"#f0f921\"]], \"type\": \"contour\"}], \"contourcarpet\": [{\"colorbar\": {\"outlinewidth\": 0, \"ticks\": \"\"}, \"type\": \"contourcarpet\"}], \"heatmap\": [{\"colorbar\": {\"outlinewidth\": 0, \"ticks\": \"\"}, \"colorscale\": [[0.0, \"#0d0887\"], [0.1111111111111111, \"#46039f\"], [0.2222222222222222, \"#7201a8\"], [0.3333333333333333, \"#9c179e\"], [0.4444444444444444, \"#bd3786\"], [0.5555555555555556, \"#d8576b\"], [0.6666666666666666, \"#ed7953\"], [0.7777777777777778, \"#fb9f3a\"], [0.8888888888888888, \"#fdca26\"], [1.0, \"#f0f921\"]], \"type\": \"heatmap\"}], \"heatmapgl\": [{\"colorbar\": {\"outlinewidth\": 0, \"ticks\": \"\"}, \"colorscale\": [[0.0, \"#0d0887\"], [0.1111111111111111, \"#46039f\"], [0.2222222222222222, \"#7201a8\"], [0.3333333333333333, \"#9c179e\"], [0.4444444444444444, \"#bd3786\"], [0.5555555555555556, \"#d8576b\"], [0.6666666666666666, \"#ed7953\"], [0.7777777777777778, \"#fb9f3a\"], [0.8888888888888888, \"#fdca26\"], [1.0, \"#f0f921\"]], \"type\": \"heatmapgl\"}], \"histogram\": [{\"marker\": {\"colorbar\": {\"outlinewidth\": 0, \"ticks\": \"\"}}, \"type\": \"histogram\"}], \"histogram2d\": [{\"colorbar\": {\"outlinewidth\": 0, \"ticks\": \"\"}, \"colorscale\": [[0.0, \"#0d0887\"], [0.1111111111111111, \"#46039f\"], [0.2222222222222222, \"#7201a8\"], [0.3333333333333333, \"#9c179e\"], [0.4444444444444444, \"#bd3786\"], [0.5555555555555556, \"#d8576b\"], [0.6666666666666666, \"#ed7953\"], [0.7777777777777778, \"#fb9f3a\"], [0.8888888888888888, \"#fdca26\"], [1.0, \"#f0f921\"]], \"type\": \"histogram2d\"}], \"histogram2dcontour\": [{\"colorbar\": {\"outlinewidth\": 0, \"ticks\": \"\"}, \"colorscale\": [[0.0, \"#0d0887\"], [0.1111111111111111, \"#46039f\"], [0.2222222222222222, \"#7201a8\"], [0.3333333333333333, \"#9c179e\"], [0.4444444444444444, \"#bd3786\"], [0.5555555555555556, \"#d8576b\"], [0.6666666666666666, \"#ed7953\"], [0.7777777777777778, \"#fb9f3a\"], [0.8888888888888888, \"#fdca26\"], [1.0, \"#f0f921\"]], \"type\": \"histogram2dcontour\"}], \"mesh3d\": [{\"colorbar\": {\"outlinewidth\": 0, \"ticks\": \"\"}, \"type\": \"mesh3d\"}], \"parcoords\": [{\"line\": {\"colorbar\": {\"outlinewidth\": 0, \"ticks\": \"\"}}, \"type\": \"parcoords\"}], \"pie\": [{\"automargin\": true, \"type\": \"pie\"}], \"scatter\": [{\"marker\": {\"colorbar\": {\"outlinewidth\": 0, \"ticks\": \"\"}}, \"type\": \"scatter\"}], \"scatter3d\": [{\"line\": {\"colorbar\": {\"outlinewidth\": 0, \"ticks\": \"\"}}, \"marker\": {\"colorbar\": {\"outlinewidth\": 0, \"ticks\": \"\"}}, \"type\": \"scatter3d\"}], \"scattercarpet\": [{\"marker\": {\"colorbar\": {\"outlinewidth\": 0, \"ticks\": \"\"}}, \"type\": \"scattercarpet\"}], \"scattergeo\": [{\"marker\": {\"colorbar\": {\"outlinewidth\": 0, \"ticks\": \"\"}}, \"type\": \"scattergeo\"}], \"scattergl\": [{\"marker\": {\"colorbar\": {\"outlinewidth\": 0, \"ticks\": \"\"}}, \"type\": \"scattergl\"}], \"scattermapbox\": [{\"marker\": {\"colorbar\": {\"outlinewidth\": 0, \"ticks\": \"\"}}, \"type\": \"scattermapbox\"}], \"scatterpolar\": [{\"marker\": {\"colorbar\": {\"outlinewidth\": 0, \"ticks\": \"\"}}, \"type\": \"scatterpolar\"}], \"scatterpolargl\": [{\"marker\": {\"colorbar\": {\"outlinewidth\": 0, \"ticks\": \"\"}}, \"type\": \"scatterpolargl\"}], \"scatterternary\": [{\"marker\": {\"colorbar\": {\"outlinewidth\": 0, \"ticks\": \"\"}}, \"type\": \"scatterternary\"}], \"surface\": [{\"colorbar\": {\"outlinewidth\": 0, \"ticks\": \"\"}, \"colorscale\": [[0.0, \"#0d0887\"], [0.1111111111111111, \"#46039f\"], [0.2222222222222222, \"#7201a8\"], [0.3333333333333333, \"#9c179e\"], [0.4444444444444444, \"#bd3786\"], [0.5555555555555556, \"#d8576b\"], [0.6666666666666666, \"#ed7953\"], [0.7777777777777778, \"#fb9f3a\"], [0.8888888888888888, \"#fdca26\"], [1.0, \"#f0f921\"]], \"type\": \"surface\"}], \"table\": [{\"cells\": {\"fill\": {\"color\": \"#EBF0F8\"}, \"line\": {\"color\": \"white\"}}, \"header\": {\"fill\": {\"color\": \"#C8D4E3\"}, \"line\": {\"color\": \"white\"}}, \"type\": \"table\"}]}, \"layout\": {\"annotationdefaults\": {\"arrowcolor\": \"#2a3f5f\", \"arrowhead\": 0, \"arrowwidth\": 1}, \"coloraxis\": {\"colorbar\": {\"outlinewidth\": 0, \"ticks\": \"\"}}, \"colorscale\": {\"diverging\": [[0, \"#8e0152\"], [0.1, \"#c51b7d\"], [0.2, \"#de77ae\"], [0.3, \"#f1b6da\"], [0.4, \"#fde0ef\"], [0.5, \"#f7f7f7\"], [0.6, \"#e6f5d0\"], [0.7, \"#b8e186\"], [0.8, \"#7fbc41\"], [0.9, \"#4d9221\"], [1, \"#276419\"]], \"sequential\": [[0.0, \"#0d0887\"], [0.1111111111111111, \"#46039f\"], [0.2222222222222222, \"#7201a8\"], [0.3333333333333333, \"#9c179e\"], [0.4444444444444444, \"#bd3786\"], [0.5555555555555556, \"#d8576b\"], [0.6666666666666666, \"#ed7953\"], [0.7777777777777778, \"#fb9f3a\"], [0.8888888888888888, \"#fdca26\"], [1.0, \"#f0f921\"]], \"sequentialminus\": [[0.0, \"#0d0887\"], [0.1111111111111111, \"#46039f\"], [0.2222222222222222, \"#7201a8\"], [0.3333333333333333, \"#9c179e\"], [0.4444444444444444, \"#bd3786\"], [0.5555555555555556, \"#d8576b\"], [0.6666666666666666, \"#ed7953\"], [0.7777777777777778, \"#fb9f3a\"], [0.8888888888888888, \"#fdca26\"], [1.0, \"#f0f921\"]]}, \"colorway\": [\"#636efa\", \"#EF553B\", \"#00cc96\", \"#ab63fa\", \"#FFA15A\", \"#19d3f3\", \"#FF6692\", \"#B6E880\", \"#FF97FF\", \"#FECB52\"], \"font\": {\"color\": \"#2a3f5f\"}, \"geo\": {\"bgcolor\": \"white\", \"lakecolor\": \"white\", \"landcolor\": \"#E5ECF6\", \"showlakes\": true, \"showland\": true, \"subunitcolor\": \"white\"}, \"hoverlabel\": {\"align\": \"left\"}, \"hovermode\": \"closest\", \"mapbox\": {\"style\": \"light\"}, \"paper_bgcolor\": \"white\", \"plot_bgcolor\": \"#E5ECF6\", \"polar\": {\"angularaxis\": {\"gridcolor\": \"white\", \"linecolor\": \"white\", \"ticks\": \"\"}, \"bgcolor\": \"#E5ECF6\", \"radialaxis\": {\"gridcolor\": \"white\", \"linecolor\": \"white\", \"ticks\": \"\"}}, \"scene\": {\"xaxis\": {\"backgroundcolor\": \"#E5ECF6\", \"gridcolor\": \"white\", \"gridwidth\": 2, \"linecolor\": \"white\", \"showbackground\": true, \"ticks\": \"\", \"zerolinecolor\": \"white\"}, \"yaxis\": {\"backgroundcolor\": \"#E5ECF6\", \"gridcolor\": \"white\", \"gridwidth\": 2, \"linecolor\": \"white\", \"showbackground\": true, \"ticks\": \"\", \"zerolinecolor\": \"white\"}, \"zaxis\": {\"backgroundcolor\": \"#E5ECF6\", \"gridcolor\": \"white\", \"gridwidth\": 2, \"linecolor\": \"white\", \"showbackground\": true, \"ticks\": \"\", \"zerolinecolor\": \"white\"}}, \"shapedefaults\": {\"line\": {\"color\": \"#2a3f5f\"}}, \"ternary\": {\"aaxis\": {\"gridcolor\": \"white\", \"linecolor\": \"white\", \"ticks\": \"\"}, \"baxis\": {\"gridcolor\": \"white\", \"linecolor\": \"white\", \"ticks\": \"\"}, \"bgcolor\": \"#E5ECF6\", \"caxis\": {\"gridcolor\": \"white\", \"linecolor\": \"white\", \"ticks\": \"\"}}, \"title\": {\"x\": 0.05}, \"xaxis\": {\"automargin\": true, \"gridcolor\": \"white\", \"linecolor\": \"white\", \"ticks\": \"\", \"title\": {\"standoff\": 15}, \"zerolinecolor\": \"white\", \"zerolinewidth\": 2}, \"yaxis\": {\"automargin\": true, \"gridcolor\": \"white\", \"linecolor\": \"white\", \"ticks\": \"\", \"title\": {\"standoff\": 15}, \"zerolinecolor\": \"white\", \"zerolinewidth\": 2}}}},\n",
              "                        {\"responsive\": true}\n",
              "                    ).then(function(){\n",
              "                            \n",
              "var gd = document.getElementById('fdf9b194-c686-44c4-861b-9034efa39443');\n",
              "var x = new MutationObserver(function (mutations, observer) {{\n",
              "        var display = window.getComputedStyle(gd).display;\n",
              "        if (!display || display === 'none') {{\n",
              "            console.log([gd, 'removed!']);\n",
              "            Plotly.purge(gd);\n",
              "            observer.disconnect();\n",
              "        }}\n",
              "}});\n",
              "\n",
              "// Listen for the removal of the full notebook cells\n",
              "var notebookContainer = gd.closest('#notebook-container');\n",
              "if (notebookContainer) {{\n",
              "    x.observe(notebookContainer, {childList: true});\n",
              "}}\n",
              "\n",
              "// Listen for the clearing of the current output cell\n",
              "var outputEl = gd.closest('.output');\n",
              "if (outputEl) {{\n",
              "    x.observe(outputEl, {childList: true});\n",
              "}}\n",
              "\n",
              "                        })\n",
              "                };\n",
              "                \n",
              "            </script>\n",
              "        </div>\n",
              "</body>\n",
              "</html>"
            ]
          },
          "metadata": {
            "tags": []
          }
        }
      ]
    },
    {
      "cell_type": "markdown",
      "metadata": {
        "id": "Ewi04F7AqxdV"
      },
      "source": [
        "일간 TOP 100 시간화"
      ]
    },
    {
      "cell_type": "code",
      "metadata": {
        "colab": {
          "base_uri": "https://localhost:8080/",
          "height": 195
        },
        "id": "tGQE0XWCq10d",
        "outputId": "a6b8e383-10d8-4922-ca59-daa41347ad02"
      },
      "source": [
        "df2 = pd.read_csv('movie_my_data_75.csv', encoding ='euc-kr')\n",
        "df2.head()"
      ],
      "execution_count": 23,
      "outputs": [
        {
          "output_type": "execute_result",
          "data": {
            "text/html": [
              "<div>\n",
              "<style scoped>\n",
              "    .dataframe tbody tr th:only-of-type {\n",
              "        vertical-align: middle;\n",
              "    }\n",
              "\n",
              "    .dataframe tbody tr th {\n",
              "        vertical-align: top;\n",
              "    }\n",
              "\n",
              "    .dataframe thead th {\n",
              "        text-align: right;\n",
              "    }\n",
              "</style>\n",
              "<table border=\"1\" class=\"dataframe\">\n",
              "  <thead>\n",
              "    <tr style=\"text-align: right;\">\n",
              "      <th></th>\n",
              "      <th>Unnamed: 0</th>\n",
              "      <th>제목</th>\n",
              "      <th>평점</th>\n",
              "      <th>장르</th>\n",
              "      <th>줄거리</th>\n",
              "    </tr>\n",
              "  </thead>\n",
              "  <tbody>\n",
              "    <tr>\n",
              "      <th>0</th>\n",
              "      <td>0</td>\n",
              "      <td>콰이어트 플레이스</td>\n",
              "      <td>7</td>\n",
              "      <td>공포/스릴러</td>\n",
              "      <td>소리를 내는 순간 공격받는 극한의 상황 속에서 살아남기 위한 한 가족의 숨막히는 사...</td>\n",
              "    </tr>\n",
              "    <tr>\n",
              "      <th>1</th>\n",
              "      <td>1</td>\n",
              "      <td>극장판 귀멸의 칼날: 무한열차편</td>\n",
              "      <td>9</td>\n",
              "      <td>애니메이션</td>\n",
              "      <td>혈귀로 변해버린 여동생 ‘네즈코’를 인간으로 되돌릴 단서를 찾아 비밀조직 귀살대에 ...</td>\n",
              "    </tr>\n",
              "    <tr>\n",
              "      <th>2</th>\n",
              "      <td>2</td>\n",
              "      <td>킬러의 보디가드</td>\n",
              "      <td>8</td>\n",
              "      <td>액션</td>\n",
              "      <td>세상 제일 잘난 맛에 사는 섭외 1순위 앵그리 보디가드가지명수배 1순위 구강 액션 ...</td>\n",
              "    </tr>\n",
              "    <tr>\n",
              "      <th>3</th>\n",
              "      <td>3</td>\n",
              "      <td>크루엘라</td>\n",
              "      <td>9</td>\n",
              "      <td>드라마</td>\n",
              "      <td>처음부터 난 알았어. 내가 특별하단 걸그게 불편한 인간들도 있겠지만 모두의 비위를 ...</td>\n",
              "    </tr>\n",
              "    <tr>\n",
              "      <th>4</th>\n",
              "      <td>4</td>\n",
              "      <td>파이프라인</td>\n",
              "      <td>6</td>\n",
              "      <td>액션</td>\n",
              "      <td>손만 대면 대박을 터트리는 도유 업계 최고 천공기술자 ‘핀돌이’는수천억의 기름을 빼...</td>\n",
              "    </tr>\n",
              "  </tbody>\n",
              "</table>\n",
              "</div>"
            ],
            "text/plain": [
              "   Unnamed: 0  ...                                                줄거리\n",
              "0           0  ...  소리를 내는 순간 공격받는 극한의 상황 속에서 살아남기 위한 한 가족의 숨막히는 사...\n",
              "1           1  ...  혈귀로 변해버린 여동생 ‘네즈코’를 인간으로 되돌릴 단서를 찾아 비밀조직 귀살대에 ...\n",
              "2           2  ...  세상 제일 잘난 맛에 사는 섭외 1순위 앵그리 보디가드가지명수배 1순위 구강 액션 ...\n",
              "3           3  ...  처음부터 난 알았어. 내가 특별하단 걸그게 불편한 인간들도 있겠지만 모두의 비위를 ...\n",
              "4           4  ...  손만 대면 대박을 터트리는 도유 업계 최고 천공기술자 ‘핀돌이’는수천억의 기름을 빼...\n",
              "\n",
              "[5 rows x 5 columns]"
            ]
          },
          "metadata": {
            "tags": []
          },
          "execution_count": 23
        }
      ]
    },
    {
      "cell_type": "code",
      "metadata": {
        "colab": {
          "base_uri": "https://localhost:8080/",
          "height": 542
        },
        "id": "6IvnhiqwrHii",
        "outputId": "3ca94a9a-7cea-4897-e203-3e48f4d6bc76"
      },
      "source": [
        "fig = px.bar(df2, x=\"제목\", y='평점',color='장르')\n",
        "fig.show()"
      ],
      "execution_count": 25,
      "outputs": [
        {
          "output_type": "display_data",
          "data": {
            "text/html": [
              "<html>\n",
              "<head><meta charset=\"utf-8\" /></head>\n",
              "<body>\n",
              "    <div>\n",
              "            <script src=\"https://cdnjs.cloudflare.com/ajax/libs/mathjax/2.7.5/MathJax.js?config=TeX-AMS-MML_SVG\"></script><script type=\"text/javascript\">if (window.MathJax) {MathJax.Hub.Config({SVG: {font: \"STIX-Web\"}});}</script>\n",
              "                <script type=\"text/javascript\">window.PlotlyConfig = {MathJaxConfig: 'local'};</script>\n",
              "        <script src=\"https://cdn.plot.ly/plotly-latest.min.js\"></script>    \n",
              "            <div id=\"3f98c519-eb44-45f9-b97e-b74e790e2546\" class=\"plotly-graph-div\" style=\"height:525px; width:100%;\"></div>\n",
              "            <script type=\"text/javascript\">\n",
              "                \n",
              "                    window.PLOTLYENV=window.PLOTLYENV || {};\n",
              "                    \n",
              "                if (document.getElementById(\"3f98c519-eb44-45f9-b97e-b74e790e2546\")) {\n",
              "                    Plotly.newPlot(\n",
              "                        '3f98c519-eb44-45f9-b97e-b74e790e2546',\n",
              "                        [{\"alignmentgroup\": \"True\", \"hoverlabel\": {\"namelength\": 0}, \"hovertemplate\": \"\\uc7a5\\ub974=\\uacf5\\ud3ec/\\uc2a4\\ub9b4\\ub7ec<br>\\uc81c\\ubaa9=%{x}<br>\\ud3c9\\uc810=%{y}\", \"legendgroup\": \"\\uc7a5\\ub974=\\uacf5\\ud3ec/\\uc2a4\\ub9b4\\ub7ec\", \"marker\": {\"color\": \"#636efa\"}, \"name\": \"\\uc7a5\\ub974=\\uacf5\\ud3ec/\\uc2a4\\ub9b4\\ub7ec\", \"offsetgroup\": \"\\uc7a5\\ub974=\\uacf5\\ud3ec/\\uc2a4\\ub9b4\\ub7ec\", \"orientation\": \"v\", \"showlegend\": true, \"textposition\": \"auto\", \"type\": \"bar\", \"x\": [\"\\ucf70\\uc774\\uc5b4\\ud2b8 \\ud50c\\ub808\\uc774\\uc2a4\", \"\\ub354 \\uc2a4\\ud30c\\uc774\", \"\\ub0b4\\uc77c\\uc758 \\uae30\\uc5b5\", \"\\uc560\\ub4dc \\uc544\\uc2a4\\ud2b8\\ub77c\", \"\\uc5b4\\uc2a4\", \"\\uae30\\uc5b5\\uc758 \\ubc24\", \"\\ud0c0\\uc784 \\ud328\\ub7ec\\ub3c5\\uc2a4\"], \"xaxis\": \"x\", \"y\": [7, 8, 7, 7, 6, 8, 8], \"yaxis\": \"y\"}, {\"alignmentgroup\": \"True\", \"hoverlabel\": {\"namelength\": 0}, \"hovertemplate\": \"\\uc7a5\\ub974=\\uc560\\ub2c8\\uba54\\uc774\\uc158<br>\\uc81c\\ubaa9=%{x}<br>\\ud3c9\\uc810=%{y}\", \"legendgroup\": \"\\uc7a5\\ub974=\\uc560\\ub2c8\\uba54\\uc774\\uc158\", \"marker\": {\"color\": \"#EF553B\"}, \"name\": \"\\uc7a5\\ub974=\\uc560\\ub2c8\\uba54\\uc774\\uc158\", \"offsetgroup\": \"\\uc7a5\\ub974=\\uc560\\ub2c8\\uba54\\uc774\\uc158\", \"orientation\": \"v\", \"showlegend\": true, \"textposition\": \"auto\", \"type\": \"bar\", \"x\": [\"\\uadf9\\uc7a5\\ud310 \\uadc0\\uba78\\uc758 \\uce7c\\ub0a0: \\ubb34\\ud55c\\uc5f4\\ucc28\\ud3b8\", \"\\uc18c\\uc6b8\", \"\\ub77c\\uc57c\\uc640 \\ub9c8\\uc9c0\\ub9c9 \\ub4dc\\ub798\\uace4\"], \"xaxis\": \"x\", \"y\": [9, 9, 9], \"yaxis\": \"y\"}, {\"alignmentgroup\": \"True\", \"hoverlabel\": {\"namelength\": 0}, \"hovertemplate\": \"\\uc7a5\\ub974=\\uc561\\uc158<br>\\uc81c\\ubaa9=%{x}<br>\\ud3c9\\uc810=%{y}\", \"legendgroup\": \"\\uc7a5\\ub974=\\uc561\\uc158\", \"marker\": {\"color\": \"#00cc96\"}, \"name\": \"\\uc7a5\\ub974=\\uc561\\uc158\", \"offsetgroup\": \"\\uc7a5\\ub974=\\uc561\\uc158\", \"orientation\": \"v\", \"showlegend\": true, \"textposition\": \"auto\", \"type\": \"bar\", \"x\": [\"\\ud0ac\\ub7ec\\uc758 \\ubcf4\\ub514\\uac00\\ub4dc\", \"\\ud30c\\uc774\\ud504\\ub77c\\uc778\", \"\\ud06c\\ub8e8\\uc988 \\ud328\\ubc00\\ub9ac: \\ub274 \\uc5d0\\uc774\\uc9c0\", \"\\ub178\\ubc14\\ub514 \", \"\\ud14c\\ub137\", \"\\uaca8\\uc6b8\\uc655\\uad6d 2\", \"\\uc5b4\\ubca4\\uc838\\uc2a4: \\uc5d4\\ub4dc\\uac8c\\uc784\", \"\\ub808\\ub514 \\ud50c\\ub808\\uc774\\uc5b4 \\uc6d0\", \"\\ubd84\\ub178\\uc758 \\uc9c8\\uc8fc: \\ub354 \\uc138\\ube10\", \"\\ud5dd\\uac70\\uac8c\\uc784:\\ubaa8\\ud0b9\\uc81c\\uc774\", \"\\ubcbc\\ub791 \\uc704\\uc758 \\ud3ec\\ub1e8\", \"\\ud0dc\\uadf9\\uae30 \\ud718\\ub0a0\\ub9ac\\uba70\", \"\\ub77c\\uc774\\ub354\\uc2a4 \\uc624\\ube0c \\uc800\\uc2a4\\ud2f0\\uc2a4\", \"\\ub3c4\\uad74\", \"\\uc544\\uc6c3\\ud3ec\\uc2a4\\ud2b8\", \"\\ud130\\ubbf8\\ub124\\uc774\\ud130: \\ub2e4\\ud06c \\ud398\\uc774\\ud2b8\", \"\\ubd84\\ub178\\uc758 \\uc9c8\\uc8fc: \\ud649\\uc2a4&\\uc1fc\", \"\\ud1a0\\uc774 \\uc2a4\\ud1a0\\ub9ac 4\", \"\\uc564\\ud2b8\\ub9e8\\uacfc \\uc640\\uc2a4\\ud504\", \"\\uc624\\uc158\\uc2a48\", \"\\ud1a0\\ub974: \\ub77c\\uadf8\\ub098\\ub85c\\ud06c\", \"\\uc81c\\uc774\\uc2a8 \\ubcf8\", \"\\uba54\\uc774\\uc988 \\ub7ec\\ub108: \\uc2a4\\ucf54\\uce58 \\ud2b8\\ub77c\\uc774\\uc5bc\", \"\\ub098\\uc6b0 \\uc720 \\uc528 \\ubbf8 : \\ub9c8\\uc220\\uc0ac\\uae30\\ub2e8\", \"\\uc544\\uc774\\uc5b8\\ub9e8 2\", \"\\uc774\\ud0dc\\uc6d0 \\uc0b4\\uc778\\uc0ac\\uac74\", \"\\ubd84\\ub178\\uc758 \\uc9c8\\uc8fc: \\ub354 \\uc624\\ub9ac\\uc9c0\\ub110\", \"\\ub77c\\ub530\\ub69c\\uc774\", \"\\ud574\\ub9ac \\ud3ec\\ud130\\uc640 \\ubd88\\uc0ac\\uc870 \\uae30\\uc0ac\\ub2e8\", \"\\ud574\\ub9ac \\ud3ec\\ud130\\uc640 \\ubd88\\uc758 \\uc794\", \"\\ud0b9\\ub364 \\uc624\\ube0c \\ud5e4\\ube10\"], \"xaxis\": \"x\", \"y\": [8, 6, 9, 8, 8, 8, 9, 8, 9, 7, 8, 9, 7, 7, 8, 8, 7, 9, 8, 7, 8, 8, 8, 8, 7, 5, 8, 9, 7, 8, 8], \"yaxis\": \"y\"}, {\"alignmentgroup\": \"True\", \"hoverlabel\": {\"namelength\": 0}, \"hovertemplate\": \"\\uc7a5\\ub974=\\ub4dc\\ub77c\\ub9c8<br>\\uc81c\\ubaa9=%{x}<br>\\ud3c9\\uc810=%{y}\", \"legendgroup\": \"\\uc7a5\\ub974=\\ub4dc\\ub77c\\ub9c8\", \"marker\": {\"color\": \"#ab63fa\"}, \"name\": \"\\uc7a5\\ub974=\\ub4dc\\ub77c\\ub9c8\", \"offsetgroup\": \"\\uc7a5\\ub974=\\ub4dc\\ub77c\\ub9c8\", \"orientation\": \"v\", \"showlegend\": true, \"textposition\": \"auto\", \"type\": \"bar\", \"x\": [\"\\ud06c\\ub8e8\\uc5d8\\ub77c\", \"\\ub77c\\ub77c\\ub79c\\ub4dc\", \"\\uc870\\ucee4\", \"\\uc790\\uc0b0\\uc5b4\\ubcf4\", \"\\ubbf8\\ub098\\ub9ac\", \"\\uc704\\ub300\\ud55c \\uc1fc\\ub9e8\", \"\\uc2a4\\ud0c0 \\uc774\\uc988 \\ubcf8\", \"\\uace1\\uc131(\\u54ed\\u8072)\", \"\\ube44\\uc640 \\ub2f9\\uc2e0\\uc758 \\uc774\\uc57c\\uae30\", \"\\ub0b4 \\uc0ac\\ub791\", \"\\ub108\\uc758 \\uc774\\ub984\\uc740.\", \"\\ubc14\\ub2f7\\ub9c8\\uc744 \\ub2e4\\uc774\\uc5b4\\ub9ac\", \"\\uc544\\ub378\\ub77c\\uc778 : \\uba48\\ucdb0\\uc9c4 \\uc2dc\\uac04\", \"\\ubcc0\\ud638\\uc778\", \"\\uadf8\\ub798\\ube44\\ud2f0\", \"\\uace0\\ub839\\ud654 \\uac00\\uc871\", \"\\uc9c4\\uc9dc\\ub85c \\uc77c\\uc5b4\\ub0a0\\uc9c0\\ub3c4 \\ubab0\\ub77c \\uae30\\uc801\", \"\\uc138\\uc0c1\\uc5d0\\uc11c \\uac00\\uc7a5 \\uc544\\ub984\\ub2e4\\uc6b4 \\uc774\\ubcc4\", \"\\uac78\\uc5b4\\ub3c4 \\uac78\\uc5b4\\ub3c4\", \"\\ub85c\\ub098\\uc758 \\uce68\\ubb35\", \"\\ub9d0\\ud560 \\uc218 \\uc5c6\\ub294 \\ube44\\ubc00\", \"\\uc2dc\\uac04\\uc744 \\ub2ec\\ub9ac\\ub294 \\uc18c\\ub140\", \"\\uc774\\ud130\\ub110 \\uc120\\uc0e4\\uc778\"], \"xaxis\": \"x\", \"y\": [9, 8, 8, 9, 7, 9, 9, 7, 6, 9, 8, 8, 8, 9, 8, 8, 8, 9, 8, 8, 9, 9, 9], \"yaxis\": \"y\"}, {\"alignmentgroup\": \"True\", \"hoverlabel\": {\"namelength\": 0}, \"hovertemplate\": \"\\uc7a5\\ub974=\\ucf54\\ubbf8\\ub514<br>\\uc81c\\ubaa9=%{x}<br>\\ud3c9\\uc810=%{y}\", \"legendgroup\": \"\\uc7a5\\ub974=\\ucf54\\ubbf8\\ub514\", \"marker\": {\"color\": \"#FFA15A\"}, \"name\": \"\\uc7a5\\ub974=\\ucf54\\ubbf8\\ub514\", \"offsetgroup\": \"\\uc7a5\\ub974=\\ucf54\\ubbf8\\ub514\", \"orientation\": \"v\", \"showlegend\": true, \"textposition\": \"auto\", \"type\": \"bar\", \"x\": [\"\\uae30\\ucfe0\\uc9c0\\ub85c\\uc758 \\uc5ec\\ub984\", \"\\ub0b4 \\uc774\\uc57c\\uae30!!\", \"\\uc778\\uc0ac\\uc774\\ub4dc \\uc544\\uc6c3\", \"\\ube44\\uae34 \\uc5b4\\uac8c\\uc778\", \"\\ud504\\ub780\\uc2dc\\uc2a4 \\ud558\", \"\\uc5b8\\ud130\\ucc98\\ube14: 1%\\uc758 \\uc6b0\\uc815\", \"500\\uc77c\\uc758 \\uc378\\uba38\", \"\\uc26c\\uc988 \\ub354 \\ub9e8\"], \"xaxis\": \"x\", \"y\": [8, 9, 9, 9, 8, 9, 8, 8], \"yaxis\": \"y\"}, {\"alignmentgroup\": \"True\", \"hoverlabel\": {\"namelength\": 0}, \"hovertemplate\": \"\\uc7a5\\ub974=SF/\\ud310\\ud0c0\\uc9c0<br>\\uc81c\\ubaa9=%{x}<br>\\ud3c9\\uc810=%{y}\", \"legendgroup\": \"\\uc7a5\\ub974=SF/\\ud310\\ud0c0\\uc9c0\", \"marker\": {\"color\": \"#19d3f3\"}, \"name\": \"\\uc7a5\\ub974=SF/\\ud310\\ud0c0\\uc9c0\", \"offsetgroup\": \"\\uc7a5\\ub974=SF/\\ud310\\ud0c0\\uc9c0\", \"orientation\": \"v\", \"showlegend\": true, \"textposition\": \"auto\", \"type\": \"bar\", \"x\": [\"\\ub9cc\\ub378\\ub77c \\uc774\\ud399\\ud2b8\"], \"xaxis\": \"x\", \"y\": [9], \"yaxis\": \"y\"}, {\"alignmentgroup\": \"True\", \"hoverlabel\": {\"namelength\": 0}, \"hovertemplate\": \"\\uc7a5\\ub974=\\ub2e4\\ud050\\uba58\\ud130\\ub9ac<br>\\uc81c\\ubaa9=%{x}<br>\\ud3c9\\uc810=%{y}\", \"legendgroup\": \"\\uc7a5\\ub974=\\ub2e4\\ud050\\uba58\\ud130\\ub9ac\", \"marker\": {\"color\": \"#FF6692\"}, \"name\": \"\\uc7a5\\ub974=\\ub2e4\\ud050\\uba58\\ud130\\ub9ac\", \"offsetgroup\": \"\\uc7a5\\ub974=\\ub2e4\\ud050\\uba58\\ud130\\ub9ac\", \"orientation\": \"v\", \"showlegend\": true, \"textposition\": \"auto\", \"type\": \"bar\", \"x\": [\"\\ubc25\\uc815\", \"\\ud53c\\uc544\\ub2c8\\uc2a4\\ud2b8 \\uc138\\uc774\\ubaa8\\uc5b4\\uc758 \\ub274\\uc695 \\uc18c\\ub124\\ud2b8\"], \"xaxis\": \"x\", \"y\": [9, 9], \"yaxis\": \"y\"}],\n",
              "                        {\"barmode\": \"relative\", \"legend\": {\"tracegroupgap\": 0}, \"margin\": {\"t\": 60}, \"template\": {\"data\": {\"bar\": [{\"error_x\": {\"color\": \"#2a3f5f\"}, \"error_y\": {\"color\": \"#2a3f5f\"}, \"marker\": {\"line\": {\"color\": \"#E5ECF6\", \"width\": 0.5}}, \"type\": \"bar\"}], \"barpolar\": [{\"marker\": {\"line\": {\"color\": \"#E5ECF6\", \"width\": 0.5}}, \"type\": \"barpolar\"}], \"carpet\": [{\"aaxis\": {\"endlinecolor\": \"#2a3f5f\", \"gridcolor\": \"white\", \"linecolor\": \"white\", \"minorgridcolor\": \"white\", \"startlinecolor\": \"#2a3f5f\"}, \"baxis\": {\"endlinecolor\": \"#2a3f5f\", \"gridcolor\": \"white\", \"linecolor\": \"white\", \"minorgridcolor\": \"white\", \"startlinecolor\": \"#2a3f5f\"}, \"type\": \"carpet\"}], \"choropleth\": [{\"colorbar\": {\"outlinewidth\": 0, \"ticks\": \"\"}, \"type\": \"choropleth\"}], \"contour\": [{\"colorbar\": {\"outlinewidth\": 0, \"ticks\": \"\"}, \"colorscale\": [[0.0, \"#0d0887\"], [0.1111111111111111, \"#46039f\"], [0.2222222222222222, \"#7201a8\"], [0.3333333333333333, \"#9c179e\"], [0.4444444444444444, \"#bd3786\"], [0.5555555555555556, \"#d8576b\"], [0.6666666666666666, \"#ed7953\"], [0.7777777777777778, \"#fb9f3a\"], [0.8888888888888888, \"#fdca26\"], [1.0, \"#f0f921\"]], \"type\": \"contour\"}], \"contourcarpet\": [{\"colorbar\": {\"outlinewidth\": 0, \"ticks\": \"\"}, \"type\": \"contourcarpet\"}], \"heatmap\": [{\"colorbar\": {\"outlinewidth\": 0, \"ticks\": \"\"}, \"colorscale\": [[0.0, \"#0d0887\"], [0.1111111111111111, \"#46039f\"], [0.2222222222222222, \"#7201a8\"], [0.3333333333333333, \"#9c179e\"], [0.4444444444444444, \"#bd3786\"], [0.5555555555555556, \"#d8576b\"], [0.6666666666666666, \"#ed7953\"], [0.7777777777777778, \"#fb9f3a\"], [0.8888888888888888, \"#fdca26\"], [1.0, \"#f0f921\"]], \"type\": \"heatmap\"}], \"heatmapgl\": [{\"colorbar\": {\"outlinewidth\": 0, \"ticks\": \"\"}, \"colorscale\": [[0.0, \"#0d0887\"], [0.1111111111111111, \"#46039f\"], [0.2222222222222222, \"#7201a8\"], [0.3333333333333333, \"#9c179e\"], [0.4444444444444444, \"#bd3786\"], [0.5555555555555556, \"#d8576b\"], [0.6666666666666666, \"#ed7953\"], [0.7777777777777778, \"#fb9f3a\"], [0.8888888888888888, \"#fdca26\"], [1.0, \"#f0f921\"]], \"type\": \"heatmapgl\"}], \"histogram\": [{\"marker\": {\"colorbar\": {\"outlinewidth\": 0, \"ticks\": \"\"}}, \"type\": \"histogram\"}], \"histogram2d\": [{\"colorbar\": {\"outlinewidth\": 0, \"ticks\": \"\"}, \"colorscale\": [[0.0, \"#0d0887\"], [0.1111111111111111, \"#46039f\"], [0.2222222222222222, \"#7201a8\"], [0.3333333333333333, \"#9c179e\"], [0.4444444444444444, \"#bd3786\"], [0.5555555555555556, \"#d8576b\"], [0.6666666666666666, \"#ed7953\"], [0.7777777777777778, \"#fb9f3a\"], [0.8888888888888888, \"#fdca26\"], [1.0, \"#f0f921\"]], \"type\": \"histogram2d\"}], \"histogram2dcontour\": [{\"colorbar\": {\"outlinewidth\": 0, \"ticks\": \"\"}, \"colorscale\": [[0.0, \"#0d0887\"], [0.1111111111111111, \"#46039f\"], [0.2222222222222222, \"#7201a8\"], [0.3333333333333333, \"#9c179e\"], [0.4444444444444444, \"#bd3786\"], [0.5555555555555556, \"#d8576b\"], [0.6666666666666666, \"#ed7953\"], [0.7777777777777778, \"#fb9f3a\"], [0.8888888888888888, \"#fdca26\"], [1.0, \"#f0f921\"]], \"type\": \"histogram2dcontour\"}], \"mesh3d\": [{\"colorbar\": {\"outlinewidth\": 0, \"ticks\": \"\"}, \"type\": \"mesh3d\"}], \"parcoords\": [{\"line\": {\"colorbar\": {\"outlinewidth\": 0, \"ticks\": \"\"}}, \"type\": \"parcoords\"}], \"pie\": [{\"automargin\": true, \"type\": \"pie\"}], \"scatter\": [{\"marker\": {\"colorbar\": {\"outlinewidth\": 0, \"ticks\": \"\"}}, \"type\": \"scatter\"}], \"scatter3d\": [{\"line\": {\"colorbar\": {\"outlinewidth\": 0, \"ticks\": \"\"}}, \"marker\": {\"colorbar\": {\"outlinewidth\": 0, \"ticks\": \"\"}}, \"type\": \"scatter3d\"}], \"scattercarpet\": [{\"marker\": {\"colorbar\": {\"outlinewidth\": 0, \"ticks\": \"\"}}, \"type\": \"scattercarpet\"}], \"scattergeo\": [{\"marker\": {\"colorbar\": {\"outlinewidth\": 0, \"ticks\": \"\"}}, \"type\": \"scattergeo\"}], \"scattergl\": [{\"marker\": {\"colorbar\": {\"outlinewidth\": 0, \"ticks\": \"\"}}, \"type\": \"scattergl\"}], \"scattermapbox\": [{\"marker\": {\"colorbar\": {\"outlinewidth\": 0, \"ticks\": \"\"}}, \"type\": \"scattermapbox\"}], \"scatterpolar\": [{\"marker\": {\"colorbar\": {\"outlinewidth\": 0, \"ticks\": \"\"}}, \"type\": \"scatterpolar\"}], \"scatterpolargl\": [{\"marker\": {\"colorbar\": {\"outlinewidth\": 0, \"ticks\": \"\"}}, \"type\": \"scatterpolargl\"}], \"scatterternary\": [{\"marker\": {\"colorbar\": {\"outlinewidth\": 0, \"ticks\": \"\"}}, \"type\": \"scatterternary\"}], \"surface\": [{\"colorbar\": {\"outlinewidth\": 0, \"ticks\": \"\"}, \"colorscale\": [[0.0, \"#0d0887\"], [0.1111111111111111, \"#46039f\"], [0.2222222222222222, \"#7201a8\"], [0.3333333333333333, \"#9c179e\"], [0.4444444444444444, \"#bd3786\"], [0.5555555555555556, \"#d8576b\"], [0.6666666666666666, \"#ed7953\"], [0.7777777777777778, \"#fb9f3a\"], [0.8888888888888888, \"#fdca26\"], [1.0, \"#f0f921\"]], \"type\": \"surface\"}], \"table\": [{\"cells\": {\"fill\": {\"color\": \"#EBF0F8\"}, \"line\": {\"color\": \"white\"}}, \"header\": {\"fill\": {\"color\": \"#C8D4E3\"}, \"line\": {\"color\": \"white\"}}, \"type\": \"table\"}]}, \"layout\": {\"annotationdefaults\": {\"arrowcolor\": \"#2a3f5f\", \"arrowhead\": 0, \"arrowwidth\": 1}, \"coloraxis\": {\"colorbar\": {\"outlinewidth\": 0, \"ticks\": \"\"}}, \"colorscale\": {\"diverging\": [[0, \"#8e0152\"], [0.1, \"#c51b7d\"], [0.2, \"#de77ae\"], [0.3, \"#f1b6da\"], [0.4, \"#fde0ef\"], [0.5, \"#f7f7f7\"], [0.6, \"#e6f5d0\"], [0.7, \"#b8e186\"], [0.8, \"#7fbc41\"], [0.9, \"#4d9221\"], [1, \"#276419\"]], \"sequential\": [[0.0, \"#0d0887\"], [0.1111111111111111, \"#46039f\"], [0.2222222222222222, \"#7201a8\"], [0.3333333333333333, \"#9c179e\"], [0.4444444444444444, \"#bd3786\"], [0.5555555555555556, \"#d8576b\"], [0.6666666666666666, \"#ed7953\"], [0.7777777777777778, \"#fb9f3a\"], [0.8888888888888888, \"#fdca26\"], [1.0, \"#f0f921\"]], \"sequentialminus\": [[0.0, \"#0d0887\"], [0.1111111111111111, \"#46039f\"], [0.2222222222222222, \"#7201a8\"], [0.3333333333333333, \"#9c179e\"], [0.4444444444444444, \"#bd3786\"], [0.5555555555555556, \"#d8576b\"], [0.6666666666666666, \"#ed7953\"], [0.7777777777777778, \"#fb9f3a\"], [0.8888888888888888, \"#fdca26\"], [1.0, \"#f0f921\"]]}, \"colorway\": [\"#636efa\", \"#EF553B\", \"#00cc96\", \"#ab63fa\", \"#FFA15A\", \"#19d3f3\", \"#FF6692\", \"#B6E880\", \"#FF97FF\", \"#FECB52\"], \"font\": {\"color\": \"#2a3f5f\"}, \"geo\": {\"bgcolor\": \"white\", \"lakecolor\": \"white\", \"landcolor\": \"#E5ECF6\", \"showlakes\": true, \"showland\": true, \"subunitcolor\": \"white\"}, \"hoverlabel\": {\"align\": \"left\"}, \"hovermode\": \"closest\", \"mapbox\": {\"style\": \"light\"}, \"paper_bgcolor\": \"white\", \"plot_bgcolor\": \"#E5ECF6\", \"polar\": {\"angularaxis\": {\"gridcolor\": \"white\", \"linecolor\": \"white\", \"ticks\": \"\"}, \"bgcolor\": \"#E5ECF6\", \"radialaxis\": {\"gridcolor\": \"white\", \"linecolor\": \"white\", \"ticks\": \"\"}}, \"scene\": {\"xaxis\": {\"backgroundcolor\": \"#E5ECF6\", \"gridcolor\": \"white\", \"gridwidth\": 2, \"linecolor\": \"white\", \"showbackground\": true, \"ticks\": \"\", \"zerolinecolor\": \"white\"}, \"yaxis\": {\"backgroundcolor\": \"#E5ECF6\", \"gridcolor\": \"white\", \"gridwidth\": 2, \"linecolor\": \"white\", \"showbackground\": true, \"ticks\": \"\", \"zerolinecolor\": \"white\"}, \"zaxis\": {\"backgroundcolor\": \"#E5ECF6\", \"gridcolor\": \"white\", \"gridwidth\": 2, \"linecolor\": \"white\", \"showbackground\": true, \"ticks\": \"\", \"zerolinecolor\": \"white\"}}, \"shapedefaults\": {\"line\": {\"color\": \"#2a3f5f\"}}, \"ternary\": {\"aaxis\": {\"gridcolor\": \"white\", \"linecolor\": \"white\", \"ticks\": \"\"}, \"baxis\": {\"gridcolor\": \"white\", \"linecolor\": \"white\", \"ticks\": \"\"}, \"bgcolor\": \"#E5ECF6\", \"caxis\": {\"gridcolor\": \"white\", \"linecolor\": \"white\", \"ticks\": \"\"}}, \"title\": {\"x\": 0.05}, \"xaxis\": {\"automargin\": true, \"gridcolor\": \"white\", \"linecolor\": \"white\", \"ticks\": \"\", \"title\": {\"standoff\": 15}, \"zerolinecolor\": \"white\", \"zerolinewidth\": 2}, \"yaxis\": {\"automargin\": true, \"gridcolor\": \"white\", \"linecolor\": \"white\", \"ticks\": \"\", \"title\": {\"standoff\": 15}, \"zerolinecolor\": \"white\", \"zerolinewidth\": 2}}}, \"xaxis\": {\"anchor\": \"y\", \"domain\": [0.0, 1.0], \"title\": {\"text\": \"\\uc81c\\ubaa9\"}}, \"yaxis\": {\"anchor\": \"x\", \"domain\": [0.0, 1.0], \"title\": {\"text\": \"\\ud3c9\\uc810\"}}},\n",
              "                        {\"responsive\": true}\n",
              "                    ).then(function(){\n",
              "                            \n",
              "var gd = document.getElementById('3f98c519-eb44-45f9-b97e-b74e790e2546');\n",
              "var x = new MutationObserver(function (mutations, observer) {{\n",
              "        var display = window.getComputedStyle(gd).display;\n",
              "        if (!display || display === 'none') {{\n",
              "            console.log([gd, 'removed!']);\n",
              "            Plotly.purge(gd);\n",
              "            observer.disconnect();\n",
              "        }}\n",
              "}});\n",
              "\n",
              "// Listen for the removal of the full notebook cells\n",
              "var notebookContainer = gd.closest('#notebook-container');\n",
              "if (notebookContainer) {{\n",
              "    x.observe(notebookContainer, {childList: true});\n",
              "}}\n",
              "\n",
              "// Listen for the clearing of the current output cell\n",
              "var outputEl = gd.closest('.output');\n",
              "if (outputEl) {{\n",
              "    x.observe(outputEl, {childList: true});\n",
              "}}\n",
              "\n",
              "                        })\n",
              "                };\n",
              "                \n",
              "            </script>\n",
              "        </div>\n",
              "</body>\n",
              "</html>"
            ]
          },
          "metadata": {
            "tags": []
          }
        }
      ]
    },
    {
      "cell_type": "code",
      "metadata": {
        "colab": {
          "base_uri": "https://localhost:8080/",
          "height": 542
        },
        "id": "jMRh4lcirf7l",
        "outputId": "32cae94c-158b-4cba-9bd2-56c6919f1d02"
      },
      "source": [
        "fig = px.pie(df2, values='평점', names='장르')\n",
        "fig.show()"
      ],
      "execution_count": 27,
      "outputs": [
        {
          "output_type": "display_data",
          "data": {
            "text/html": [
              "<html>\n",
              "<head><meta charset=\"utf-8\" /></head>\n",
              "<body>\n",
              "    <div>\n",
              "            <script src=\"https://cdnjs.cloudflare.com/ajax/libs/mathjax/2.7.5/MathJax.js?config=TeX-AMS-MML_SVG\"></script><script type=\"text/javascript\">if (window.MathJax) {MathJax.Hub.Config({SVG: {font: \"STIX-Web\"}});}</script>\n",
              "                <script type=\"text/javascript\">window.PlotlyConfig = {MathJaxConfig: 'local'};</script>\n",
              "        <script src=\"https://cdn.plot.ly/plotly-latest.min.js\"></script>    \n",
              "            <div id=\"6ca1c3cd-ba5a-4143-a1fd-bcb8c57eab45\" class=\"plotly-graph-div\" style=\"height:525px; width:100%;\"></div>\n",
              "            <script type=\"text/javascript\">\n",
              "                \n",
              "                    window.PLOTLYENV=window.PLOTLYENV || {};\n",
              "                    \n",
              "                if (document.getElementById(\"6ca1c3cd-ba5a-4143-a1fd-bcb8c57eab45\")) {\n",
              "                    Plotly.newPlot(\n",
              "                        '6ca1c3cd-ba5a-4143-a1fd-bcb8c57eab45',\n",
              "                        [{\"domain\": {\"x\": [0.0, 1.0], \"y\": [0.0, 1.0]}, \"hoverlabel\": {\"namelength\": 0}, \"hovertemplate\": \"\\uc7a5\\ub974=%{label}<br>\\ud3c9\\uc810=%{value}\", \"labels\": [\"\\uacf5\\ud3ec/\\uc2a4\\ub9b4\\ub7ec\", \"\\uc560\\ub2c8\\uba54\\uc774\\uc158\", \"\\uc561\\uc158\", \"\\ub4dc\\ub77c\\ub9c8\", \"\\uc561\\uc158\", \"\\uc561\\uc158\", \"\\uc560\\ub2c8\\uba54\\uc774\\uc158\", \"\\uc561\\uc158\", \"\\ub4dc\\ub77c\\ub9c8\", \"\\ub4dc\\ub77c\\ub9c8\", \"\\ub4dc\\ub77c\\ub9c8\", \"\\uc561\\uc158\", \"\\ub4dc\\ub77c\\ub9c8\", \"\\uc561\\uc158\", \"\\uc561\\uc158\", \"\\uc561\\uc158\", \"\\ub4dc\\ub77c\\ub9c8\", \"\\uacf5\\ud3ec/\\uc2a4\\ub9b4\\ub7ec\", \"\\uacf5\\ud3ec/\\uc2a4\\ub9b4\\ub7ec\", \"\\ub4dc\\ub77c\\ub9c8\", \"\\ub4dc\\ub77c\\ub9c8\", \"\\uc561\\uc158\", \"\\uc561\\uc158\", \"\\uc561\\uc158\", \"\\uc561\\uc158\", \"\\ucf54\\ubbf8\\ub514\", \"\\uc561\\uc158\", \"\\ub4dc\\ub77c\\ub9c8\", \"\\uc560\\ub2c8\\uba54\\uc774\\uc158\", \"SF/\\ud310\\ud0c0\\uc9c0\", \"\\uc561\\uc158\", \"\\ub2e4\\ud050\\uba58\\ud130\\ub9ac\", \"\\uc561\\uc158\", \"\\uc561\\uc158\", \"\\uacf5\\ud3ec/\\uc2a4\\ub9b4\\ub7ec\", \"\\uc561\\uc158\", \"\\uc561\\uc158\", \"\\uacf5\\ud3ec/\\uc2a4\\ub9b4\\ub7ec\", \"\\uc561\\uc158\", \"\\uc561\\uc158\", \"\\ucf54\\ubbf8\\ub514\", \"\\uacf5\\ud3ec/\\uc2a4\\ub9b4\\ub7ec\", \"\\uc561\\uc158\", \"\\ub4dc\\ub77c\\ub9c8\", \"\\ub4dc\\ub77c\\ub9c8\", \"\\uc561\\uc158\", \"\\ub2e4\\ud050\\uba58\\ud130\\ub9ac\", \"\\ub4dc\\ub77c\\ub9c8\", \"\\ub4dc\\ub77c\\ub9c8\", \"\\uc561\\uc158\", \"\\ucf54\\ubbf8\\ub514\", \"\\uacf5\\ud3ec/\\uc2a4\\ub9b4\\ub7ec\", \"\\ucf54\\ubbf8\\ub514\", \"\\ucf54\\ubbf8\\ub514\", \"\\ub4dc\\ub77c\\ub9c8\", \"\\ub4dc\\ub77c\\ub9c8\", \"\\uc561\\uc158\", \"\\ub4dc\\ub77c\\ub9c8\", \"\\ucf54\\ubbf8\\ub514\", \"\\ub4dc\\ub77c\\ub9c8\", \"\\ub4dc\\ub77c\\ub9c8\", \"\\uc561\\uc158\", \"\\ucf54\\ubbf8\\ub514\", \"\\uc561\\uc158\", \"\\ub4dc\\ub77c\\ub9c8\", \"\\ub4dc\\ub77c\\ub9c8\", \"\\uc561\\uc158\", \"\\ub4dc\\ub77c\\ub9c8\", \"\\uc561\\uc158\", \"\\uc561\\uc158\", \"\\ub4dc\\ub77c\\ub9c8\", \"\\ucf54\\ubbf8\\ub514\", \"\\uc561\\uc158\", \"\\ub4dc\\ub77c\\ub9c8\", \"\\uc561\\uc158\"], \"legendgroup\": \"\", \"name\": \"\", \"showlegend\": true, \"type\": \"pie\", \"values\": [7, 9, 8, 9, 6, 9, 9, 8, 8, 8, 9, 8, 7, 8, 9, 8, 9, 8, 7, 9, 7, 9, 7, 8, 9, 8, 7, 6, 9, 9, 7, 9, 8, 8, 7, 7, 9, 6, 8, 7, 9, 8, 8, 9, 8, 8, 9, 8, 8, 8, 9, 8, 9, 8, 9, 8, 8, 8, 9, 8, 9, 7, 8, 5, 8, 8, 8, 9, 9, 7, 9, 8, 8, 9, 8]}],\n",
              "                        {\"legend\": {\"tracegroupgap\": 0}, \"margin\": {\"t\": 60}, \"template\": {\"data\": {\"bar\": [{\"error_x\": {\"color\": \"#2a3f5f\"}, \"error_y\": {\"color\": \"#2a3f5f\"}, \"marker\": {\"line\": {\"color\": \"#E5ECF6\", \"width\": 0.5}}, \"type\": \"bar\"}], \"barpolar\": [{\"marker\": {\"line\": {\"color\": \"#E5ECF6\", \"width\": 0.5}}, \"type\": \"barpolar\"}], \"carpet\": [{\"aaxis\": {\"endlinecolor\": \"#2a3f5f\", \"gridcolor\": \"white\", \"linecolor\": \"white\", \"minorgridcolor\": \"white\", \"startlinecolor\": \"#2a3f5f\"}, \"baxis\": {\"endlinecolor\": \"#2a3f5f\", \"gridcolor\": \"white\", \"linecolor\": \"white\", \"minorgridcolor\": \"white\", \"startlinecolor\": \"#2a3f5f\"}, \"type\": \"carpet\"}], \"choropleth\": [{\"colorbar\": {\"outlinewidth\": 0, \"ticks\": \"\"}, \"type\": \"choropleth\"}], \"contour\": [{\"colorbar\": {\"outlinewidth\": 0, \"ticks\": \"\"}, \"colorscale\": [[0.0, \"#0d0887\"], [0.1111111111111111, \"#46039f\"], [0.2222222222222222, \"#7201a8\"], [0.3333333333333333, \"#9c179e\"], [0.4444444444444444, \"#bd3786\"], [0.5555555555555556, \"#d8576b\"], [0.6666666666666666, \"#ed7953\"], [0.7777777777777778, \"#fb9f3a\"], [0.8888888888888888, \"#fdca26\"], [1.0, \"#f0f921\"]], \"type\": \"contour\"}], \"contourcarpet\": [{\"colorbar\": {\"outlinewidth\": 0, \"ticks\": \"\"}, \"type\": \"contourcarpet\"}], \"heatmap\": [{\"colorbar\": {\"outlinewidth\": 0, \"ticks\": \"\"}, \"colorscale\": [[0.0, \"#0d0887\"], [0.1111111111111111, \"#46039f\"], [0.2222222222222222, \"#7201a8\"], [0.3333333333333333, \"#9c179e\"], [0.4444444444444444, \"#bd3786\"], [0.5555555555555556, \"#d8576b\"], [0.6666666666666666, \"#ed7953\"], [0.7777777777777778, \"#fb9f3a\"], [0.8888888888888888, \"#fdca26\"], [1.0, \"#f0f921\"]], \"type\": \"heatmap\"}], \"heatmapgl\": [{\"colorbar\": {\"outlinewidth\": 0, \"ticks\": \"\"}, \"colorscale\": [[0.0, \"#0d0887\"], [0.1111111111111111, \"#46039f\"], [0.2222222222222222, \"#7201a8\"], [0.3333333333333333, \"#9c179e\"], [0.4444444444444444, \"#bd3786\"], [0.5555555555555556, \"#d8576b\"], [0.6666666666666666, \"#ed7953\"], [0.7777777777777778, \"#fb9f3a\"], [0.8888888888888888, \"#fdca26\"], [1.0, \"#f0f921\"]], \"type\": \"heatmapgl\"}], \"histogram\": [{\"marker\": {\"colorbar\": {\"outlinewidth\": 0, \"ticks\": \"\"}}, \"type\": \"histogram\"}], \"histogram2d\": [{\"colorbar\": {\"outlinewidth\": 0, \"ticks\": \"\"}, \"colorscale\": [[0.0, \"#0d0887\"], [0.1111111111111111, \"#46039f\"], [0.2222222222222222, \"#7201a8\"], [0.3333333333333333, \"#9c179e\"], [0.4444444444444444, \"#bd3786\"], [0.5555555555555556, \"#d8576b\"], [0.6666666666666666, \"#ed7953\"], [0.7777777777777778, \"#fb9f3a\"], [0.8888888888888888, \"#fdca26\"], [1.0, \"#f0f921\"]], \"type\": \"histogram2d\"}], \"histogram2dcontour\": [{\"colorbar\": {\"outlinewidth\": 0, \"ticks\": \"\"}, \"colorscale\": [[0.0, \"#0d0887\"], [0.1111111111111111, \"#46039f\"], [0.2222222222222222, \"#7201a8\"], [0.3333333333333333, \"#9c179e\"], [0.4444444444444444, \"#bd3786\"], [0.5555555555555556, \"#d8576b\"], [0.6666666666666666, \"#ed7953\"], [0.7777777777777778, \"#fb9f3a\"], [0.8888888888888888, \"#fdca26\"], [1.0, \"#f0f921\"]], \"type\": \"histogram2dcontour\"}], \"mesh3d\": [{\"colorbar\": {\"outlinewidth\": 0, \"ticks\": \"\"}, \"type\": \"mesh3d\"}], \"parcoords\": [{\"line\": {\"colorbar\": {\"outlinewidth\": 0, \"ticks\": \"\"}}, \"type\": \"parcoords\"}], \"pie\": [{\"automargin\": true, \"type\": \"pie\"}], \"scatter\": [{\"marker\": {\"colorbar\": {\"outlinewidth\": 0, \"ticks\": \"\"}}, \"type\": \"scatter\"}], \"scatter3d\": [{\"line\": {\"colorbar\": {\"outlinewidth\": 0, \"ticks\": \"\"}}, \"marker\": {\"colorbar\": {\"outlinewidth\": 0, \"ticks\": \"\"}}, \"type\": \"scatter3d\"}], \"scattercarpet\": [{\"marker\": {\"colorbar\": {\"outlinewidth\": 0, \"ticks\": \"\"}}, \"type\": \"scattercarpet\"}], \"scattergeo\": [{\"marker\": {\"colorbar\": {\"outlinewidth\": 0, \"ticks\": \"\"}}, \"type\": \"scattergeo\"}], \"scattergl\": [{\"marker\": {\"colorbar\": {\"outlinewidth\": 0, \"ticks\": \"\"}}, \"type\": \"scattergl\"}], \"scattermapbox\": [{\"marker\": {\"colorbar\": {\"outlinewidth\": 0, \"ticks\": \"\"}}, \"type\": \"scattermapbox\"}], \"scatterpolar\": [{\"marker\": {\"colorbar\": {\"outlinewidth\": 0, \"ticks\": \"\"}}, \"type\": \"scatterpolar\"}], \"scatterpolargl\": [{\"marker\": {\"colorbar\": {\"outlinewidth\": 0, \"ticks\": \"\"}}, \"type\": \"scatterpolargl\"}], \"scatterternary\": [{\"marker\": {\"colorbar\": {\"outlinewidth\": 0, \"ticks\": \"\"}}, \"type\": \"scatterternary\"}], \"surface\": [{\"colorbar\": {\"outlinewidth\": 0, \"ticks\": \"\"}, \"colorscale\": [[0.0, \"#0d0887\"], [0.1111111111111111, \"#46039f\"], [0.2222222222222222, \"#7201a8\"], [0.3333333333333333, \"#9c179e\"], [0.4444444444444444, \"#bd3786\"], [0.5555555555555556, \"#d8576b\"], [0.6666666666666666, \"#ed7953\"], [0.7777777777777778, \"#fb9f3a\"], [0.8888888888888888, \"#fdca26\"], [1.0, \"#f0f921\"]], \"type\": \"surface\"}], \"table\": [{\"cells\": {\"fill\": {\"color\": \"#EBF0F8\"}, \"line\": {\"color\": \"white\"}}, \"header\": {\"fill\": {\"color\": \"#C8D4E3\"}, \"line\": {\"color\": \"white\"}}, \"type\": \"table\"}]}, \"layout\": {\"annotationdefaults\": {\"arrowcolor\": \"#2a3f5f\", \"arrowhead\": 0, \"arrowwidth\": 1}, \"coloraxis\": {\"colorbar\": {\"outlinewidth\": 0, \"ticks\": \"\"}}, \"colorscale\": {\"diverging\": [[0, \"#8e0152\"], [0.1, \"#c51b7d\"], [0.2, \"#de77ae\"], [0.3, \"#f1b6da\"], [0.4, \"#fde0ef\"], [0.5, \"#f7f7f7\"], [0.6, \"#e6f5d0\"], [0.7, \"#b8e186\"], [0.8, \"#7fbc41\"], [0.9, \"#4d9221\"], [1, \"#276419\"]], \"sequential\": [[0.0, \"#0d0887\"], [0.1111111111111111, \"#46039f\"], [0.2222222222222222, \"#7201a8\"], [0.3333333333333333, \"#9c179e\"], [0.4444444444444444, \"#bd3786\"], [0.5555555555555556, \"#d8576b\"], [0.6666666666666666, \"#ed7953\"], [0.7777777777777778, \"#fb9f3a\"], [0.8888888888888888, \"#fdca26\"], [1.0, \"#f0f921\"]], \"sequentialminus\": [[0.0, \"#0d0887\"], [0.1111111111111111, \"#46039f\"], [0.2222222222222222, \"#7201a8\"], [0.3333333333333333, \"#9c179e\"], [0.4444444444444444, \"#bd3786\"], [0.5555555555555556, \"#d8576b\"], [0.6666666666666666, \"#ed7953\"], [0.7777777777777778, \"#fb9f3a\"], [0.8888888888888888, \"#fdca26\"], [1.0, \"#f0f921\"]]}, \"colorway\": [\"#636efa\", \"#EF553B\", \"#00cc96\", \"#ab63fa\", \"#FFA15A\", \"#19d3f3\", \"#FF6692\", \"#B6E880\", \"#FF97FF\", \"#FECB52\"], \"font\": {\"color\": \"#2a3f5f\"}, \"geo\": {\"bgcolor\": \"white\", \"lakecolor\": \"white\", \"landcolor\": \"#E5ECF6\", \"showlakes\": true, \"showland\": true, \"subunitcolor\": \"white\"}, \"hoverlabel\": {\"align\": \"left\"}, \"hovermode\": \"closest\", \"mapbox\": {\"style\": \"light\"}, \"paper_bgcolor\": \"white\", \"plot_bgcolor\": \"#E5ECF6\", \"polar\": {\"angularaxis\": {\"gridcolor\": \"white\", \"linecolor\": \"white\", \"ticks\": \"\"}, \"bgcolor\": \"#E5ECF6\", \"radialaxis\": {\"gridcolor\": \"white\", \"linecolor\": \"white\", \"ticks\": \"\"}}, \"scene\": {\"xaxis\": {\"backgroundcolor\": \"#E5ECF6\", \"gridcolor\": \"white\", \"gridwidth\": 2, \"linecolor\": \"white\", \"showbackground\": true, \"ticks\": \"\", \"zerolinecolor\": \"white\"}, \"yaxis\": {\"backgroundcolor\": \"#E5ECF6\", \"gridcolor\": \"white\", \"gridwidth\": 2, \"linecolor\": \"white\", \"showbackground\": true, \"ticks\": \"\", \"zerolinecolor\": \"white\"}, \"zaxis\": {\"backgroundcolor\": \"#E5ECF6\", \"gridcolor\": \"white\", \"gridwidth\": 2, \"linecolor\": \"white\", \"showbackground\": true, \"ticks\": \"\", \"zerolinecolor\": \"white\"}}, \"shapedefaults\": {\"line\": {\"color\": \"#2a3f5f\"}}, \"ternary\": {\"aaxis\": {\"gridcolor\": \"white\", \"linecolor\": \"white\", \"ticks\": \"\"}, \"baxis\": {\"gridcolor\": \"white\", \"linecolor\": \"white\", \"ticks\": \"\"}, \"bgcolor\": \"#E5ECF6\", \"caxis\": {\"gridcolor\": \"white\", \"linecolor\": \"white\", \"ticks\": \"\"}}, \"title\": {\"x\": 0.05}, \"xaxis\": {\"automargin\": true, \"gridcolor\": \"white\", \"linecolor\": \"white\", \"ticks\": \"\", \"title\": {\"standoff\": 15}, \"zerolinecolor\": \"white\", \"zerolinewidth\": 2}, \"yaxis\": {\"automargin\": true, \"gridcolor\": \"white\", \"linecolor\": \"white\", \"ticks\": \"\", \"title\": {\"standoff\": 15}, \"zerolinecolor\": \"white\", \"zerolinewidth\": 2}}}},\n",
              "                        {\"responsive\": true}\n",
              "                    ).then(function(){\n",
              "                            \n",
              "var gd = document.getElementById('6ca1c3cd-ba5a-4143-a1fd-bcb8c57eab45');\n",
              "var x = new MutationObserver(function (mutations, observer) {{\n",
              "        var display = window.getComputedStyle(gd).display;\n",
              "        if (!display || display === 'none') {{\n",
              "            console.log([gd, 'removed!']);\n",
              "            Plotly.purge(gd);\n",
              "            observer.disconnect();\n",
              "        }}\n",
              "}});\n",
              "\n",
              "// Listen for the removal of the full notebook cells\n",
              "var notebookContainer = gd.closest('#notebook-container');\n",
              "if (notebookContainer) {{\n",
              "    x.observe(notebookContainer, {childList: true});\n",
              "}}\n",
              "\n",
              "// Listen for the clearing of the current output cell\n",
              "var outputEl = gd.closest('.output');\n",
              "if (outputEl) {{\n",
              "    x.observe(outputEl, {childList: true});\n",
              "}}\n",
              "\n",
              "                        })\n",
              "                };\n",
              "                \n",
              "            </script>\n",
              "        </div>\n",
              "</body>\n",
              "</html>"
            ]
          },
          "metadata": {
            "tags": []
          }
        }
      ]
    },
    {
      "cell_type": "code",
      "metadata": {
        "colab": {
          "base_uri": "https://localhost:8080/",
          "height": 195
        },
        "id": "TTXQQg683Nuj",
        "outputId": "e2c99c5a-3bb0-48e3-e0ce-2d34651137ee"
      },
      "source": [
        "# 월간 분석\n",
        "df2 = pd.read_csv('movie_my_data_64_month.csv', encoding='euc-kr')\n",
        "df2.head()"
      ],
      "execution_count": 32,
      "outputs": [
        {
          "output_type": "execute_result",
          "data": {
            "text/html": [
              "<div>\n",
              "<style scoped>\n",
              "    .dataframe tbody tr th:only-of-type {\n",
              "        vertical-align: middle;\n",
              "    }\n",
              "\n",
              "    .dataframe tbody tr th {\n",
              "        vertical-align: top;\n",
              "    }\n",
              "\n",
              "    .dataframe thead th {\n",
              "        text-align: right;\n",
              "    }\n",
              "</style>\n",
              "<table border=\"1\" class=\"dataframe\">\n",
              "  <thead>\n",
              "    <tr style=\"text-align: right;\">\n",
              "      <th></th>\n",
              "      <th>Unnamed: 0</th>\n",
              "      <th>제목</th>\n",
              "      <th>평점</th>\n",
              "      <th>장르</th>\n",
              "      <th>줄거리</th>\n",
              "    </tr>\n",
              "  </thead>\n",
              "  <tbody>\n",
              "    <tr>\n",
              "      <th>0</th>\n",
              "      <td>0</td>\n",
              "      <td>미나리</td>\n",
              "      <td>7</td>\n",
              "      <td>드라마</td>\n",
              "      <td>\"미나리는 어디서든 잘 자라\"낯선 미국, 아칸소로 떠나온 한국 가족.가족들에게 뭔가...</td>\n",
              "    </tr>\n",
              "    <tr>\n",
              "      <th>1</th>\n",
              "      <td>1</td>\n",
              "      <td>노바디</td>\n",
              "      <td>8</td>\n",
              "      <td>액션</td>\n",
              "      <td>비범한 과거를 숨긴 채 남들과 다를 바 없는 평범한 일상을 사는 한 가정의 가장 ‘...</td>\n",
              "    </tr>\n",
              "    <tr>\n",
              "      <th>2</th>\n",
              "      <td>2</td>\n",
              "      <td>자산어보</td>\n",
              "      <td>9</td>\n",
              "      <td>드라마</td>\n",
              "      <td>“이 양반은 대역 죄인이니 너무 잘해줄 생각들 말어”순조 1년, 신유박해로 세상의 ...</td>\n",
              "    </tr>\n",
              "    <tr>\n",
              "      <th>3</th>\n",
              "      <td>3</td>\n",
              "      <td>라야와 마지막 드래곤</td>\n",
              "      <td>9</td>\n",
              "      <td>애니메이션</td>\n",
              "      <td>인간과 드래곤이 평화롭게 공존하던 신비의 땅, 쿠만드라 왕국살아있는 모든 생명을 삼...</td>\n",
              "    </tr>\n",
              "    <tr>\n",
              "      <th>4</th>\n",
              "      <td>4</td>\n",
              "      <td>소울</td>\n",
              "      <td>9</td>\n",
              "      <td>애니메이션</td>\n",
              "      <td>뉴욕에서 음악 선생님으로 일하던 ‘조’는꿈에 그리던 최고의 밴드와 재즈 클럽에서 연...</td>\n",
              "    </tr>\n",
              "  </tbody>\n",
              "</table>\n",
              "</div>"
            ],
            "text/plain": [
              "   Unnamed: 0  ...                                                줄거리\n",
              "0           0  ...  \"미나리는 어디서든 잘 자라\"낯선 미국, 아칸소로 떠나온 한국 가족.가족들에게 뭔가...\n",
              "1           1  ...  비범한 과거를 숨긴 채 남들과 다를 바 없는 평범한 일상을 사는 한 가정의 가장 ‘...\n",
              "2           2  ...  “이 양반은 대역 죄인이니 너무 잘해줄 생각들 말어”순조 1년, 신유박해로 세상의 ...\n",
              "3           3  ...  인간과 드래곤이 평화롭게 공존하던 신비의 땅, 쿠만드라 왕국살아있는 모든 생명을 삼...\n",
              "4           4  ...  뉴욕에서 음악 선생님으로 일하던 ‘조’는꿈에 그리던 최고의 밴드와 재즈 클럽에서 연...\n",
              "\n",
              "[5 rows x 5 columns]"
            ]
          },
          "metadata": {
            "tags": []
          },
          "execution_count": 32
        }
      ]
    }
  ]
}