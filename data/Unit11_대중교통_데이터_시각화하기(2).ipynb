{
  "nbformat": 4,
  "nbformat_minor": 0,
  "metadata": {
    "colab": {
      "name": "Unit11-대중교통 데이터 시각화하기(2).ipynb",
      "provenance": []
    },
    "kernelspec": {
      "name": "python3",
      "display_name": "Python 3"
    },
    "language_info": {
      "name": "python"
    }
  },
  "cells": [
    {
      "cell_type": "markdown",
      "metadata": {
        "id": "Ah9068GUktAJ"
      },
      "source": [
        "유무임 승하차 인원이 가장 많은 역 찾기"
      ]
    },
    {
      "cell_type": "code",
      "metadata": {
        "colab": {
          "base_uri": "https://localhost:8080/",
          "height": 249
        },
        "id": "PuryVb5Ekvj8",
        "outputId": "5519636d-fae8-40ad-d433-2a5094fbeca0"
      },
      "source": [
        "import csv\n",
        "f=open('subwayfee.csv') # 인코딩 uft-8 생략 가능\n",
        "data = csv.reader(f)\n",
        "next(data)\n",
        "\n",
        "mx=[0]*4   #최대 유임승차, 유임하차, 무임승차, 무임하차 인원수\n",
        "mx_station = [''] * 4 # 최대 유임승차, 유임하차, 무임승차, 무임하차 인원수역 정보\n",
        "label = ['유임승차', '유임하자','무임승차','무임하차'] \n",
        "\n",
        "for row in data:\n",
        "  for i in range(4,8) :\n",
        "    if '-' not in row[i]:\n",
        "      row[i] = int(row[i])\n",
        "      #if ('-' not in str(row[4] and '-' not in str(row[6]))and row[i] > mx[i-4]:\n",
        "      if row[i] >mx[i-4] :\n",
        "        mx[i-4] = row[i]\n",
        "        mx_station[i-4] = row[3] + ' ' + row[1] \n",
        "for i in range(4):\n",
        "  print(label[i] +':' + mx_station[i], mx[i])\n",
        " "
      ],
      "execution_count": 1,
      "outputs": [
        {
          "output_type": "error",
          "ename": "FileNotFoundError",
          "evalue": "ignored",
          "traceback": [
            "\u001b[0;31m---------------------------------------------------------------------------\u001b[0m",
            "\u001b[0;31mFileNotFoundError\u001b[0m                         Traceback (most recent call last)",
            "\u001b[0;32m<ipython-input-1-810b75953037>\u001b[0m in \u001b[0;36m<module>\u001b[0;34m()\u001b[0m\n\u001b[1;32m      1\u001b[0m \u001b[0;32mimport\u001b[0m \u001b[0mcsv\u001b[0m\u001b[0;34m\u001b[0m\u001b[0;34m\u001b[0m\u001b[0m\n\u001b[0;32m----> 2\u001b[0;31m \u001b[0mf\u001b[0m\u001b[0;34m=\u001b[0m\u001b[0mopen\u001b[0m\u001b[0;34m(\u001b[0m\u001b[0;34m'subwayfee.csv'\u001b[0m\u001b[0;34m)\u001b[0m \u001b[0;31m# 인코딩 uft-8 생략 가능\u001b[0m\u001b[0;34m\u001b[0m\u001b[0;34m\u001b[0m\u001b[0m\n\u001b[0m\u001b[1;32m      3\u001b[0m \u001b[0mdata\u001b[0m \u001b[0;34m=\u001b[0m \u001b[0mcsv\u001b[0m\u001b[0;34m.\u001b[0m\u001b[0mreader\u001b[0m\u001b[0;34m(\u001b[0m\u001b[0mf\u001b[0m\u001b[0;34m)\u001b[0m\u001b[0;34m\u001b[0m\u001b[0;34m\u001b[0m\u001b[0m\n\u001b[1;32m      4\u001b[0m \u001b[0mnext\u001b[0m\u001b[0;34m(\u001b[0m\u001b[0mdata\u001b[0m\u001b[0;34m)\u001b[0m\u001b[0;34m\u001b[0m\u001b[0;34m\u001b[0m\u001b[0m\n\u001b[1;32m      5\u001b[0m \u001b[0;34m\u001b[0m\u001b[0m\n",
            "\u001b[0;31mFileNotFoundError\u001b[0m: [Errno 2] No such file or directory: 'subwayfee.csv'"
          ]
        }
      ]
    },
    {
      "cell_type": "markdown",
      "metadata": {
        "id": "WZAefJmok0oL"
      },
      "source": [
        "유무임 승하차 인원이 가장 적은 역 찾기"
      ]
    },
    {
      "cell_type": "code",
      "metadata": {
        "id": "3FXhbUiSkyxl"
      },
      "source": [
        "import csv\n",
        "f=open('subwayfee.csv') # 인코딩 uft-8 생략 가능\n",
        "data = csv.reader(f)\n",
        "next(data)\n",
        "\n",
        "min=[999999]*4   #최대 유임승차, 유임하차, 무임승차, 무임하차 인원수\n",
        "min_station = [''] * 4 # 최대 유임승차, 유임하차, 무임승차, 무임하차 인원수역 정보\n",
        "label = ['유임승차', '유임하자','무임승차','무임하차'] \n",
        "\n",
        "for row in data:\n",
        "  for i in range(4,8) :\n",
        "    if '-' not in row[i]:\n",
        "      row[i] = int(row[i])\n",
        "      #if ('-' not in str(row[4] and '-' not in str(row[6]))and row[i] > mx[i-4]:\n",
        "      if row[i] <min[i-4] :\n",
        "        min[i-4] = row[i]\n",
        "        min_station[i-4] = row[3] + ' ' + row[1] \n",
        "for i in range(4):\n",
        "  print(label[i] +':' + min_station[i], min[i])"
      ],
      "execution_count": null,
      "outputs": []
    },
    {
      "cell_type": "markdown",
      "metadata": {
        "id": "5Ipb8SLAlV0R"
      },
      "source": [
        "유임승차 : 지축 일산선 2 유임하차 : 지평 중앙선 566 무임승차 : 충무로 3호선 2 무임하차 : 옥수 경원선 91 유임승차 : 홍대입구 경의선 2 유임하차 : 지평 중앙선 566 무임승차 : 연신내 6호선 2 무임하차 : 옥수 경원선 91 유임승차 : 홍대입구 경의선 2 유임하차 : 연신내 6호선 0 무임승차 : 검암 경의선 0 무임하차 : 연신내 6호선 0"
      ]
    },
    {
      "cell_type": "code",
      "metadata": {
        "id": "VkljD_MWlR4J"
      },
      "source": [
        "import csv\n",
        "f=open('subwayfee.csv') # 인코딩 uft-8 생략 가능\n",
        "data = csv.reader(f)\n",
        "next(data)\n",
        "\n",
        "min=[999999]*4   #최대 유임승차, 유임하차, 무임승차, 무임하차 인원수\n",
        "min_station = [''] * 4 # 최대 유임승차, 유임하차, 무임승차, 무임하차 인원수역 정보\n",
        "label = ['유임승차', '유임하자','무임승차','무임하차'] \n",
        "\n",
        "for row in data:\n",
        "  for i in range(4,8) :\n",
        "    if '-' not in row[i]:\n",
        "      row[i] = int(row[i])\n",
        "      #if ('-' not in str(row[4] and '-' not in str(row[6]))and row[i] > mx[i-4]:\n",
        "      if row[i] <min[i-4] and row[i] >= 0 :\n",
        "        min[i-4] = row[i]\n",
        "        min_station[i-4] = row[3] + ' ' + row[1]\n",
        "        print(label[i-4] ,min_station[i-4], min[i-4]) \n",
        "print('-'*100)        \n",
        "for i in range(4):\n",
        "  print(label[i] +':' + min_station[i], min[i])"
      ],
      "execution_count": null,
      "outputs": []
    },
    {
      "cell_type": "markdown",
      "metadata": {
        "id": "dkxPkp57lcwh"
      },
      "source": [
        "\n",
        "모든 역의 유무임 승하자 비율은 어떻게 될까?"
      ]
    },
    {
      "cell_type": "code",
      "metadata": {
        "id": "AQHp3-46la4U"
      },
      "source": [
        "#한글깨짐 방지 코드\n",
        "import matplotlib as mpl\n",
        "import matplotlib.pyplot as plt\n",
        " \n",
        "%config InlineBackend.figure_format = 'retina'\n",
        " \n",
        "!apt -qq -y install fonts-nanum\n",
        " \n",
        "import matplotlib.font_manager as fm\n",
        "\n",
        "fontpath = '/usr/share/fonts/truetype/nanum/NanumBarunGothic.ttf'\n",
        "font = fm.FontProperties(fname=fontpath, size=9)\n",
        "plt.rc('font', family='NanumBarunGothic') \n",
        "mpl.font_manager._rebuild()"
      ],
      "execution_count": null,
      "outputs": []
    },
    {
      "cell_type": "code",
      "metadata": {
        "id": "t3Fk2iWgliAR"
      },
      "source": [
        "import csv\n",
        "f=open('subwayfee.csv') # 인코딩 uft-8 생략 가능\n",
        "data = csv.reader(f)\n",
        "next(data)\n",
        "\n",
        "mx=[0]*4   #최대 유임승차, 유임하차, 무임승차, 무임하차 인원수\n",
        "mx_station = [''] * 4 # 최대 유임승차, 유임하차, 무임승차, 무임하차 인원수역 정보\n",
        "label = ['유임승차', '유임하자','무임승차','무임하차'] \n",
        "\n",
        "for row in data:\n",
        "  for i in range(4,8) :   # 4,5,6,7 인덱스 데이터 정수로 변경\n",
        "    row[i] =int(row[i])\n",
        "    plt.figure(dpi=200)\n",
        "    plt.pie(row[4:8], labels =label, autopct='%.1f%%')\n",
        "    plt.axis('equal')\n",
        "    plt.savefig(row[3] +' '+row[1]+'.png')\n",
        "    plt.show()"
      ],
      "execution_count": null,
      "outputs": []
    }
  ]
}