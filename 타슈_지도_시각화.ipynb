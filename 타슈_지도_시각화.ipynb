{
  "nbformat": 4,
  "nbformat_minor": 0,
  "metadata": {
    "colab": {
      "name": "타슈 지도 시각화.ipynb",
      "provenance": [],
      "collapsed_sections": [],
      "authorship_tag": "ABX9TyMUDd9Q3n3ps/dtGiI0smUm",
      "include_colab_link": true
    },
    "kernelspec": {
      "name": "python3",
      "display_name": "Python 3"
    },
    "language_info": {
      "name": "python"
    }
  },
  "cells": [
    {
      "cell_type": "markdown",
      "metadata": {
        "id": "view-in-github",
        "colab_type": "text"
      },
      "source": [
        "<a href=\"https://colab.research.google.com/github/hyunwoo94/DataScience/blob/main/%ED%83%80%EC%8A%88_%EC%A7%80%EB%8F%84_%EC%8B%9C%EA%B0%81%ED%99%94.ipynb\" target=\"_parent\"><img src=\"https://colab.research.google.com/assets/colab-badge.svg\" alt=\"Open In Colab\"/></a>"
      ]
    },
    {
      "cell_type": "code",
      "metadata": {
        "id": "Mq32VuPGebig"
      },
      "source": [
        "import pandas as pd\n",
        "import folium"
      ],
      "execution_count": null,
      "outputs": []
    },
    {
      "cell_type": "code",
      "metadata": {
        "colab": {
          "base_uri": "https://localhost:8080/",
          "height": 35
        },
        "id": "TvoFwWOgejYN",
        "outputId": "1458ad82-892e-4cb3-b8eb-f6dfb1102c15"
      },
      "source": [
        "#코랩에서 제공하는  Folium 버전 확인\n",
        "folium.__version__"
      ],
      "execution_count": null,
      "outputs": [
        {
          "output_type": "execute_result",
          "data": {
            "application/vnd.google.colaboratory.intrinsic+json": {
              "type": "string"
            },
            "text/plain": [
              "'0.8.3'"
            ]
          },
          "metadata": {
            "tags": []
          },
          "execution_count": 2
        }
      ]
    },
    {
      "cell_type": "code",
      "metadata": {
        "id": "_GXCqCwye7dN"
      },
      "source": [
        "#지도 그리기"
      ],
      "execution_count": null,
      "outputs": []
    },
    {
      "cell_type": "code",
      "metadata": {
        "id": "r8Uh_spae-gA"
      },
      "source": [
        "map = folium.Map(location=[36.351,127.386])\n",
        "map"
      ],
      "execution_count": null,
      "outputs": []
    },
    {
      "cell_type": "code",
      "metadata": {
        "id": "JqpNmXzEfMR2"
      },
      "source": [
        "# 지도 확대하기 (zoom_start 옵션)\n",
        "map = folium.Map(location=[36.351,127.386], zoom_start=12)\n",
        "map"
      ],
      "execution_count": null,
      "outputs": []
    },
    {
      "cell_type": "markdown",
      "metadata": {
        "id": "pNp1GQe5fnAu"
      },
      "source": [
        "지도 스타일 (tiles 옵션)#OpenStreetMap,Stamen Terrain(featuring hill shading and natural vegetation colors), Stamen Toner(high-contrast B+W (black and white))\n"
      ]
    },
    {
      "cell_type": "code",
      "metadata": {
        "id": "n8Sjb49ygn7R"
      },
      "source": [
        "map = folium.Map(location=[36.351,127.386], zoom_start=12, tiles='OpenStreetMap')\n",
        "map"
      ],
      "execution_count": null,
      "outputs": []
    },
    {
      "cell_type": "code",
      "metadata": {
        "id": "VZ_Ovri0f-m6"
      },
      "source": [
        "#OpenStreetMap,Stamen Terrain(featuring hill shading and natural vegetation colors), Stamen Toner(high-contrast B+W (black and white))\n",
        "map = folium.Map(location=[36.351,127.386], zoom_start=12, tiles='Stamen Toner')\n",
        "map"
      ],
      "execution_count": null,
      "outputs": []
    },
    {
      "cell_type": "code",
      "metadata": {
        "id": "s8kKHsmugTKk"
      },
      "source": [
        "map = folium.Map(location=[36.351,127.386], zoom_start=12, tiles='Stamen Terrain')\n",
        "map"
      ],
      "execution_count": null,
      "outputs": []
    },
    {
      "cell_type": "code",
      "metadata": {
        "id": "jgO3juvafjDr"
      },
      "source": [
        "#타슈 데이터 가져오기\n",
        "df= pd.read_csv('TASHU.csv')\n",
        "\n",
        "#타슈에 상태에 따라서 Marker를 다른 색으로 표시하기\n",
        "detail_location  = df.위치\n",
        "condition = df.상태정보  "
      ],
      "execution_count": null,
      "outputs": []
    },
    {
      "cell_type": "markdown",
      "metadata": {
        "id": "LvMQWEsAiDla"
      },
      "source": [
        "지도에 Markers를 이용한 타슈 위치 표시하기"
      ]
    },
    {
      "cell_type": "markdown",
      "metadata": {
        "id": "R6v7gTvWhTdN"
      },
      "source": [
        "타슈 정보 지도 시각화"
      ]
    },
    {
      "cell_type": "code",
      "metadata": {
        "id": "Vec_rHVNhPYH"
      },
      "source": [
        "#대전 중심에 대해서 map 열기\n",
        "map = folium.Map(location=[36.351,127.386], zoom_start=12)\n",
        "map"
      ],
      "execution_count": null,
      "outputs": []
    },
    {
      "cell_type": "code",
      "metadata": {
        "id": "65yWeT81iJ1a"
      },
      "source": [
        "# 지도에 Markers를 이용한 타슈 위치 표시하기\n",
        "for index_draw in range(1, len(condition)):\n",
        "  #타슈 상태에 따라 다른 화살표로 표시\n",
        "  if condition[index_draw] == '정상':\n",
        "    #정상인 경우 파란색으로\n",
        "    folium.Marker([df.loc[index_draw,'위도'], df.loc[index_draw, '경도']], \n",
        "                 popup='정상', icon = folium.Icon(color='blue', icon= 'info-sign')).add_to(map)\n",
        "  elif condition[index_draw] == 'Network 에러':\n",
        "    folium.Marker([df.loc[index_draw,'위도'], df.loc[index_draw, '경도']], \n",
        "                 popup='네트워크 에러', icon = folium.Icon(color='red', icon= 'info-sign')).add_to(map)\n",
        "  else:\n",
        "    #그 외 (학생들집)은 초록색으로\n",
        "    folium.Marker([df.loc[index_draw,'위도'], df.loc[index_draw, '경도']], \n",
        "                 popup='집', icon = folium.Icon(color='green', icon= 'info-sign')).add_to(map)\n",
        "\n",
        "  folium.Marker([37.4993623127128, 127.04585292665197], \n",
        "                 popup='우리집', icon = folium.Icon(color='yellow', icon= 'star')).add_to(map)\n",
        "#지도 확인하기\n",
        "map\n",
        "\n",
        "#map1.html 파일로 저장 -> web으로 열수 있음\n",
        "map.save('Tashu.html') "
      ],
      "execution_count": null,
      "outputs": []
    },
    {
      "cell_type": "markdown",
      "metadata": {
        "id": "KEr1lCICsb3Y"
      },
      "source": [
        "나를 지도에 그려보기"
      ]
    },
    {
      "cell_type": "code",
      "metadata": {
        "id": "AlnhrWZOsWVn"
      },
      "source": [
        "#기본 지도 그리기\n",
        "import folium\n",
        "map_osm = folium.Map(location=[36.3732178, 127.3187603], zoom_start=12,\n",
        "                     tiles='Stamen Terrain')\n",
        "map_osm"
      ],
      "execution_count": null,
      "outputs": []
    },
    {
      "cell_type": "code",
      "metadata": {
        "id": "KpCXkN92s6z-"
      },
      "source": [
        "#우리집 지도에 표시하기\n",
        "folium.Marker([36.3732178, 127.3187603], popup = 'MY HOME',\n",
        "              icon = folium.Icon(color='red', \n",
        "                                 icon='glyphicon glyphicon-home')).add_to(map_osm)\n",
        "\n",
        "map_osm"
      ],
      "execution_count": null,
      "outputs": []
    },
    {
      "cell_type": "code",
      "metadata": {
        "id": "_1xu6_EquKn5"
      },
      "source": [
        "#다각형 마커(RegularPolygonMarker) 추가\n",
        "folium.RegularPolygonMarker([36.3732178, 127.3187603], popup='MY HOME', \n",
        "                            fill_color='blue', \n",
        "                            number_of_sides=6,\n",
        "                            radius=50).add_to(map_osm)\n",
        "                            #number_of_sides 다각형의 수, radius 반지름\n",
        "      \n",
        "map_osm"
      ],
      "execution_count": null,
      "outputs": []
    },
    {
      "cell_type": "markdown",
      "metadata": {
        "id": "U_W_sBYuvUS9"
      },
      "source": [
        "나를 지도에 그려보기"
      ]
    },
    {
      "cell_type": "code",
      "metadata": {
        "id": "fHHCSn9EvWTm"
      },
      "source": [
        ""
      ],
      "execution_count": null,
      "outputs": []
    }
  ]
}