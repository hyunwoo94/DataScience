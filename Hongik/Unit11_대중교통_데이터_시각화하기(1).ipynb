{
  "nbformat": 4,
  "nbformat_minor": 0,
  "metadata": {
    "colab": {
      "name": "Unit11-대중교통 데이터 시각화하기(1).ipynb",
      "provenance": [],
      "authorship_tag": "ABX9TyNH1/IerlMlas4j55T9ts3I",
      "include_colab_link": true
    },
    "kernelspec": {
      "name": "python3",
      "display_name": "Python 3"
    },
    "language_info": {
      "name": "python"
    }
  },
  "cells": [
    {
      "cell_type": "markdown",
      "metadata": {
        "id": "view-in-github",
        "colab_type": "text"
      },
      "source": [
        "<a href=\"https://colab.research.google.com/github/hyunwoo94/DataScience/blob/main/Unit11_%EB%8C%80%EC%A4%91%EA%B5%90%ED%86%B5_%EB%8D%B0%EC%9D%B4%ED%84%B0_%EC%8B%9C%EA%B0%81%ED%99%94%ED%95%98%EA%B8%B0(1).ipynb\" target=\"_parent\"><img src=\"https://colab.research.google.com/assets/colab-badge.svg\" alt=\"Open In Colab\"/></a>"
      ]
    },
    {
      "cell_type": "code",
      "metadata": {
        "id": "XGR6esFZySsn"
      },
      "source": [
        ""
      ],
      "execution_count": null,
      "outputs": []
    },
    {
      "cell_type": "markdown",
      "metadata": {
        "id": "CruE09Lj1iho"
      },
      "source": [
        "지하철 유무임별 이용현황 데이터 정제하기"
      ]
    },
    {
      "cell_type": "markdown",
      "metadata": {
        "id": "BZfID9Xa1wHf"
      },
      "source": [
        "데이터 출력하기"
      ]
    },
    {
      "cell_type": "markdown",
      "metadata": {
        "id": "AKHZgAyu6Y9R"
      },
      "source": [
        "uft-8로 하면 엑셀에서 깨지고 utf-8 bom으로 하면 양쪽 OK\n",
        "엑셀에서 변환 안하면 코랩에서 encoding='cp949'입력해야함\n"
      ]
    },
    {
      "cell_type": "code",
      "metadata": {
        "id": "RSgg-smi1xSU"
      },
      "source": [
        "import csv\n",
        "f=open('subwayfee.csv') # 인코딩 uft-8 생략 가능\n",
        "data = csv.reader(f)\n",
        "\n",
        "for row in data:\n",
        "  print(row)"
      ],
      "execution_count": null,
      "outputs": []
    },
    {
      "cell_type": "markdown",
      "metadata": {
        "id": "AQHRKlU56u69"
      },
      "source": [
        "유임승차 수 정수형으로 변경"
      ]
    },
    {
      "cell_type": "code",
      "metadata": {
        "id": "qOsGjUd86tGF"
      },
      "source": [
        "import csv \n",
        "\n",
        "f= open('subwayfee.csv')  \n",
        "data = csv.reader(f)\n",
        "next(data)\n",
        "\n",
        "for row in data:\n",
        "  row[4] = int(row[4])\n",
        "  print(row)"
      ],
      "execution_count": null,
      "outputs": []
    },
    {
      "cell_type": "code",
      "metadata": {
        "id": "2DG_MDcv7mcp"
      },
      "source": [
        "import csv\n",
        "f=open('subwayfee.csv') # 인코딩 uft-8 생략 가능\n",
        "data = csv.reader(f)\n",
        "next(data)\n",
        "\n",
        "for row in data:\n",
        "  for i in range(4,8) : # 4,5,6,7 인덱스 데이터 정수로 변경\n",
        "    row[i] = int(row[i])\n",
        "\n",
        "  print(row)"
      ],
      "execution_count": null,
      "outputs": []
    },
    {
      "cell_type": "markdown",
      "metadata": {
        "id": "y6Yci9TkAnm3"
      },
      "source": [
        "유임승차 / 무임승차 비율의 최댓값 찾기 -> 기존 0 데이터가 '-' 데이터로 되어 있음\n",
        "rate = 유임승차 인원 / 무임 승차 인원\n"
      ]
    },
    {
      "cell_type": "code",
      "metadata": {
        "colab": {
          "base_uri": "https://localhost:8080/"
        },
        "id": "JLYTKXWO-nnQ",
        "outputId": "f094fbe5-7ff9-4116-b6e3-d01c3fafe6c5"
      },
      "source": [
        "# 유임승차 비율이 가장 높은 역은 어디일까\n",
        "\n",
        "import csv\n",
        "f=open('subwayfee.csv') # 인코딩 uft-8 생략 가능\n",
        "data = csv.reader(f)\n",
        "next(data)\n",
        "\n",
        "mx=0   #최대 유임승차 비율\n",
        "rate=0 # 유임승차 비율\n",
        "\n",
        "for row in data:\n",
        "  for i in range(4,8) : # 4,5,6,7 인덱스 데이터 정수로 변경\n",
        "    row[i] = int(row[i])\n",
        "  \n",
        "  if row[4] !=0 and row[6] !=0:\n",
        "    rate = row[4] / row[6]  # 유임승차 / 무임승차\n",
        "\n",
        "  if rate > mx:\n",
        "    mx = rate\n",
        "\n",
        "\n",
        "print(mx)"
      ],
      "execution_count": null,
      "outputs": [
        {
          "output_type": "stream",
          "text": [
            "27.5\n"
          ],
          "name": "stdout"
        }
      ]
    },
    {
      "cell_type": "code",
      "metadata": {
        "id": "HBmzkA7FXbeG"
      },
      "source": [
        "# 유임승차 비율이 가장 높은 역은 어디일까\n",
        "\n",
        "import csv\n",
        "f=open('subwayfee.csv') # 인코딩 uft-8 생략 가능\n",
        "data = csv.reader(f)\n",
        "next(data)\n",
        "\n",
        "mx=0   #최대 유임승차 비율\n",
        "rate=0 # 유임승차 비율\n",
        "\n",
        "for row in data:\n",
        "  for i in range(4,8) : # 4,5,6,7 인덱스 데이터 정수로 변경\n",
        "    row[i] = int(row[i])\n",
        "    if row[6] == 0:\n",
        "      print(row)"
      ],
      "execution_count": null,
      "outputs": []
    },
    {
      "cell_type": "markdown",
      "metadata": {
        "id": "Y-_V-AXcArRe"
      },
      "source": [
        "유임승차 / 무임승차 비율의 최댓값 찾기 -> 기존 0 데이터가 '-' 데이터로 되어 있음\n",
        "rate = 유임승차 인원 / 무임 승차 인원\n"
      ]
    },
    {
      "cell_type": "code",
      "metadata": {
        "id": "e0tvJ9ZNAv-P"
      },
      "source": [
        "import csv\n",
        "f=open('subwayfee.csv') # 인코딩 uft-8 생략 가능\n",
        "data = csv.reader(f)\n",
        "next(data)\n",
        "\n",
        "mx=0   #최대 유임승차 비율\n",
        "rate=0 # 유임승차 비율\n",
        "\n",
        "for row in data:\n",
        "  for i in range(4,8) : # 4,5,6,7 인덱스 데이터 정수로 변경\n",
        "    row[i] = int(row[i])\n",
        "  \n",
        "  if row[4] !=0 and row[6] !=0:\n",
        "    rate = row[4] / (row[4] +row[6])   # 유임승차 / 전체(유임+무임)\n",
        "\n",
        "  if rate > mx:\n",
        "    mx = rate\n",
        "    mx_station = row[3] + ' ' + row[1]  # 지하철 역 + 호선 정보 ex) 서울역 1호선\n",
        "    print(mx_station,round(mx *100,2))"
      ],
      "execution_count": null,
      "outputs": []
    },
    {
      "cell_type": "code",
      "metadata": {
        "id": "0gr-hzaCDTup"
      },
      "source": [
        "import csv\n",
        "f=open('subwayfee.csv') # 인코딩 uft-8 생략 가능\n",
        "data = csv.reader(f)\n",
        "next(data)\n",
        "\n",
        "mx=0   #최대 유임승차 비율\n",
        "rate=0 # 유임승차 비율\n",
        "mx_station = ''\n",
        "\n",
        "for row in data:\n",
        "  for i in range(4,8) : # 4,5,6,7 인덱스 데이터 정수로 변경\n",
        "    row[i] = int(row[i])\n",
        "  \n",
        "  if row[4] !=0 and row[6] !=0:\n",
        "    rate = row[4] / (row[4] +row[6])   # 유임승차 / 전체(유임+무임)\n",
        "\n",
        "  if rate > mx:\n",
        "    mx = rate\n",
        "    mx_station = row[3] + ' ' + row[1]  # 지하철 역 + 호선 정보 ex) 서울역 1호선\n",
        "print(mx_station,round(mx *100,2))"
      ],
      "execution_count": null,
      "outputs": []
    },
    {
      "cell_type": "markdown",
      "metadata": {
        "id": "_nTk7SycY-Zj"
      },
      "source": [
        "교재169  충무로 0제외 값 다시 구현해보기~~~\n"
      ]
    },
    {
      "cell_type": "markdown",
      "metadata": {
        "id": "PZb1Q0yHaUw-"
      },
      "source": [
        "유무임 승하차 인원이 가장 많은 역 찾기"
      ]
    },
    {
      "cell_type": "code",
      "metadata": {
        "id": "Fb6hBbuYY8hm"
      },
      "source": [
        "import csv\n",
        "f=open('subwayfee.csv') # 인코딩 uft-8 생략 가능\n",
        "data = csv.reader(f)\n",
        "next(data)\n",
        "\n",
        "mx=[0]*4   #최대 유임승차, 유임하차, 무임승차, 무임하차 인원수\n",
        "mx_station = [''] * 4 # 최대 유임승차, 유임하차, 무임승차, 무임하차 인원수역 정보\n",
        "label = ['유임승차', '유임하자','무임승차','무임하차'] \n",
        "\n",
        "for row in data:\n",
        "  for i in range(4,8) :\n",
        "    if '-' not in row[i]:\n",
        "      row[i] = int(row[i])\n",
        "      #if ('-' not in str(row[4] and '-' not in str(row[6]))and row[i] > mx[i-4]:\n",
        "      if row[i] >mx[i-4] :\n",
        "        mx[i-4] = row[i]\n",
        "        mx_station[i-4] = row[3] + ' ' + row[1] \n",
        "for i in range(4):\n",
        "  print(label[i] +':' + mx_station[i], mx[i])\n",
        " "
      ],
      "execution_count": null,
      "outputs": []
    },
    {
      "cell_type": "markdown",
      "metadata": {
        "id": "-6-QY009df9U"
      },
      "source": [
        "유무임 승하차 인원이 가장 적은 역 찾기"
      ]
    },
    {
      "cell_type": "code",
      "metadata": {
        "id": "Sa3Cb1XwdjMg"
      },
      "source": [
        "import csv\n",
        "f=open('subwayfee.csv') # 인코딩 uft-8 생략 가능\n",
        "data = csv.reader(f)\n",
        "next(data)\n",
        "\n",
        "min=[999999]*4   #최대 유임승차, 유임하차, 무임승차, 무임하차 인원수\n",
        "min_station = [''] * 4 # 최대 유임승차, 유임하차, 무임승차, 무임하차 인원수역 정보\n",
        "label = ['유임승차', '유임하자','무임승차','무임하차'] \n",
        "\n",
        "for row in data:\n",
        "  for i in range(4,8) :\n",
        "    if '-' not in row[i]:\n",
        "      row[i] = int(row[i])\n",
        "      #if ('-' not in str(row[4] and '-' not in str(row[6]))and row[i] > mx[i-4]:\n",
        "      if row[i] <min[i-4] :\n",
        "        min[i-4] = row[i]\n",
        "        min_station[i-4] = row[3] + ' ' + row[1] \n",
        "for i in range(4):\n",
        "  print(label[i] +':' + min_station[i], min[i])"
      ],
      "execution_count": null,
      "outputs": []
    },
    {
      "cell_type": "markdown",
      "metadata": {
        "id": "7iS7aJDwj3yE"
      },
      "source": [
        "유임승차 : 지축 일산선 2\n",
        "유임하차 : 지평 중앙선 566\n",
        "무임승차 : 충무로 3호선 2\n",
        "무임하차 : 옥수 경원선 91\n",
        "유임승차 : 홍대입구 경의선 2\n",
        "유임하차 : 지평 중앙선 566\n",
        "무임승차 : 연신내 6호선 2\n",
        "무임하차 : 옥수 경원선 91\n",
        "유임승차 : 홍대입구 경의선 2\n",
        "유임하차 : 연신내 6호선 0\n",
        "무임승차 : 검암 경의선 0\n",
        "무임하차 : 연신내 6호선 0\n"
      ]
    },
    {
      "cell_type": "code",
      "metadata": {
        "id": "X4HiVOgJj6LW"
      },
      "source": [
        "import csv\n",
        "f=open('subwayfee.csv') # 인코딩 uft-8 생략 가능\n",
        "data = csv.reader(f)\n",
        "next(data)\n",
        "\n",
        "min=[999999]*4   #최대 유임승차, 유임하차, 무임승차, 무임하차 인원수\n",
        "min_station = [''] * 4 # 최대 유임승차, 유임하차, 무임승차, 무임하차 인원수역 정보\n",
        "label = ['유임승차', '유임하자','무임승차','무임하차'] \n",
        "\n",
        "for row in data:\n",
        "  for i in range(4,8) :\n",
        "    if '-' not in row[i]:\n",
        "      row[i] = int(row[i])\n",
        "      #if ('-' not in str(row[4] and '-' not in str(row[6]))and row[i] > mx[i-4]:\n",
        "      if row[i] <min[i-4] and row[i] >= 0 :\n",
        "        min[i-4] = row[i]\n",
        "        min_station[i-4] = row[3] + ' ' + row[1]\n",
        "        print(label[i-4] ,min_station[i-4], min[i-4]) \n",
        "print('-'*100)        \n",
        "for i in range(4):\n",
        "  print(label[i] +':' + min_station[i], min[i])"
      ],
      "execution_count": null,
      "outputs": []
    },
    {
      "cell_type": "markdown",
      "metadata": {
        "id": "xPQs1pJwqNiq"
      },
      "source": [
        "모든 역의 유무임 승하자 비율은 어떻게 될까?"
      ]
    },
    {
      "cell_type": "markdown",
      "metadata": {
        "id": "UfeIZVBCq5Wo"
      },
      "source": [
        "한글깨짐 방지 코드"
      ]
    },
    {
      "cell_type": "code",
      "metadata": {
        "id": "bJbLHPaSq7IK"
      },
      "source": [
        "import matplotlib as mpl\n",
        "import matplotlib.pyplot as plt\n",
        " \n",
        "%config InlineBackend.figure_format = 'retina'\n",
        " \n",
        "!apt -qq -y install fonts-nanum\n",
        " \n",
        "import matplotlib.font_manager as fm\n",
        "\n",
        "fontpath = '/usr/share/fonts/truetype/nanum/NanumBarunGothic.ttf'\n",
        "font = fm.FontProperties(fname=fontpath, size=9)\n",
        "plt.rc('font', family='NanumBarunGothic') \n",
        "mpl.font_manager._rebuild()"
      ],
      "execution_count": null,
      "outputs": []
    },
    {
      "cell_type": "code",
      "metadata": {
        "id": "eA8V6DIRrKHX"
      },
      "source": [
        "import csv\n",
        "f=open('subwayfee.csv') # 인코딩 uft-8 생략 가능\n",
        "data = csv.reader(f)\n",
        "next(data)\n",
        "\n",
        "mx=[0]*4   #최대 유임승차, 유임하차, 무임승차, 무임하차 인원수\n",
        "mx_station = [''] * 4 # 최대 유임승차, 유임하차, 무임승차, 무임하차 인원수역 정보\n",
        "label = ['유임승차', '유임하자','무임승차','무임하차'] \n",
        "\n",
        "for row in data:\n",
        "  for i in range(4,8) :   # 4,5,6,7 인덱스 데이터 정수로 변경\n",
        "    row[i] =int(row[i])\n",
        "    plt.figure(dpi=200)\n",
        "    plt.pie(row[4:8], labels =label, autopct='%.1f%%')\n",
        "    plt.axis('equal')\n",
        "    plt.savefig(row[3] +' '+row[1]+'.png')\n",
        "    plt.show()"
      ],
      "execution_count": null,
      "outputs": []
    }
  ]
}
