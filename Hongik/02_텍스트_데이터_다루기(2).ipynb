{
  "nbformat": 4,
  "nbformat_minor": 0,
  "metadata": {
    "colab": {
      "name": "02_텍스트 데이터 다루기(2).ipynb",
      "provenance": [],
      "collapsed_sections": [],
      "authorship_tag": "ABX9TyNISVW3Fd0RyyDxPFpqPTo1",
      "include_colab_link": true
    },
    "kernelspec": {
      "name": "python3",
      "display_name": "Python 3"
    },
    "language_info": {
      "name": "python"
    }
  },
  "cells": [
    {
      "cell_type": "markdown",
      "metadata": {
        "id": "view-in-github",
        "colab_type": "text"
      },
      "source": [
        "<a href=\"https://colab.research.google.com/github/hyunwoo94/DataScience/blob/main/02_%ED%85%8D%EC%8A%A4%ED%8A%B8_%EB%8D%B0%EC%9D%B4%ED%84%B0_%EB%8B%A4%EB%A3%A8%EA%B8%B0(2).ipynb\" target=\"_parent\"><img src=\"https://colab.research.google.com/assets/colab-badge.svg\" alt=\"Open In Colab\"/></a>"
      ]
    },
    {
      "cell_type": "markdown",
      "metadata": {
        "id": "yJ5SD5DSi9ck"
      },
      "source": [
        "csv 파일 다루기\n",
        "statistice 모듈을 사용해서 나이 변수의 평균과 표준편차 구하기\n",
        "데이터 가져오기"
      ]
    },
    {
      "cell_type": "code",
      "metadata": {
        "id": "j0sRT9GKd12g"
      },
      "source": [
        "import csv\n",
        "with open(\"/content/Demographic_Statistics_By_Zip_Code.csv\") as infile:\n",
        "  data =list(csv.reader(infile))"
      ],
      "execution_count": null,
      "outputs": []
    },
    {
      "cell_type": "code",
      "metadata": {
        "id": "rzXoAQfqB0EH"
      },
      "source": [
        "data"
      ],
      "execution_count": null,
      "outputs": []
    },
    {
      "cell_type": "code",
      "metadata": {
        "colab": {
          "base_uri": "https://localhost:8080/"
        },
        "id": "Eed-5P9WkFL3",
        "outputId": "d7c291eb-0440-43e0-c61b-8a34010be7dd"
      },
      "source": [
        "#첫번째 레코드에 count participants 데이터 인덱스 값 추출 data[0] 컬럼값\n",
        "countParticipantsindex = data[0].index(\"COUNT PARTICIPANTS\")\n",
        "countParticipantsindex"
      ],
      "execution_count": null,
      "outputs": [
        {
          "output_type": "execute_result",
          "data": {
            "text/plain": [
              "1"
            ]
          },
          "metadata": {
            "tags": []
          },
          "execution_count": 5
        }
      ]
    },
    {
      "cell_type": "code",
      "metadata": {
        "id": "hY4MVi6Yk-x6"
      },
      "source": [
        "# count participants 데이터 추출\n",
        "countParticipants = [int(row[countParticipantsindex]) for row in data[1:]] #리스트 내포\n",
        "countParticipants"
      ],
      "execution_count": null,
      "outputs": []
    },
    {
      "cell_type": "markdown",
      "metadata": {
        "id": "Z8GUQaWymnT7"
      },
      "source": [
        "나이의 평균과 표준편차"
      ]
    },
    {
      "cell_type": "code",
      "metadata": {
        "colab": {
          "base_uri": "https://localhost:8080/"
        },
        "id": "KiioU-Ydmlb9",
        "outputId": "52f50742-f460-457a-cb1a-054ff68517a1"
      },
      "source": [
        "import statistics\n",
        "print(statistics.mean(countParticipants), statistics.stdev(countParticipants))"
      ],
      "execution_count": null,
      "outputs": [
        {
          "output_type": "stream",
          "text": [
            "17.661016949152543 43.27973735299687\n"
          ],
          "name": "stdout"
        }
      ]
    },
    {
      "cell_type": "markdown",
      "metadata": {
        "id": "tjrrv5nevUJ_"
      },
      "source": [
        "자연어 처리하기"
      ]
    },
    {
      "cell_type": "code",
      "metadata": {
        "colab": {
          "base_uri": "https://localhost:8080/"
        },
        "id": "X27JmXrosr5y",
        "outputId": "d2376ccb-d716-42ef-c477-1431936d0244"
      },
      "source": [
        "pip install nltk"
      ],
      "execution_count": null,
      "outputs": [
        {
          "output_type": "stream",
          "text": [
            "Requirement already satisfied: nltk in /usr/local/lib/python3.7/dist-packages (3.2.5)\n",
            "Requirement already satisfied: six in /usr/local/lib/python3.7/dist-packages (from nltk) (1.15.0)\n"
          ],
          "name": "stdout"
        }
      ]
    },
    {
      "cell_type": "code",
      "metadata": {
        "colab": {
          "base_uri": "https://localhost:8080/",
          "height": 35
        },
        "id": "umPdAEvLvfSX",
        "outputId": "ddc2b77e-df67-4a38-ee35-32c3d07bc7cd"
      },
      "source": [
        "import nltk\n",
        "nltk.__version__"
      ],
      "execution_count": null,
      "outputs": [
        {
          "output_type": "execute_result",
          "data": {
            "application/vnd.google.colaboratory.intrinsic+json": {
              "type": "string"
            },
            "text/plain": [
              "'3.2.5'"
            ]
          },
          "metadata": {
            "tags": []
          },
          "execution_count": 18
        }
      ]
    },
    {
      "cell_type": "code",
      "metadata": {
        "colab": {
          "base_uri": "https://localhost:8080/"
        },
        "id": "HUF9Rjgpvkwy",
        "outputId": "9237c861-78f4-4b21-ce50-cf99d43b1dde"
      },
      "source": [
        "#https://frhyme.github.io/python-lib/nltk-wordnet/#intro\n",
        "nltk.download('wordnet')"
      ],
      "execution_count": null,
      "outputs": [
        {
          "output_type": "stream",
          "text": [
            "[nltk_data] Downloading package wordnet to /root/nltk_data...\n",
            "[nltk_data]   Package wordnet is already up-to-date!\n"
          ],
          "name": "stdout"
        },
        {
          "output_type": "execute_result",
          "data": {
            "text/plain": [
              "True"
            ]
          },
          "metadata": {
            "tags": []
          },
          "execution_count": 20
        }
      ]
    },
    {
      "cell_type": "code",
      "metadata": {
        "colab": {
          "base_uri": "https://localhost:8080/"
        },
        "id": "sB7zbIQdxNw1",
        "outputId": "29a89e6a-d4f4-459e-c7c1-c08d7a9c8e3d"
      },
      "source": [
        "wn = nltk.corpus.wordnet # 코퍼스 리더(reader)\n",
        "\n",
        "#synset : 유의어 묶음으로 단어-품사-순번 으로 구성\n",
        "wn.synsets(\"cat\")"
      ],
      "execution_count": null,
      "outputs": [
        {
          "output_type": "execute_result",
          "data": {
            "text/plain": [
              "[Synset('cat.n.01'),\n",
              " Synset('guy.n.01'),\n",
              " Synset('cat.n.03'),\n",
              " Synset('kat.n.01'),\n",
              " Synset('cat-o'-nine-tails.n.01'),\n",
              " Synset('caterpillar.n.02'),\n",
              " Synset('big_cat.n.01'),\n",
              " Synset('computerized_tomography.n.01'),\n",
              " Synset('cat.v.01'),\n",
              " Synset('vomit.v.01')]"
            ]
          },
          "metadata": {
            "tags": []
          },
          "execution_count": 21
        }
      ]
    },
    {
      "cell_type": "code",
      "metadata": {
        "colab": {
          "base_uri": "https://localhost:8080/"
        },
        "id": "WEOM6Gr4xyRb",
        "outputId": "840da6c9-fd24-40f7-b729-cd2a4b19cedf"
      },
      "source": [
        "wn.synset('cat.n.01').hypernyms() #hypernyms 상위어\n",
        "wn.synset('cat.n.01').hyponyms()  #hypernyms : 하위어"
      ],
      "execution_count": null,
      "outputs": [
        {
          "output_type": "execute_result",
          "data": {
            "text/plain": [
              "[Synset('domestic_cat.n.01'), Synset('wildcat.n.03')]"
            ]
          },
          "metadata": {
            "tags": []
          },
          "execution_count": 22
        }
      ]
    },
    {
      "cell_type": "markdown",
      "metadata": {
        "id": "_lP-0ksLzCGs"
      },
      "source": [
        "wordNet 사용해서 synset간 의미론적 유사도 계산하기(0-1사이 실수)\n",
        "0이면 두 단어 서로 관계없음\n",
        "1이면 완전한 유의어"
      ]
    },
    {
      "cell_type": "code",
      "metadata": {
        "colab": {
          "base_uri": "https://localhost:8080/"
        },
        "id": "t8cCnzYAzPHg",
        "outputId": "7de3e12b-edb8-4247-a269-71a5f4ee954d"
      },
      "source": [
        "#고양이, 링스 : 시라소니 유사도 계산\n",
        "x = wn.synset('cat.n.01') # 고양이\n",
        "y = wn.synset('lynx.n.01') # 시라소니\n",
        "\n",
        "# x, y 유사도 계산\n",
        "x.path_similarity(y)"
      ],
      "execution_count": null,
      "outputs": [
        {
          "output_type": "execute_result",
          "data": {
            "text/plain": [
              "0.04"
            ]
          },
          "metadata": {
            "tags": []
          },
          "execution_count": 24
        }
      ]
    },
    {
      "cell_type": "code",
      "metadata": {
        "colab": {
          "base_uri": "https://localhost:8080/"
        },
        "id": "neSrxyTiz4VW",
        "outputId": "8fbb87ba-6ecb-4047-861a-089551cfaf00"
      },
      "source": [
        "x = wn.synset('cat.n.01') # 고양이\n",
        "y = wn.synset('domestic_cat.n.01') # 집고양이\n",
        "\n",
        "x.path_similarity(y)"
      ],
      "execution_count": null,
      "outputs": [
        {
          "output_type": "execute_result",
          "data": {
            "text/plain": [
              "0.5"
            ]
          },
          "metadata": {
            "tags": []
          },
          "execution_count": 25
        }
      ]
    },
    {
      "cell_type": "code",
      "metadata": {
        "colab": {
          "base_uri": "https://localhost:8080/"
        },
        "id": "TtV-3P1g0JVi",
        "outputId": "4469dbca-820c-40ca-8bd1-85a3793daa2b"
      },
      "source": [
        "x = wn.synset('cat.n.01') # 고양이\n",
        "y = wn.synset('cat.n.01') # 집고양이\n",
        "\n",
        "x.path_similarity(y)"
      ],
      "execution_count": null,
      "outputs": [
        {
          "output_type": "execute_result",
          "data": {
            "text/plain": [
              "1.0"
            ]
          },
          "metadata": {
            "tags": []
          },
          "execution_count": 26
        }
      ]
    },
    {
      "cell_type": "code",
      "metadata": {
        "colab": {
          "base_uri": "https://localhost:8080/"
        },
        "id": "AwhUPGv00VC2",
        "outputId": "6e88202a-0451-494b-b23e-f9358bd653b2"
      },
      "source": [
        "wn.synset('dog.n.01').hypernyms()"
      ],
      "execution_count": null,
      "outputs": [
        {
          "output_type": "execute_result",
          "data": {
            "text/plain": [
              "[Synset('canine.n.02'), Synset('domestic_animal.n.01')]"
            ]
          },
          "metadata": {
            "tags": []
          },
          "execution_count": 27
        }
      ]
    },
    {
      "cell_type": "code",
      "metadata": {
        "colab": {
          "base_uri": "https://localhost:8080/"
        },
        "id": "cJ0ypv-I3zXK",
        "outputId": "31431db9-19da-42b8-96d7-99722f39a7ba"
      },
      "source": [
        "# 1. 토큰화 (텍스트 -> 단어로 쪼갠다. )\n",
        "\n",
        "from nltk.tokenize import WordPunctTokenizer\n",
        "word_punct = WordPunctTokenizer()\n",
        "\n",
        "text = \"}Help!  :))) :[ ..... :D{\"\n",
        "\n",
        "# Tokenizer는 모든 구두점(punctuation: 문장부호)을 기준으로 분리 \n",
        "# -> 이모티콘을 이용한 감성 분석 등 문장구조 깊이 분석 할 때 사용\n",
        "\n",
        "word_punct.tokenize(text)"
      ],
      "execution_count": null,
      "outputs": [
        {
          "output_type": "execute_result",
          "data": {
            "text/plain": [
              "['}', 'Help', '!', ':)))', ':[', '.....', ':', 'D', '{']"
            ]
          },
          "metadata": {
            "tags": []
          },
          "execution_count": 29
        }
      ]
    },
    {
      "cell_type": "code",
      "metadata": {
        "colab": {
          "base_uri": "https://localhost:8080/"
        },
        "id": "oaGKG7gq6VNS",
        "outputId": "88ac2286-a7fd-426f-8852-644a59553b70"
      },
      "source": [
        "#단어 토크나이저\n",
        "import nltk\n",
        "nltk.download('punkt')"
      ],
      "execution_count": null,
      "outputs": [
        {
          "output_type": "stream",
          "text": [
            "[nltk_data] Downloading package punkt to /root/nltk_data...\n",
            "[nltk_data]   Package punkt is already up-to-date!\n"
          ],
          "name": "stdout"
        },
        {
          "output_type": "execute_result",
          "data": {
            "text/plain": [
              "True"
            ]
          },
          "metadata": {
            "tags": []
          },
          "execution_count": 33
        }
      ]
    },
    {
      "cell_type": "code",
      "metadata": {
        "colab": {
          "base_uri": "https://localhost:8080/"
        },
        "id": "L3zlhPEC6yTG",
        "outputId": "ad0d3e47-6d0d-4efb-b051-4860edaab688"
      },
      "source": [
        "nltk.word_tokenize(text)"
      ],
      "execution_count": null,
      "outputs": [
        {
          "output_type": "execute_result",
          "data": {
            "text/plain": [
              "['}', 'Help', '!', ':', ')', ')', ')', ':', '[', '...', '..', ':', 'D', '{']"
            ]
          },
          "metadata": {
            "tags": []
          },
          "execution_count": 42
        }
      ]
    },
    {
      "cell_type": "code",
      "metadata": {
        "colab": {
          "base_uri": "https://localhost:8080/",
          "height": 35
        },
        "id": "Sg7zVigX7AzG",
        "outputId": "5dca244e-235d-4845-ed1e-990948392086"
      },
      "source": [
        "# 2. 단어의 대소문자를 통일한다( 전부 다 대문자 or 소문자)\n",
        "# 3. 불용어 제거 (stopwords 리스트 참조 THE 같은 것들 제거)\n",
        "# 4. 형태소 분석(stemming)  단어를 형태소로 변환\n",
        "\n",
        "# 포터 형태소 분석기 (보수정)\n",
        "pstemmer = nltk.PorterStemmer()\n",
        "pstemmer.stem(\"wonderful\")"
      ],
      "execution_count": null,
      "outputs": [
        {
          "output_type": "execute_result",
          "data": {
            "application/vnd.google.colaboratory.intrinsic+json": {
              "type": "string"
            },
            "text/plain": [
              "'wonder'"
            ]
          },
          "metadata": {
            "tags": []
          },
          "execution_count": 43
        }
      ]
    },
    {
      "cell_type": "code",
      "metadata": {
        "colab": {
          "base_uri": "https://localhost:8080/",
          "height": 35
        },
        "id": "23X-67S07sMs",
        "outputId": "17ece5a3-0fd8-47fc-9cb2-01365125761f"
      },
      "source": [
        "#랭커스터 형태소 분석기 (적극적) - 더 많은 동음이의어 형태소 생산\n",
        "lstemmer = nltk.LancasterStemmer()\n",
        "lstemmer.stem(\"wonderful\")"
      ],
      "execution_count": null,
      "outputs": [
        {
          "output_type": "execute_result",
          "data": {
            "application/vnd.google.colaboratory.intrinsic+json": {
              "type": "string"
            },
            "text/plain": [
              "'wond'"
            ]
          },
          "metadata": {
            "tags": []
          },
          "execution_count": 58
        }
      ]
    },
    {
      "cell_type": "code",
      "metadata": {
        "colab": {
          "base_uri": "https://localhost:8080/",
          "height": 35
        },
        "id": "3ACgzRm5798s",
        "outputId": "93415eea-6469-4b03-d866-e2cbb6799b59"
      },
      "source": [
        "# 5. 원형 추출\n",
        "lemmatizer = nltk.WordNetLemmatizer()\n",
        "lemmatizer.lemmatize(\"wonder\")"
      ],
      "execution_count": null,
      "outputs": [
        {
          "output_type": "execute_result",
          "data": {
            "application/vnd.google.colaboratory.intrinsic+json": {
              "type": "string"
            },
            "text/plain": [
              "'wonder'"
            ]
          },
          "metadata": {
            "tags": []
          },
          "execution_count": 62
        }
      ]
    },
    {
      "cell_type": "code",
      "metadata": {
        "colab": {
          "base_uri": "https://localhost:8080/"
        },
        "id": "qZLLJzQm8isU",
        "outputId": "dd7ecbfc-08e3-4a6f-a86b-66443ed6f158"
      },
      "source": [
        "# 그외 품사 태깅\n",
        "nltk.download('averaged_perceptron_tagger')\n",
        "nltk.pos_tag([\"beautiful\", \"world\"]) # JJ\tadjective(형용사), NN\tnoun(명사)\n",
        "#https://happygrammer.github.io/nlp/postag-set/참조"
      ],
      "execution_count": null,
      "outputs": [
        {
          "output_type": "stream",
          "text": [
            "[nltk_data] Downloading package averaged_perceptron_tagger to\n",
            "[nltk_data]     /root/nltk_data...\n",
            "[nltk_data]   Unzipping taggers/averaged_perceptron_tagger.zip.\n"
          ],
          "name": "stdout"
        },
        {
          "output_type": "execute_result",
          "data": {
            "text/plain": [
              "[('beautiful', 'JJ'), ('world', 'NN')]"
            ]
          },
          "metadata": {
            "tags": []
          },
          "execution_count": 47
        }
      ]
    },
    {
      "cell_type": "code",
      "metadata": {
        "id": "C-ttegH6V2CS"
      },
      "source": [
        "from urllib.request import urlopen\n",
        "\n",
        "# www.networksciencelab.com 사이트에서 하이퍼 링크 모두 가져오기\n",
        "with urlopen(\"http://www.networksciencelab.com/\") as doc:\n",
        "  soup = BeautifulSoup(doc)\n",
        "\n",
        "  # 하이퍼 링크 추출\n",
        "links = [(link.string, link[\"href\"]) for link in soup.find_all(\"a\") if link.has_attr(\"href\")]"
      ],
      "execution_count": null,
      "outputs": []
    },
    {
      "cell_type": "markdown",
      "metadata": {
        "id": "olsrbJxm83ma"
      },
      "source": [
        "index.html 파일에서(불용어 제외) 가장 많이 등장한 단어 원형 찾아보기"
      ]
    },
    {
      "cell_type": "code",
      "metadata": {
        "colab": {
          "base_uri": "https://localhost:8080/",
          "height": 142
        },
        "id": "WYj_gxg28_ev",
        "outputId": "60e94b94-2e1b-43e2-e6f8-9ac39b073107"
      },
      "source": [
        "# 책 제목만 추출\n",
        "html_text = [i[0] for i in links]\n",
        "\n",
        "#None 데이터 제거\n",
        "html_text = \" \".join(html_text[2:])\n",
        "html_text"
      ],
      "execution_count": null,
      "outputs": [
        {
          "output_type": "execute_result",
          "data": {
            "application/vnd.google.colaboratory.intrinsic+json": {
              "type": "string"
            },
            "text/plain": [
              "'DZPYDS DZCNAPY Networks of Music Groups as Success Predictors Network Science Workshop Resilience in Transaction-Oriented Networks Peer Ratings in Massive Online Social Networks Semantic Networks of Interests in Online NSSI Communities Towards an Ideal Store D.Zinoviev, \"Analyzing Cultural Domains with Python,\" D. Zinoviev, D. Stefanescu, G. Fireman, and L. Swenson, \"Semantic networks of interests in online non-suicidal self-injury communities,\" D.Zinoviev, \"The Pain of Complexity,\" D.Zinoviev, Z.Zhu, and K.Li, \"Building mini-categories in product networks,\" D.Zinoviev, H.Benbrahim, G.Meszoely, and D.Stefanescu, \"Mitigation of delayed management costs in transaction-oriented systems,\" D.Zinoviev, H.Benbrahim, G.Meszoely, and D.Stefanescu, \"Simulating resilience in transaction-oriented networks,\" D.Zinoviev, D.Stefanescu, L.Swenson, and G.Fireman, \"Semantic networks of interests in online NSSI communities,\" D.Zinoviev and S.Llewelyn, \"Co-Evolution of Friendship and Publishing in Online Blogging Social Networks,\" D.Zinoviev, \"Information diffusion in social networks,\" D.Zinoviev and V.Duong, \"A game theoretical approach to broadcast  information diffusion in social networks,\" D.Zinoviev and V.Duong, \"A game theoretical approach to modeling full-duplex information dissemination,\" D.Zinoviev, V.Duong, and H.Zhang, \"A game theoretical approach to modeling information dissemination in social networks,\" D.Zinoviev and V.Duong, \"Toward Understanding Friendship in Online Social Networks,\" D.Zinoviev, \"Topology and Geometry of Online Social Networks,\" Vixi: The Game of Meaning Evgenia Cherkasova All Characters from War and Peace by L.Tolstoy Mapping the Bible: Social Networks in the Holy Book FIFA World Cup 2014: Who Beat Whom? The seed post \"9 American habits I lost when I moved to Germany\" and its 125 \"likes\" and \"shares\" on Facebook Email Suffolk University Google Scholar LinkedIn Academia.edu ResearchGate'"
            ]
          },
          "metadata": {
            "tags": []
          },
          "execution_count": 101
        }
      ]
    },
    {
      "cell_type": "code",
      "metadata": {
        "id": "kAjuuJHt-ZwO"
      },
      "source": [
        "# index.html 파일로 저장\n",
        "html_file = open(\"index.html\",'w')\n",
        "html_file.write(html_text)\n",
        "html_file.close()"
      ],
      "execution_count": null,
      "outputs": []
    },
    {
      "cell_type": "code",
      "metadata": {
        "colab": {
          "base_uri": "https://localhost:8080/",
          "height": 142
        },
        "id": "LS8w3pdYAdjL",
        "outputId": "b49f087d-b99c-4301-ea1d-63c30a6cd352"
      },
      "source": [
        "# None 데이터 제거 -> 리스트에서 하나의 텍스트로 변환\n",
        "html_text = \"\".join(html_text[2:])\n",
        "html_text"
      ],
      "execution_count": null,
      "outputs": [
        {
          "output_type": "execute_result",
          "data": {
            "application/vnd.google.colaboratory.intrinsic+json": {
              "type": "string"
            },
            "text/plain": [
              "'PYDS DZCNAPY Networks of Music Groups as Success Predictors Network Science Workshop Resilience in Transaction-Oriented Networks Peer Ratings in Massive Online Social Networks Semantic Networks of Interests in Online NSSI Communities Towards an Ideal Store D.Zinoviev, \"Analyzing Cultural Domains with Python,\" D. Zinoviev, D. Stefanescu, G. Fireman, and L. Swenson, \"Semantic networks of interests in online non-suicidal self-injury communities,\" D.Zinoviev, \"The Pain of Complexity,\" D.Zinoviev, Z.Zhu, and K.Li, \"Building mini-categories in product networks,\" D.Zinoviev, H.Benbrahim, G.Meszoely, and D.Stefanescu, \"Mitigation of delayed management costs in transaction-oriented systems,\" D.Zinoviev, H.Benbrahim, G.Meszoely, and D.Stefanescu, \"Simulating resilience in transaction-oriented networks,\" D.Zinoviev, D.Stefanescu, L.Swenson, and G.Fireman, \"Semantic networks of interests in online NSSI communities,\" D.Zinoviev and S.Llewelyn, \"Co-Evolution of Friendship and Publishing in Online Blogging Social Networks,\" D.Zinoviev, \"Information diffusion in social networks,\" D.Zinoviev and V.Duong, \"A game theoretical approach to broadcast  information diffusion in social networks,\" D.Zinoviev and V.Duong, \"A game theoretical approach to modeling full-duplex information dissemination,\" D.Zinoviev, V.Duong, and H.Zhang, \"A game theoretical approach to modeling information dissemination in social networks,\" D.Zinoviev and V.Duong, \"Toward Understanding Friendship in Online Social Networks,\" D.Zinoviev, \"Topology and Geometry of Online Social Networks,\" Vixi: The Game of Meaning Evgenia Cherkasova All Characters from War and Peace by L.Tolstoy Mapping the Bible: Social Networks in the Holy Book FIFA World Cup 2014: Who Beat Whom? The seed post \"9 American habits I lost when I moved to Germany\" and its 125 \"likes\" and \"shares\" on Facebook Email Suffolk University Google Scholar LinkedIn Academia.edu ResearchGate'"
            ]
          },
          "metadata": {
            "tags": []
          },
          "execution_count": 97
        }
      ]
    },
    {
      "cell_type": "markdown",
      "metadata": {
        "id": "Z7WyhUcZXfX2"
      },
      "source": [
        "index.html 파일에서 (불용어 제외 ) 가장 많이 등장한 단어 원형 찾아보기"
      ]
    },
    {
      "cell_type": "code",
      "metadata": {
        "id": "8K7Ccg50Wtar"
      },
      "source": [
        "from bs4 import BeautifulSoup\n",
        "from collections import Counter\n",
        "from nltk.corpus import stopwords\n",
        "from nltk import LancasterStemmer\n",
        " \n",
        "#형태소 분류기를 생성한다.\n",
        "ls = nltk.LancasterStemmer()\n",
        "\n",
        "# 파일을 읽고 soup을 만든다.\n",
        "with open(\"/content/index.html\") as infile:\n",
        "  soup = BeautifulSoup(infile)"
      ],
      "execution_count": null,
      "outputs": []
    },
    {
      "cell_type": "code",
      "metadata": {
        "id": "0Lyyiut3Ycap"
      },
      "source": [
        "soup"
      ],
      "execution_count": null,
      "outputs": []
    },
    {
      "cell_type": "code",
      "metadata": {
        "id": "j3o1l873Yi65"
      },
      "source": [
        "soup.text"
      ],
      "execution_count": null,
      "outputs": []
    },
    {
      "cell_type": "code",
      "metadata": {
        "id": "m2RpVEGSaMGk"
      },
      "source": [
        "#텍스트 추출 -> 토큰화\n",
        "words = nltk.word_tokenize(soup.text)\n",
        "words"
      ],
      "execution_count": null,
      "outputs": []
    },
    {
      "cell_type": "code",
      "metadata": {
        "id": "IX0sZ7XGabS6"
      },
      "source": [
        "# 2) 단어를 소문자로 변환\n",
        "words = [w.lower() for w in words]\n",
        "words"
      ],
      "execution_count": null,
      "outputs": []
    },
    {
      "cell_type": "code",
      "metadata": {
        "colab": {
          "base_uri": "https://localhost:8080/"
        },
        "id": "u0-gIn4MbTYs",
        "outputId": "e3d24841-d7dc-4695-947f-efb8c2294c35"
      },
      "source": [
        "# 3) 불용어를 제거하고 단어의 형태소를 추출\n",
        "# 3-1) 불용어, 제거 stopwords.words(\"english\")\n",
        "# 3-2) 특수기호 제거 isalnum()\n",
        "nltk.download('stopwords')\n",
        "words = [ls.stem(w) for w in words if w not in stopwords.words(\"english\") and w.isalnum()]\n",
        "#isalnum() 문자열이 알파벳([a-zA-Z])과 숫자([0-9])로만 구성"
      ],
      "execution_count": null,
      "outputs": [
        {
          "output_type": "stream",
          "text": [
            "[nltk_data] Downloading package stopwords to /root/nltk_data...\n",
            "[nltk_data]   Unzipping corpora/stopwords.zip.\n"
          ],
          "name": "stdout"
        }
      ]
    },
    {
      "cell_type": "code",
      "metadata": {
        "colab": {
          "base_uri": "https://localhost:8080/"
        },
        "id": "u0ks3FTIdavx",
        "outputId": "12aa5fff-cff5-4414-dc4a-0bd3679225d1"
      },
      "source": [
        "# 4)가장 빈번하게 등장하는 단어 10개 추출\n",
        "freqs = Counter(words)\n",
        "print(freqs.most_common(10))"
      ],
      "execution_count": null,
      "outputs": [
        {
          "output_type": "stream",
          "text": [
            "[('network', 16), ('soc', 8), ('onlin', 7), ('inform', 4), ('gam', 4), ('sem', 3), ('interest', 3), ('commun', 3), ('the', 3), ('a', 3)]\n"
          ],
          "name": "stdout"
        }
      ]
    },
    {
      "cell_type": "code",
      "metadata": {
        "id": "uCNF5-zjhwW3"
      },
      "source": [
        ""
      ],
      "execution_count": null,
      "outputs": []
    }
  ]
}
