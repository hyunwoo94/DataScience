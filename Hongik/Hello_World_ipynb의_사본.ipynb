{
  "nbformat": 4,
  "nbformat_minor": 0,
  "metadata": {
    "colab": {
      "name": "Hello World.ipynb의 사본",
      "provenance": [],
      "collapsed_sections": [],
      "authorship_tag": "ABX9TyMqO4gdwEQMbUhtpIeu9d3l",
      "include_colab_link": true
    },
    "kernelspec": {
      "name": "python3",
      "display_name": "Python 3"
    },
    "language_info": {
      "name": "python"
    }
  },
  "cells": [
    {
      "cell_type": "markdown",
      "metadata": {
        "id": "view-in-github",
        "colab_type": "text"
      },
      "source": [
        "<a href=\"https://colab.research.google.com/github/hyunwoo94/DataScience/blob/main/Hello_World_ipynb%EC%9D%98_%EC%82%AC%EB%B3%B8.ipynb\" target=\"_parent\"><img src=\"https://colab.research.google.com/assets/colab-badge.svg\" alt=\"Open In Colab\"/></a>"
      ]
    },
    {
      "cell_type": "code",
      "metadata": {
        "colab": {
          "base_uri": "https://localhost:8080/"
        },
        "id": "bB9PKcGnn7Jy",
        "outputId": "0830f059-a2e0-4b53-9fce-b11e8b3b388f"
      },
      "source": [
        "print('Hello World')"
      ],
      "execution_count": null,
      "outputs": [
        {
          "output_type": "stream",
          "text": [
            "Hello World\n"
          ],
          "name": "stdout"
        }
      ]
    },
    {
      "cell_type": "code",
      "metadata": {
        "id": "9x1RQt3cWQE3",
        "colab": {
          "base_uri": "https://localhost:8080/"
        },
        "outputId": "5dc62659-2931-48e9-aa5a-abd8ef250c51"
      },
      "source": [
        "myList = \"This string\\n\\r has many\\t\\tspaces\\tThis string\\n\\r has many\\t\\tspaces\".split()\n",
        "myList"
      ],
      "execution_count": null,
      "outputs": [
        {
          "output_type": "execute_result",
          "data": {
            "text/plain": [
              "['This',\n",
              " 'string',\n",
              " 'has',\n",
              " 'many',\n",
              " 'spaces',\n",
              " 'This',\n",
              " 'string',\n",
              " 'has',\n",
              " 'many',\n",
              " 'spaces']"
            ]
          },
          "metadata": {
            "tags": []
          },
          "execution_count": 12
        }
      ]
    },
    {
      "cell_type": "code",
      "metadata": {
        "id": "h2CVz_9hWWEC",
        "colab": {
          "base_uri": "https://localhost:8080/"
        },
        "outputId": "cbd8d787-4a8f-48e2-d0e3-f4ddf0019368"
      },
      "source": [
        "# 1) 셋 변환 (중복 제거)\n",
        "set(myList) #이렇게하면, set의 형태로 자료가 만들어진 것이다."
      ],
      "execution_count": null,
      "outputs": [
        {
          "output_type": "execute_result",
          "data": {
            "text/plain": [
              "{'This', 'has', 'many', 'spaces', 'string'}"
            ]
          },
          "metadata": {
            "tags": []
          },
          "execution_count": 13
        }
      ]
    },
    {
      "cell_type": "code",
      "metadata": {
        "id": "7PR0lPq2WWZi",
        "colab": {
          "base_uri": "https://localhost:8080/"
        },
        "outputId": "78e6796e-7ed1-494d-be00-a9bab263c79d"
      },
      "source": [
        "# 2) 중복 제거한 데이터를 리스트로 변환\n",
        "myList = list(set(myList))\n",
        "myList"
      ],
      "execution_count": null,
      "outputs": [
        {
          "output_type": "execute_result",
          "data": {
            "text/plain": [
              "['has', 'many', 'string', 'This', 'spaces']"
            ]
          },
          "metadata": {
            "tags": []
          },
          "execution_count": 14
        }
      ]
    },
    {
      "cell_type": "code",
      "metadata": {
        "id": "8RSegJjDWW4_"
      },
      "source": [
        "bigList = [str(i) for i in range(10000000)]"
      ],
      "execution_count": null,
      "outputs": []
    },
    {
      "cell_type": "code",
      "metadata": {
        "id": "Fi2npq6sWXAl",
        "colab": {
          "base_uri": "https://localhost:8080/"
        },
        "outputId": "953a8a63-8654-4e7a-bfc5-50fb124345d5"
      },
      "source": [
        "bigList = [str(i) for i in range(10000000)] #리스트 내포\n",
        "\"abc\" in bigList # bigList 리스트에 abc 데이터 IN(포함) 되어 있는지 확인"
      ],
      "execution_count": null,
      "outputs": [
        {
          "output_type": "execute_result",
          "data": {
            "text/plain": [
              "False"
            ]
          },
          "metadata": {
            "tags": []
          },
          "execution_count": 16
        }
      ]
    },
    {
      "cell_type": "code",
      "metadata": {
        "id": "X2iCLZqsWXGy",
        "colab": {
          "base_uri": "https://localhost:8080/"
        },
        "outputId": "84928387-2b14-4114-eb00-9000bf706c32"
      },
      "source": [
        "bigSet = set(bigList) #셋으로 변환하면 중복 제거 되기 때문에 데이터 조회시 빠름\n",
        "\"abc\" in bigSet # 0초 걸림"
      ],
      "execution_count": null,
      "outputs": [
        {
          "output_type": "execute_result",
          "data": {
            "text/plain": [
              "False"
            ]
          },
          "metadata": {
            "tags": []
          },
          "execution_count": 17
        }
      ]
    },
    {
      "cell_type": "code",
      "metadata": {
        "id": "LaesBCJ2Wd8P",
        "colab": {
          "base_uri": "https://localhost:8080/"
        },
        "outputId": "93326b56-ef84-4abd-87b5-63663969567b"
      },
      "source": [
        "# 1) 리스트 준비\n",
        "seq = [\"alpha\", \"bravo\", \"charlie\", \"delta\"] #값들은 value가 되는 것이다.\n",
        "# 2) 딕셔너리 만들기\n",
        "dict(enumerate(seq)) #위에 index들은 key가 되고 : 값들은 value가 된다."
      ],
      "execution_count": null,
      "outputs": [
        {
          "output_type": "execute_result",
          "data": {
            "text/plain": [
              "{0: 'alpha', 1: 'bravo', 2: 'charlie', 3: 'delta'}"
            ]
          },
          "metadata": {
            "tags": []
          },
          "execution_count": 18
        }
      ]
    },
    {
      "cell_type": "code",
      "metadata": {
        "id": "MMKJ3lj8WeD4",
        "colab": {
          "base_uri": "https://localhost:8080/"
        },
        "outputId": "4a4a65f4-883c-4656-8a22-d311a4008ba0"
      },
      "source": [
        "kseq = \"abcd\" # 문자열 또한, 순서열이다.\n",
        "vseq = [\"alpha\", \"bravo\", \"charlie\", \"delta\"]\n",
        "dict(zip(kseq, vseq))"
      ],
      "execution_count": null,
      "outputs": [
        {
          "output_type": "execute_result",
          "data": {
            "text/plain": [
              "{'a': 'alpha', 'b': 'bravo', 'c': 'charlie', 'd': 'delta'}"
            ]
          },
          "metadata": {
            "tags": []
          },
          "execution_count": 19
        }
      ]
    },
    {
      "cell_type": "code",
      "metadata": {
        "id": "FGf3mmU6WeJh",
        "colab": {
          "base_uri": "https://localhost:8080/"
        },
        "outputId": "78da31e8-f79f-43c3-8f8b-f60aa6396f73"
      },
      "source": [
        "kseq = \"aaaa\" # 문자열 또한, 순서열이다.\n",
        "vseq = [\"alpha\", \"bravo\", \"charlie\", \"delta\"]\n",
        "dict(zip(kseq, vseq))"
      ],
      "execution_count": null,
      "outputs": [
        {
          "output_type": "execute_result",
          "data": {
            "text/plain": [
              "{'a': 'delta'}"
            ]
          },
          "metadata": {
            "tags": []
          },
          "execution_count": 20
        }
      ]
    },
    {
      "cell_type": "markdown",
      "metadata": {
        "id": "m5-CNxQOqKML"
      },
      "source": [
        "파이썬 버전확인\n"
      ]
    },
    {
      "cell_type": "code",
      "metadata": {
        "colab": {
          "base_uri": "https://localhost:8080/"
        },
        "id": "VMB8SkhBo5LD",
        "outputId": "a2ce8c6e-93ee-4fdc-dc26-4d94ee55d632"
      },
      "source": [
        "import sys\n",
        "print('파이썬 버전은? :',sys.version)"
      ],
      "execution_count": null,
      "outputs": [
        {
          "output_type": "stream",
          "text": [
            "파이썬 버전은? : 3.7.10 (default, May  3 2021, 02:48:31) \n",
            "[GCC 7.5.0]\n"
          ],
          "name": "stdout"
        }
      ]
    },
    {
      "cell_type": "code",
      "metadata": {
        "id": "1mGiVP-IQTE2"
      },
      "source": [
        "# 1) 셋 변환(중복제거)\n",
        "set(myList)\n",
        "# 2) 중복제거한 데이터를 리스트로 변환\n",
        "myList = list(set(myList))"
      ],
      "execution_count": null,
      "outputs": []
    },
    {
      "cell_type": "code",
      "metadata": {
        "colab": {
          "base_uri": "https://localhost:8080/"
        },
        "id": "XAT5G6USQvX4",
        "outputId": "5645e3a5-1109-4002-e076-7d1c58b8e440"
      },
      "source": [
        "myList"
      ],
      "execution_count": null,
      "outputs": [
        {
          "output_type": "execute_result",
          "data": {
            "text/plain": [
              "['has', 'many', 'string', 'This', 'spaces']"
            ]
          },
          "metadata": {
            "tags": []
          },
          "execution_count": 23
        }
      ]
    },
    {
      "cell_type": "code",
      "metadata": {
        "colab": {
          "base_uri": "https://localhost:8080/"
        },
        "id": "TLO78MvLQzwm",
        "outputId": "50c5eff3-1749-4012-9fc1-e840faeddb47"
      },
      "source": [
        "bigList = [str(i) for i in range(10000000)] #리스트 내포\n",
        "\"abc\" in bigList  #bigList 리스트에 abc 데이터 IN(포함) 되어 있는지 확인"
      ],
      "execution_count": null,
      "outputs": [
        {
          "output_type": "execute_result",
          "data": {
            "text/plain": [
              "False"
            ]
          },
          "metadata": {
            "tags": []
          },
          "execution_count": 24
        }
      ]
    },
    {
      "cell_type": "code",
      "metadata": {
        "colab": {
          "base_uri": "https://localhost:8080/"
        },
        "id": "HlSPIevGRYif",
        "outputId": "3f325bb1-b9b2-4507-d30e-30d2e0ffdf2b"
      },
      "source": [
        "bigList = set(bigList) # 셋으로 변환 하면 중복 제거 되기 때문데 데이터 조회시 빠름\n",
        "\"abc\" in bigList "
      ],
      "execution_count": null,
      "outputs": [
        {
          "output_type": "execute_result",
          "data": {
            "text/plain": [
              "False"
            ]
          },
          "metadata": {
            "tags": []
          },
          "execution_count": 25
        }
      ]
    },
    {
      "cell_type": "code",
      "metadata": {
        "colab": {
          "base_uri": "https://localhost:8080/"
        },
        "id": "x_DiFKR9SIFA",
        "outputId": "d507c42a-c5ff-4bd0-c9c5-6f585b2ef6e3"
      },
      "source": [
        "# 1) 리스트 준비\n",
        "seq = [\"alpha\", \"bravo\", \"charlie\", \"delta\"]\n",
        "# 2) 딕셔너리 만들기 -> 인덱스 정보를 key, Data를 value\n",
        "dict(enumerate(seq))"
      ],
      "execution_count": null,
      "outputs": [
        {
          "output_type": "execute_result",
          "data": {
            "text/plain": [
              "{0: 'alpha', 1: 'bravo', 2: 'charlie', 3: 'delta'}"
            ]
          },
          "metadata": {
            "tags": []
          },
          "execution_count": 26
        }
      ]
    },
    {
      "cell_type": "markdown",
      "metadata": {
        "id": "OWFoM9gDTlYn"
      },
      "source": [
        "리스트 딕셔너리 만들기 - 키 순서열과 값 순서열에 클래스 생서자인 zip(key, value)사용"
      ]
    },
    {
      "cell_type": "code",
      "metadata": {
        "colab": {
          "base_uri": "https://localhost:8080/"
        },
        "id": "FJtiw7iATwHF",
        "outputId": "af8932ac-db7d-4dd4-ecae-507a2258a3a4"
      },
      "source": [
        "kseq = \"abcd\" #문자열 또한, 순서열이다.\n",
        "vseq =  [\"alpha\", \"bravo\", \"charlie\", \"delta\"]\n",
        "dict(zip(kseq, vseq))"
      ],
      "execution_count": null,
      "outputs": [
        {
          "output_type": "execute_result",
          "data": {
            "text/plain": [
              "{'a': 'alpha', 'b': 'bravo', 'c': 'charlie', 'd': 'delta'}"
            ]
          },
          "metadata": {
            "tags": []
          },
          "execution_count": 27
        }
      ]
    },
    {
      "cell_type": "code",
      "metadata": {
        "colab": {
          "base_uri": "https://localhost:8080/"
        },
        "id": "-aJflqeHUUxO",
        "outputId": "c9126e97-b53b-4b9a-d5f1-7556d10299ff"
      },
      "source": [
        "kseq = \"aaaa\" \n",
        "vseq =  [\"alpha\", \"bravo\", \"charlie\", \"delta\"]\n",
        "dict(zip(kseq, vseq))"
      ],
      "execution_count": null,
      "outputs": [
        {
          "output_type": "execute_result",
          "data": {
            "text/plain": [
              "{'a': 'delta'}"
            ]
          },
          "metadata": {
            "tags": []
          },
          "execution_count": 28
        }
      ]
    },
    {
      "cell_type": "code",
      "metadata": {
        "id": "KeyjMzCwUc33",
        "colab": {
          "base_uri": "https://localhost:8080/"
        },
        "outputId": "7134d573-5711-49ec-ba1f-71400c15bf2f"
      },
      "source": [
        "from collections import Counter\n",
        "phrase = \"a man a plan a canal panama\"\n",
        "cntr = Counter(phrase.split())\n",
        "ls = phrase.split()\n",
        "ls\n",
        "#cntr.most_common(2)  #가장 빈번하게 등장한 n개의 아이템과 빈도 추출"
      ],
      "execution_count": null,
      "outputs": [
        {
          "output_type": "execute_result",
          "data": {
            "text/plain": [
              "['a', 'man', 'a', 'plan', 'a', 'canal', 'panama']"
            ]
          },
          "metadata": {
            "tags": []
          },
          "execution_count": 46
        }
      ]
    },
    {
      "cell_type": "code",
      "metadata": {
        "id": "mjfwLcYKbEkx",
        "colab": {
          "base_uri": "https://localhost:8080/"
        },
        "outputId": "e8f8b976-a1d1-4386-e565-7ec3b0bf4fd7"
      },
      "source": [
        "cntr = Counter(ls)\n",
        "cntr.most_common()"
      ],
      "execution_count": null,
      "outputs": [
        {
          "output_type": "execute_result",
          "data": {
            "text/plain": [
              "[('a', 3), ('man', 1), ('plan', 1), ('canal', 1), ('panama', 1)]"
            ]
          },
          "metadata": {
            "tags": []
          },
          "execution_count": 49
        }
      ]
    },
    {
      "cell_type": "code",
      "metadata": {
        "id": "sk15tkCmcJRt",
        "colab": {
          "base_uri": "https://localhost:8080/"
        },
        "outputId": "c4bc62bd-1f30-4451-b4c6-ab2c01858fc1"
      },
      "source": [
        "cntrDict = dict(cntr.most_common())\n",
        "cntrDict"
      ],
      "execution_count": null,
      "outputs": [
        {
          "output_type": "execute_result",
          "data": {
            "text/plain": [
              "{'a': 3, 'canal': 1, 'man': 1, 'panama': 1, 'plan': 1}"
            ]
          },
          "metadata": {
            "tags": []
          },
          "execution_count": 61
        }
      ]
    },
    {
      "cell_type": "code",
      "metadata": {
        "id": "K6e6lL3dg4Vw",
        "colab": {
          "base_uri": "https://localhost:8080/"
        },
        "outputId": "420e31b7-59ec-4966-a3ec-eafa42d09157"
      },
      "source": [
        "cntrDict['a']"
      ],
      "execution_count": null,
      "outputs": [
        {
          "output_type": "execute_result",
          "data": {
            "text/plain": [
              "3"
            ]
          },
          "metadata": {
            "tags": []
          },
          "execution_count": 67
        }
      ]
    },
    {
      "cell_type": "code",
      "metadata": {
        "id": "3J5kCL_JeFQZ",
        "colab": {
          "base_uri": "https://localhost:8080/"
        },
        "outputId": "cb106f22-1a66-4452-c3c5-5b8b707be655"
      },
      "source": [
        "import urllib.request\n",
        "try:\n",
        "  with urllib.urlopen(\"http://networksciencelab.com\") as doc:\n",
        "    html = doc.read()\n",
        "    print(html)\n",
        "except:\n",
        "  print(\"Could not open\")"
      ],
      "execution_count": null,
      "outputs": [
        {
          "output_type": "stream",
          "text": [
            "Could not open\n"
          ],
          "name": "stdout"
        }
      ]
    },
    {
      "cell_type": "code",
      "metadata": {
        "id": "3tlKdsISeWQb"
      },
      "source": [
        "import urllib.request\n",
        "try:\n",
        "  with urllib.urlopen(\"http://networksciencelab.com\") as doc:\n",
        "    html = doc.read()\n",
        "    print(html)"
      ],
      "execution_count": null,
      "outputs": []
    },
    {
      "cell_type": "code",
      "metadata": {
        "id": "Ev9HNvBohIq6",
        "colab": {
          "base_uri": "https://localhost:8080/"
        },
        "outputId": "7740ef4b-2b30-4af8-82ce-4b81068190a2"
      },
      "source": [
        "import urllib.parse\n",
        "URL = \"http://networksciencelab.com/index.html;param?foo=bar#content\" #url 파싱하여 6개의 아이템으로 구성된 튜플로 분리 스키마 네트워크주소, 파일 시스템 경로, 파라미터,\n",
        "urllib.parse.urlparse(URL)"
      ],
      "execution_count": null,
      "outputs": [
        {
          "output_type": "execute_result",
          "data": {
            "text/plain": [
              "ParseResult(scheme='http', netloc='networksciencelab.com', path='/index.html', params='param', query='foo=bar', fragment='content')"
            ]
          },
          "metadata": {
            "tags": []
          },
          "execution_count": 70
        }
      ]
    },
    {
      "cell_type": "code",
      "metadata": {
        "id": "frqcwElcoZuu",
        "colab": {
          "base_uri": "https://localhost:8080/"
        },
        "outputId": "47271d6e-4b28-4f58-db2c-e56ed81c8b95"
      },
      "source": [
        "a= 'abcdef\\n'\n",
        "print(a)\n",
        "b = r'abcdef\\n\\t' #원천 문자열로 인식\n",
        "print(b)"
      ],
      "execution_count": null,
      "outputs": [
        {
          "output_type": "stream",
          "text": [
            "abcdef\n",
            "\n",
            "abcdef\\n\\t\n"
          ],
          "name": "stdout"
        }
      ]
    },
    {
      "cell_type": "code",
      "metadata": {
        "id": "uMKn5hO6pmHe",
        "colab": {
          "base_uri": "https://localhost:8080/"
        },
        "outputId": "85efb429-4c01-4c9c-a69b-a807ba589003"
      },
      "source": [
        "import re\n",
        "re.compile(r'(\\d+)/(\\d+)/(\\d+)') # raw string ->> 0/0/0 1/1/1 2/2/2"
      ],
      "execution_count": null,
      "outputs": [
        {
          "output_type": "execute_result",
          "data": {
            "text/plain": [
              "re.compile(r'(\\d+)/(\\d+)/(\\d+)', re.UNICODE)"
            ]
          },
          "metadata": {
            "tags": []
          },
          "execution_count": 76
        }
      ]
    },
    {
      "cell_type": "code",
      "metadata": {
        "id": "UXiZp2PvqIHL",
        "colab": {
          "base_uri": "https://localhost:8080/"
        },
        "outputId": "5fe36e26-49ec-491f-f1ab-641df7faa981"
      },
      "source": [
        "re.compile('(\\\\d+)/(\\\\d+)/(\\\\d+)')   # raw string을 사용하지 않으면 , 슬래시를 두 번 사용해야 하는 불편함 -> 그래서 보통 r문자를 붙여줌"
      ],
      "execution_count": null,
      "outputs": [
        {
          "output_type": "execute_result",
          "data": {
            "text/plain": [
              "re.compile(r'(\\d+)/(\\d+)/(\\d+)', re.UNICODE)"
            ]
          },
          "metadata": {
            "tags": []
          },
          "execution_count": 79
        }
      ]
    },
    {
      "cell_type": "markdown",
      "metadata": {
        "id": "zYWIykroqdwI"
      },
      "source": [
        "정규표현식으러 패턴 매칭하기\n",
        "re.split() 함수 단어 분석을 위한 기본적인 단어 토크나이저로 사용 할 수 있음"
      ]
    },
    {
      "cell_type": "code",
      "metadata": {
        "id": "Pt1TozWGqpvJ",
        "colab": {
          "base_uri": "https://localhost:8080/"
        },
        "outputId": "a76a786c-cd1c-4c40-a202-f1b11288ac0b"
      },
      "source": [
        "import re\n",
        "re.split(r\"\\W\", \"Hello, world!\")  # r\"\\W\" -> 숫자, 알파벳 제외 한 개체 1개-> 잘라라"
      ],
      "execution_count": null,
      "outputs": [
        {
          "output_type": "execute_result",
          "data": {
            "text/plain": [
              "['Hello', '', 'world', '']"
            ]
          },
          "metadata": {
            "tags": []
          },
          "execution_count": 81
        }
      ]
    },
    {
      "cell_type": "code",
      "metadata": {
        "id": "MtAJ9XxbruLZ",
        "colab": {
          "base_uri": "https://localhost:8080/"
        },
        "outputId": "118fdcc5-58ef-450c-e919-341a1c290833"
      },
      "source": [
        "#인근에 위치한 비문자(non-letter) (,)를 합친다\n",
        "re.split(r\"\\W+\", \"Hello, world!\")  #r\"\\W+\" 알파벳이나 숫자가 아닌 개체 1개 이상 합친다"
      ],
      "execution_count": null,
      "outputs": [
        {
          "output_type": "execute_result",
          "data": {
            "text/plain": [
              "['Hello', 'world', '']"
            ]
          },
          "metadata": {
            "tags": []
          },
          "execution_count": 84
        }
      ]
    },
    {
      "cell_type": "code",
      "metadata": {
        "id": "8EDRaTP4tK20",
        "colab": {
          "base_uri": "https://localhost:8080/"
        },
        "outputId": "33b81167-2829-4850-d6ec-5dc89a9e7c5f"
      },
      "source": [
        "mo = re.match(r\"\\d+\",\"067 Starts with a number\")\n",
        "mo"
      ],
      "execution_count": null,
      "outputs": [
        {
          "output_type": "execute_result",
          "data": {
            "text/plain": [
              "<re.Match object; span=(0, 3), match='067'>"
            ]
          },
          "metadata": {
            "tags": []
          },
          "execution_count": 89
        }
      ]
    },
    {
      "cell_type": "code",
      "metadata": {
        "id": "SnRtSUsyt2yn",
        "colab": {
          "base_uri": "https://localhost:8080/",
          "height": 35
        },
        "outputId": "d62f6bd9-c5f6-437a-e794-61de1d064ab9"
      },
      "source": [
        "mo.group()"
      ],
      "execution_count": null,
      "outputs": [
        {
          "output_type": "execute_result",
          "data": {
            "application/vnd.google.colaboratory.intrinsic+json": {
              "type": "string"
            },
            "text/plain": [
              "'067'"
            ]
          },
          "metadata": {
            "tags": []
          },
          "execution_count": 91
        }
      ]
    },
    {
      "cell_type": "code",
      "metadata": {
        "id": "sr4TpiHVuEby",
        "colab": {
          "base_uri": "https://localhost:8080/"
        },
        "outputId": "f8326e8c-a54f-4d66-c3f7-f971ad212508"
      },
      "source": [
        "print(re.match(r\"\\d+\", \"Dose not Starts with a number\"))"
      ],
      "execution_count": null,
      "outputs": [
        {
          "output_type": "stream",
          "text": [
            "None\n"
          ],
          "name": "stdout"
        }
      ]
    },
    {
      "cell_type": "code",
      "metadata": {
        "id": "smQe-8jIuhAq",
        "colab": {
          "base_uri": "https://localhost:8080/",
          "height": 35
        },
        "outputId": "e213dbf5-0f8f-4b57-ee55-dff1ecc503bb"
      },
      "source": [
        "#search 문자열 일부분이 정규식과 매칭되는지 확인(매칭되는게 앞부분에 없다면 이 함수 사용)\n",
        "#[a-z] : 소문자들만 일치\n",
        "# re.I : 대소문자 구분하지 않음\n",
        "re.search(r\"[a-z]+\",\"0010010 Has at least one 010 letter 0010010\",re.I).group()"
      ],
      "execution_count": null,
      "outputs": [
        {
          "output_type": "execute_result",
          "data": {
            "application/vnd.google.colaboratory.intrinsic+json": {
              "type": "string"
            },
            "text/plain": [
              "'Has'"
            ]
          },
          "metadata": {
            "tags": []
          },
          "execution_count": 109
        }
      ]
    },
    {
      "cell_type": "code",
      "metadata": {
        "id": "TNSSXPcjv_-N",
        "colab": {
          "base_uri": "https://localhost:8080/",
          "height": 35
        },
        "outputId": "9b0ff799-84f1-4933-a83d-cc46cd1e9919"
      },
      "source": [
        "#search 문자열 일부분이 정규식과 매칭되는지 확인(매칭되는게 앞부분에 없다면 이 함수 사용)\n",
        "#[A-Z] : 대문자들만 일치\n",
        "# re.I : 대소문자 구분하지 않음\n",
        "re.search(r\"[A-Z]+\",\"0010010 has at least ONE 010 letter 0010010\").group()"
      ],
      "execution_count": null,
      "outputs": [
        {
          "output_type": "execute_result",
          "data": {
            "application/vnd.google.colaboratory.intrinsic+json": {
              "type": "string"
            },
            "text/plain": [
              "'ONE'"
            ]
          },
          "metadata": {
            "tags": []
          },
          "execution_count": 169
        }
      ]
    },
    {
      "cell_type": "code",
      "metadata": {
        "id": "kdBk7MCJwfwd",
        "colab": {
          "base_uri": "https://localhost:8080/"
        },
        "outputId": "48db2595-bd0a-41b7-e3dd-2e4cab5ae97f"
      },
      "source": [
        "#findall : 정규식에 부합하는 모든 문자열 찾기 (대소문자 무시) -> 모든 소문자 들어 있는 토큰 찾기\n",
        "re.findall(r\"\\D+\",\"0010010 Has at least ONE 010 letter 0010010\", re.I)"
      ],
      "execution_count": null,
      "outputs": [
        {
          "output_type": "execute_result",
          "data": {
            "text/plain": [
              "[' Has at least ONE ', ' letter ']"
            ]
          },
          "metadata": {
            "tags": []
          },
          "execution_count": 121
        }
      ]
    },
    {
      "cell_type": "code",
      "metadata": {
        "id": "GwMz-6g7x2Fb",
        "colab": {
          "base_uri": "https://localhost:8080/"
        },
        "outputId": "ffaa53e7-8bab-4a04-9728-027534ecd6b9"
      },
      "source": [
        "#findall : 정규식에 부합하는 모든 문자열 찾기 (대소문자 무시) -> 모든 소문자 들어 있는 토큰 찾기\n",
        "re.findall(r\"[^a-z]+\",\"0010010 Has at least ONE 010 letter 0010010\", re.I)"
      ],
      "execution_count": null,
      "outputs": [
        {
          "output_type": "execute_result",
          "data": {
            "text/plain": [
              "['0010010 ', ' ', ' ', ' ', ' 010 ', ' 0010010']"
            ]
          },
          "metadata": {
            "tags": []
          },
          "execution_count": 126
        }
      ]
    },
    {
      "cell_type": "code",
      "metadata": {
        "id": "hd_j23mPyUbZ",
        "colab": {
          "base_uri": "https://localhost:8080/",
          "height": 35
        },
        "outputId": "980e9d2a-818f-4d95-a8fa-f317ba3f0be8"
      },
      "source": [
        "#sub : string으로 매칭되는 부분 문자열을 repl로 치환\n",
        "#re.sub(r\"[a-z]+\",'[...]', \"0010010 Has at least ONE 010 letter 0010010\", flags=re.I)\n",
        "re.sub(r\"[a-z]+\",'[...]', \"0010010 Has at least ONE 010 letter 0010010\",0,re.I)"
      ],
      "execution_count": null,
      "outputs": [
        {
          "output_type": "execute_result",
          "data": {
            "application/vnd.google.colaboratory.intrinsic+json": {
              "type": "string"
            },
            "text/plain": [
              "'0010010 [...] [...] [...] [...] 010 [...] 0010010'"
            ]
          },
          "metadata": {
            "tags": []
          },
          "execution_count": 171
        }
      ]
    },
    {
      "cell_type": "code",
      "metadata": {
        "id": "agdXGNWb1bf9",
        "colab": {
          "base_uri": "https://localhost:8080/",
          "height": 35
        },
        "outputId": "62ebbe94-af67-4887-86ef-271317a649fd"
      },
      "source": [
        "#010-abcd-0100 -> abcd 값을 ****으로 치환\n",
        "#re.sub(r\"[a-z]+\",\"****\",\"010-abcd-0100\")\n",
        "#re.sub(r\"\\D+\",\"****\",\"010-abcd-0100\")\n",
        "re.sub(r\"\\W\",\"****\",\"010-abcd-0100\")"
      ],
      "execution_count": null,
      "outputs": [
        {
          "output_type": "execute_result",
          "data": {
            "application/vnd.google.colaboratory.intrinsic+json": {
              "type": "string"
            },
            "text/plain": [
              "'010****abcd****0100'"
            ]
          },
          "metadata": {
            "tags": []
          },
          "execution_count": 178
        }
      ]
    },
    {
      "cell_type": "code",
      "metadata": {
        "id": "IEPp3Zx45hBj",
        "colab": {
          "base_uri": "https://localhost:8080/",
          "height": 35
        },
        "outputId": "f9190cf0-f8ec-4095-be51-3dac442ba37b"
      },
      "source": [
        "re.sub(r\"[0-9]+\",\"****\",\"010-abcd-0100\")"
      ],
      "execution_count": null,
      "outputs": [
        {
          "output_type": "execute_result",
          "data": {
            "application/vnd.google.colaboratory.intrinsic+json": {
              "type": "string"
            },
            "text/plain": [
              "'****-abcd-****'"
            ]
          },
          "metadata": {
            "tags": []
          },
          "execution_count": 175
        }
      ]
    },
    {
      "cell_type": "code",
      "metadata": {
        "colab": {
          "base_uri": "https://localhost:8080/",
          "height": 222
        },
        "id": "U54ewiObsnsW",
        "outputId": "e1c09549-51f7-4db9-af11-5653dcdee17c"
      },
      "source": [
        "#append는 한가지밖에 추가할 수 없다\n",
        "a = [1,2,3,234,647,89,0]\n",
        "a.append([3,4,5,6,9])\n",
        "a.sort()\n",
        "a"
      ],
      "execution_count": null,
      "outputs": [
        {
          "output_type": "error",
          "ename": "TypeError",
          "evalue": "ignored",
          "traceback": [
            "\u001b[0;31m---------------------------------------------------------------------------\u001b[0m",
            "\u001b[0;31mTypeError\u001b[0m                                 Traceback (most recent call last)",
            "\u001b[0;32m<ipython-input-7-ba8d2f79a5d5>\u001b[0m in \u001b[0;36m<module>\u001b[0;34m()\u001b[0m\n\u001b[1;32m      2\u001b[0m \u001b[0ma\u001b[0m \u001b[0;34m=\u001b[0m \u001b[0;34m[\u001b[0m\u001b[0;36m1\u001b[0m\u001b[0;34m,\u001b[0m\u001b[0;36m2\u001b[0m\u001b[0;34m,\u001b[0m\u001b[0;36m3\u001b[0m\u001b[0;34m,\u001b[0m\u001b[0;36m234\u001b[0m\u001b[0;34m,\u001b[0m\u001b[0;36m647\u001b[0m\u001b[0;34m,\u001b[0m\u001b[0;36m89\u001b[0m\u001b[0;34m,\u001b[0m\u001b[0;36m0\u001b[0m\u001b[0;34m]\u001b[0m\u001b[0;34m\u001b[0m\u001b[0;34m\u001b[0m\u001b[0m\n\u001b[1;32m      3\u001b[0m \u001b[0ma\u001b[0m\u001b[0;34m.\u001b[0m\u001b[0mappend\u001b[0m\u001b[0;34m(\u001b[0m\u001b[0;34m[\u001b[0m\u001b[0;36m3\u001b[0m\u001b[0;34m,\u001b[0m\u001b[0;36m4\u001b[0m\u001b[0;34m,\u001b[0m\u001b[0;36m5\u001b[0m\u001b[0;34m,\u001b[0m\u001b[0;36m6\u001b[0m\u001b[0;34m,\u001b[0m\u001b[0;36m9\u001b[0m\u001b[0;34m]\u001b[0m\u001b[0;34m)\u001b[0m\u001b[0;34m\u001b[0m\u001b[0;34m\u001b[0m\u001b[0m\n\u001b[0;32m----> 4\u001b[0;31m \u001b[0ma\u001b[0m\u001b[0;34m.\u001b[0m\u001b[0msort\u001b[0m\u001b[0;34m(\u001b[0m\u001b[0;34m)\u001b[0m\u001b[0;34m\u001b[0m\u001b[0;34m\u001b[0m\u001b[0m\n\u001b[0m\u001b[1;32m      5\u001b[0m \u001b[0ma\u001b[0m\u001b[0;34m\u001b[0m\u001b[0;34m\u001b[0m\u001b[0m\n",
            "\u001b[0;31mTypeError\u001b[0m: '<' not supported between instances of 'list' and 'int'"
          ]
        }
      ]
    }
  ]
}
