{
  "nbformat": 4,
  "nbformat_minor": 0,
  "metadata": {
    "colab": {
      "name": "2019년 지역별 교통사고 데이터 분석 및 시각화.ipynb",
      "provenance": [],
      "toc_visible": true,
      "authorship_tag": "ABX9TyMGXGpzsqw7hCIKJd2mEMt2",
      "include_colab_link": true
    },
    "kernelspec": {
      "name": "python3",
      "display_name": "Python 3"
    },
    "language_info": {
      "name": "python"
    }
  },
  "cells": [
    {
      "cell_type": "markdown",
      "metadata": {
        "id": "view-in-github",
        "colab_type": "text"
      },
      "source": [
        "<a href=\"https://colab.research.google.com/github/hyunwoo94/DataScience/blob/main/2019%EB%85%84_%EC%A7%80%EC%97%AD%EB%B3%84_%EA%B5%90%ED%86%B5%EC%82%AC%EA%B3%A0_%EB%8D%B0%EC%9D%B4%ED%84%B0_%EB%B6%84%EC%84%9D_%EB%B0%8F_%EC%8B%9C%EA%B0%81%ED%99%94.ipynb\" target=\"_parent\"><img src=\"https://colab.research.google.com/assets/colab-badge.svg\" alt=\"Open In Colab\"/></a>"
      ]
    },
    {
      "cell_type": "markdown",
      "metadata": {
        "id": "1vLIGCmOfE_Q"
      },
      "source": [
        "라이브러리 임포트"
      ]
    },
    {
      "cell_type": "code",
      "metadata": {
        "id": "gbPcm7K4fIjU"
      },
      "source": [
        "import plotly.express as px\n",
        "import pandas as pd"
      ],
      "execution_count": null,
      "outputs": []
    },
    {
      "cell_type": "markdown",
      "metadata": {
        "id": "xVmec6iafm3s"
      },
      "source": [
        "데이터 준비하기"
      ]
    },
    {
      "cell_type": "code",
      "metadata": {
        "colab": {
          "base_uri": "https://localhost:8080/",
          "height": 321
        },
        "id": "DezaaTaOflo7",
        "outputId": "a71a6c91-ea8c-48a0-ea02-63d52c1ced13"
      },
      "source": [
        "df = pd.read_csv('도로교통공단_교통사고 정보.csv', encoding='euc-kr')\n",
        "df.head()"
      ],
      "execution_count": null,
      "outputs": [
        {
          "output_type": "error",
          "ename": "FileNotFoundError",
          "evalue": "ignored",
          "traceback": [
            "\u001b[0;31m---------------------------------------------------------------------------\u001b[0m",
            "\u001b[0;31mFileNotFoundError\u001b[0m                         Traceback (most recent call last)",
            "\u001b[0;32m<ipython-input-2-2939ce2ad791>\u001b[0m in \u001b[0;36m<module>\u001b[0;34m()\u001b[0m\n\u001b[0;32m----> 1\u001b[0;31m \u001b[0mdf\u001b[0m \u001b[0;34m=\u001b[0m \u001b[0mpd\u001b[0m\u001b[0;34m.\u001b[0m\u001b[0mread_csv\u001b[0m\u001b[0;34m(\u001b[0m\u001b[0;34m'도로교통공단_교통사고 정보.csv'\u001b[0m\u001b[0;34m,\u001b[0m \u001b[0mencoding\u001b[0m\u001b[0;34m=\u001b[0m\u001b[0;34m'euc-kr'\u001b[0m\u001b[0;34m)\u001b[0m\u001b[0;34m\u001b[0m\u001b[0;34m\u001b[0m\u001b[0m\n\u001b[0m\u001b[1;32m      2\u001b[0m \u001b[0mdf\u001b[0m\u001b[0;34m.\u001b[0m\u001b[0mhead\u001b[0m\u001b[0;34m(\u001b[0m\u001b[0;34m)\u001b[0m\u001b[0;34m\u001b[0m\u001b[0;34m\u001b[0m\u001b[0m\n",
            "\u001b[0;32m/usr/local/lib/python3.7/dist-packages/pandas/io/parsers.py\u001b[0m in \u001b[0;36mread_csv\u001b[0;34m(filepath_or_buffer, sep, delimiter, header, names, index_col, usecols, squeeze, prefix, mangle_dupe_cols, dtype, engine, converters, true_values, false_values, skipinitialspace, skiprows, skipfooter, nrows, na_values, keep_default_na, na_filter, verbose, skip_blank_lines, parse_dates, infer_datetime_format, keep_date_col, date_parser, dayfirst, cache_dates, iterator, chunksize, compression, thousands, decimal, lineterminator, quotechar, quoting, doublequote, escapechar, comment, encoding, dialect, error_bad_lines, warn_bad_lines, delim_whitespace, low_memory, memory_map, float_precision)\u001b[0m\n\u001b[1;32m    686\u001b[0m     )\n\u001b[1;32m    687\u001b[0m \u001b[0;34m\u001b[0m\u001b[0m\n\u001b[0;32m--> 688\u001b[0;31m     \u001b[0;32mreturn\u001b[0m \u001b[0m_read\u001b[0m\u001b[0;34m(\u001b[0m\u001b[0mfilepath_or_buffer\u001b[0m\u001b[0;34m,\u001b[0m \u001b[0mkwds\u001b[0m\u001b[0;34m)\u001b[0m\u001b[0;34m\u001b[0m\u001b[0;34m\u001b[0m\u001b[0m\n\u001b[0m\u001b[1;32m    689\u001b[0m \u001b[0;34m\u001b[0m\u001b[0m\n\u001b[1;32m    690\u001b[0m \u001b[0;34m\u001b[0m\u001b[0m\n",
            "\u001b[0;32m/usr/local/lib/python3.7/dist-packages/pandas/io/parsers.py\u001b[0m in \u001b[0;36m_read\u001b[0;34m(filepath_or_buffer, kwds)\u001b[0m\n\u001b[1;32m    452\u001b[0m \u001b[0;34m\u001b[0m\u001b[0m\n\u001b[1;32m    453\u001b[0m     \u001b[0;31m# Create the parser.\u001b[0m\u001b[0;34m\u001b[0m\u001b[0;34m\u001b[0m\u001b[0;34m\u001b[0m\u001b[0m\n\u001b[0;32m--> 454\u001b[0;31m     \u001b[0mparser\u001b[0m \u001b[0;34m=\u001b[0m \u001b[0mTextFileReader\u001b[0m\u001b[0;34m(\u001b[0m\u001b[0mfp_or_buf\u001b[0m\u001b[0;34m,\u001b[0m \u001b[0;34m**\u001b[0m\u001b[0mkwds\u001b[0m\u001b[0;34m)\u001b[0m\u001b[0;34m\u001b[0m\u001b[0;34m\u001b[0m\u001b[0m\n\u001b[0m\u001b[1;32m    455\u001b[0m \u001b[0;34m\u001b[0m\u001b[0m\n\u001b[1;32m    456\u001b[0m     \u001b[0;32mif\u001b[0m \u001b[0mchunksize\u001b[0m \u001b[0;32mor\u001b[0m \u001b[0miterator\u001b[0m\u001b[0;34m:\u001b[0m\u001b[0;34m\u001b[0m\u001b[0;34m\u001b[0m\u001b[0m\n",
            "\u001b[0;32m/usr/local/lib/python3.7/dist-packages/pandas/io/parsers.py\u001b[0m in \u001b[0;36m__init__\u001b[0;34m(self, f, engine, **kwds)\u001b[0m\n\u001b[1;32m    946\u001b[0m             \u001b[0mself\u001b[0m\u001b[0;34m.\u001b[0m\u001b[0moptions\u001b[0m\u001b[0;34m[\u001b[0m\u001b[0;34m\"has_index_names\"\u001b[0m\u001b[0;34m]\u001b[0m \u001b[0;34m=\u001b[0m \u001b[0mkwds\u001b[0m\u001b[0;34m[\u001b[0m\u001b[0;34m\"has_index_names\"\u001b[0m\u001b[0;34m]\u001b[0m\u001b[0;34m\u001b[0m\u001b[0;34m\u001b[0m\u001b[0m\n\u001b[1;32m    947\u001b[0m \u001b[0;34m\u001b[0m\u001b[0m\n\u001b[0;32m--> 948\u001b[0;31m         \u001b[0mself\u001b[0m\u001b[0;34m.\u001b[0m\u001b[0m_make_engine\u001b[0m\u001b[0;34m(\u001b[0m\u001b[0mself\u001b[0m\u001b[0;34m.\u001b[0m\u001b[0mengine\u001b[0m\u001b[0;34m)\u001b[0m\u001b[0;34m\u001b[0m\u001b[0;34m\u001b[0m\u001b[0m\n\u001b[0m\u001b[1;32m    949\u001b[0m \u001b[0;34m\u001b[0m\u001b[0m\n\u001b[1;32m    950\u001b[0m     \u001b[0;32mdef\u001b[0m \u001b[0mclose\u001b[0m\u001b[0;34m(\u001b[0m\u001b[0mself\u001b[0m\u001b[0;34m)\u001b[0m\u001b[0;34m:\u001b[0m\u001b[0;34m\u001b[0m\u001b[0;34m\u001b[0m\u001b[0m\n",
            "\u001b[0;32m/usr/local/lib/python3.7/dist-packages/pandas/io/parsers.py\u001b[0m in \u001b[0;36m_make_engine\u001b[0;34m(self, engine)\u001b[0m\n\u001b[1;32m   1178\u001b[0m     \u001b[0;32mdef\u001b[0m \u001b[0m_make_engine\u001b[0m\u001b[0;34m(\u001b[0m\u001b[0mself\u001b[0m\u001b[0;34m,\u001b[0m \u001b[0mengine\u001b[0m\u001b[0;34m=\u001b[0m\u001b[0;34m\"c\"\u001b[0m\u001b[0;34m)\u001b[0m\u001b[0;34m:\u001b[0m\u001b[0;34m\u001b[0m\u001b[0;34m\u001b[0m\u001b[0m\n\u001b[1;32m   1179\u001b[0m         \u001b[0;32mif\u001b[0m \u001b[0mengine\u001b[0m \u001b[0;34m==\u001b[0m \u001b[0;34m\"c\"\u001b[0m\u001b[0;34m:\u001b[0m\u001b[0;34m\u001b[0m\u001b[0;34m\u001b[0m\u001b[0m\n\u001b[0;32m-> 1180\u001b[0;31m             \u001b[0mself\u001b[0m\u001b[0;34m.\u001b[0m\u001b[0m_engine\u001b[0m \u001b[0;34m=\u001b[0m \u001b[0mCParserWrapper\u001b[0m\u001b[0;34m(\u001b[0m\u001b[0mself\u001b[0m\u001b[0;34m.\u001b[0m\u001b[0mf\u001b[0m\u001b[0;34m,\u001b[0m \u001b[0;34m**\u001b[0m\u001b[0mself\u001b[0m\u001b[0;34m.\u001b[0m\u001b[0moptions\u001b[0m\u001b[0;34m)\u001b[0m\u001b[0;34m\u001b[0m\u001b[0;34m\u001b[0m\u001b[0m\n\u001b[0m\u001b[1;32m   1181\u001b[0m         \u001b[0;32melse\u001b[0m\u001b[0;34m:\u001b[0m\u001b[0;34m\u001b[0m\u001b[0;34m\u001b[0m\u001b[0m\n\u001b[1;32m   1182\u001b[0m             \u001b[0;32mif\u001b[0m \u001b[0mengine\u001b[0m \u001b[0;34m==\u001b[0m \u001b[0;34m\"python\"\u001b[0m\u001b[0;34m:\u001b[0m\u001b[0;34m\u001b[0m\u001b[0;34m\u001b[0m\u001b[0m\n",
            "\u001b[0;32m/usr/local/lib/python3.7/dist-packages/pandas/io/parsers.py\u001b[0m in \u001b[0;36m__init__\u001b[0;34m(self, src, **kwds)\u001b[0m\n\u001b[1;32m   1991\u001b[0m         \u001b[0;32mif\u001b[0m \u001b[0mkwds\u001b[0m\u001b[0;34m.\u001b[0m\u001b[0mget\u001b[0m\u001b[0;34m(\u001b[0m\u001b[0;34m\"compression\"\u001b[0m\u001b[0;34m)\u001b[0m \u001b[0;32mis\u001b[0m \u001b[0;32mNone\u001b[0m \u001b[0;32mand\u001b[0m \u001b[0mencoding\u001b[0m\u001b[0;34m:\u001b[0m\u001b[0;34m\u001b[0m\u001b[0;34m\u001b[0m\u001b[0m\n\u001b[1;32m   1992\u001b[0m             \u001b[0;32mif\u001b[0m \u001b[0misinstance\u001b[0m\u001b[0;34m(\u001b[0m\u001b[0msrc\u001b[0m\u001b[0;34m,\u001b[0m \u001b[0mstr\u001b[0m\u001b[0;34m)\u001b[0m\u001b[0;34m:\u001b[0m\u001b[0;34m\u001b[0m\u001b[0;34m\u001b[0m\u001b[0m\n\u001b[0;32m-> 1993\u001b[0;31m                 \u001b[0msrc\u001b[0m \u001b[0;34m=\u001b[0m \u001b[0mopen\u001b[0m\u001b[0;34m(\u001b[0m\u001b[0msrc\u001b[0m\u001b[0;34m,\u001b[0m \u001b[0;34m\"rb\"\u001b[0m\u001b[0;34m)\u001b[0m\u001b[0;34m\u001b[0m\u001b[0;34m\u001b[0m\u001b[0m\n\u001b[0m\u001b[1;32m   1994\u001b[0m                 \u001b[0mself\u001b[0m\u001b[0;34m.\u001b[0m\u001b[0mhandles\u001b[0m\u001b[0;34m.\u001b[0m\u001b[0mappend\u001b[0m\u001b[0;34m(\u001b[0m\u001b[0msrc\u001b[0m\u001b[0;34m)\u001b[0m\u001b[0;34m\u001b[0m\u001b[0;34m\u001b[0m\u001b[0m\n\u001b[1;32m   1995\u001b[0m \u001b[0;34m\u001b[0m\u001b[0m\n",
            "\u001b[0;31mFileNotFoundError\u001b[0m: [Errno 2] No such file or directory: '도로교통공단_교통사고 정보.csv'"
          ]
        }
      ]
    },
    {
      "cell_type": "code",
      "metadata": {
        "id": "oVa_t7Sygmca"
      },
      "source": [
        "df.info()"
      ],
      "execution_count": null,
      "outputs": []
    },
    {
      "cell_type": "markdown",
      "metadata": {
        "id": "CvOkeb7jhZVZ"
      },
      "source": [
        "교통사고 시간 전처리"
      ]
    },
    {
      "cell_type": "code",
      "metadata": {
        "id": "uaHLjQKChcKy"
      },
      "source": [
        "#substr 문자열 자리기를 위해 데이터타입 변경\n",
        "df = df.astype({'발생년월일시':'string'})"
      ],
      "execution_count": null,
      "outputs": []
    },
    {
      "cell_type": "code",
      "metadata": {
        "id": "nctoOcO3hobm"
      },
      "source": [
        "df.info()"
      ],
      "execution_count": null,
      "outputs": []
    },
    {
      "cell_type": "code",
      "metadata": {
        "id": "7Q5SUSNuhqNN"
      },
      "source": [
        "#2019010100 -> 00 시간으로 분리\n",
        "df['발생시간'] = df['발생년월일시'].str[8:]"
      ],
      "execution_count": null,
      "outputs": []
    },
    {
      "cell_type": "code",
      "metadata": {
        "id": "Woizytk8iC4e"
      },
      "source": [
        "df.info()"
      ],
      "execution_count": null,
      "outputs": []
    },
    {
      "cell_type": "code",
      "metadata": {
        "id": "XSA2TNW3iOpQ"
      },
      "source": [
        "#발생시간 숫자 데이터 타입으로 변경\n",
        "df = df.astype({'발생시간':'int64'})"
      ],
      "execution_count": null,
      "outputs": []
    },
    {
      "cell_type": "code",
      "metadata": {
        "id": "NAYN_SphijWd"
      },
      "source": [
        "df.info()"
      ],
      "execution_count": null,
      "outputs": []
    },
    {
      "cell_type": "code",
      "metadata": {
        "id": "4Rl1olPoiqPb"
      },
      "source": [
        "#2019010100 -> 추출  -> 2019-01-01 (날짜형태 YYY-MM-DD 형태로 변경)\n",
        "df['발생년월일시'] = pd.to_datetime(df['발생년월일시'].str[:8],\n",
        "                              format='%Y-%m-%d', errors='raise')"
      ],
      "execution_count": null,
      "outputs": []
    },
    {
      "cell_type": "code",
      "metadata": {
        "id": "TVaGB8mNjnVw"
      },
      "source": [
        "df.info()"
      ],
      "execution_count": null,
      "outputs": []
    },
    {
      "cell_type": "code",
      "metadata": {
        "id": "1FsdYCfSjo6d"
      },
      "source": [
        "df.head()"
      ],
      "execution_count": null,
      "outputs": []
    },
    {
      "cell_type": "markdown",
      "metadata": {
        "id": "V_h2b3cfnvP9"
      },
      "source": [
        "2019년 지역별 교통사고 데이터 시각화"
      ]
    },
    {
      "cell_type": "code",
      "metadata": {
        "id": "_6eVhm09nymX"
      },
      "source": [
        "fig = px.scatter(df, x=\"발생년월일시\", y='발생시간', color = \"발생지시도\", hover_data=['발생시간'])\n",
        "fig.show()"
      ],
      "execution_count": null,
      "outputs": []
    },
    {
      "cell_type": "code",
      "metadata": {
        "id": "J0EZ2za6oPn0"
      },
      "source": [
        "fig = px.scatter(df, x=\"발생년월일시\", y='발생시간', color = \"발생지시도\", hover_data=['발생시간'],size='발생시간')\n",
        "fig.show()"
      ],
      "execution_count": null,
      "outputs": []
    },
    {
      "cell_type": "markdown",
      "metadata": {
        "id": "ybjHugrLpNMZ"
      },
      "source": [
        "시간대 별 교통사고 사망자 현황"
      ]
    },
    {
      "cell_type": "code",
      "metadata": {
        "id": "qgZMSIfbpPdZ"
      },
      "source": [
        "fig = px.bar(df, x=\"사망자수\", y=\"발생시간\", orientation='h')\n",
        "fig.show()"
      ],
      "execution_count": null,
      "outputs": []
    },
    {
      "cell_type": "markdown",
      "metadata": {
        "id": "T455AErhp9bB"
      },
      "source": [
        "시도별 교통사고 사망자 현황(2019)"
      ]
    },
    {
      "cell_type": "code",
      "metadata": {
        "id": "p7qFyr81qAQ2"
      },
      "source": [
        "fig = px.bar(df, x=\"사망자수\", y=\"발생지시도\", orientation='h', title='시도별 교통사고 사망자 현황')\n",
        "fig.show()"
      ],
      "execution_count": null,
      "outputs": []
    },
    {
      "cell_type": "markdown",
      "metadata": {
        "id": "ykmHCbvLqeYY"
      },
      "source": [
        "대구광역시의 교통사고 발생 데이터 분석"
      ]
    },
    {
      "cell_type": "code",
      "metadata": {
        "id": "3aohIn86qhzG"
      },
      "source": [
        "df1 = df[df.발생지시도=='대구']\n",
        "df1.info()"
      ],
      "execution_count": null,
      "outputs": []
    },
    {
      "cell_type": "markdown",
      "metadata": {
        "id": "VYYohO-FrBfC"
      },
      "source": [
        "교통사고 발생 시간 별/구 별 사망자 현황"
      ]
    },
    {
      "cell_type": "code",
      "metadata": {
        "id": "s-ZvJeiuq3MZ"
      },
      "source": [
        "fig = px.bar(df1, x=\"발생시간\", y=\"사망자수\", color='발생지시군구',\n",
        "              title='교통사고 발생 시간 별/구 별 사망자 현황')\n",
        "fig.show()"
      ],
      "execution_count": null,
      "outputs": []
    },
    {
      "cell_type": "markdown",
      "metadata": {
        "id": "uQz2QPDAuDJX"
      },
      "source": [
        "지도 활용하여 교통사고 현황 분석"
      ]
    },
    {
      "cell_type": "code",
      "metadata": {
        "id": "aSXcIZsbuFne"
      },
      "source": [
        "import folium\n",
        "\n",
        "map = folium.Map(location=[36.351,127.386])\n",
        "map"
      ],
      "execution_count": null,
      "outputs": []
    },
    {
      "cell_type": "markdown",
      "metadata": {
        "id": "7BbsHOUMvN-w"
      },
      "source": [
        "지도에 필요한 정보만 담기 -> 대전의 교통사고 현황을 지도에 표출"
      ]
    },
    {
      "cell_type": "code",
      "metadata": {
        "id": "W-zoBAhTvSf5"
      },
      "source": [
        "df_map = df[df.발생지시도==\"대전\"]\n",
        "df_map.info()"
      ],
      "execution_count": null,
      "outputs": []
    },
    {
      "cell_type": "markdown",
      "metadata": {
        "id": "XthEJhrEv29c"
      },
      "source": [
        "사망자수, 부상자수, 중상자수, 경상자수 전처리 -> 지도에 원을 그리기 위해서"
      ]
    },
    {
      "cell_type": "code",
      "metadata": {
        "id": "SdOZ3X6bv71_"
      },
      "source": [
        "df_map = df_map.astype({'사망자수': 'float64'})\n",
        "df_map = df_map.astype({'경상자수': 'float64'})\n",
        "df_map = df_map.astype({'중상자수': 'float64'})\n",
        "df_map = df_map.astype({'부상자수': 'float64'})"
      ],
      "execution_count": null,
      "outputs": []
    },
    {
      "cell_type": "code",
      "metadata": {
        "id": "kW78ltcGwS3W"
      },
      "source": [
        "df_map.info()"
      ],
      "execution_count": null,
      "outputs": []
    },
    {
      "cell_type": "markdown",
      "metadata": {
        "id": "BWAp6cnSwdNs"
      },
      "source": [
        "사망자수, 경상자 수에 따른 CircleMarker 지도에 표출하기"
      ]
    },
    {
      "cell_type": "code",
      "metadata": {
        "id": "PiLZhApxwVBs"
      },
      "source": [
        "for n in df_map.index:\n",
        "  cnt= df_map['사망자수'][n] + df_map['경상자수'][n] #사망자수 +경상자수 -> CircleMarker 사이즈\n",
        "  folium.CircleMarker([df_map['위도'][n], df_map['경도'][n]],\n",
        "                       radius=cnt*10, popup=df_map['사고유형'][n],\n",
        "                      color = '#3186cc', fill_color='#3186cc').add_to(map)\n",
        "map.save('대전교통사고 현황.html')"
      ],
      "execution_count": null,
      "outputs": []
    },
    {
      "cell_type": "markdown",
      "metadata": {
        "id": "6m9hpA8H2F97"
      },
      "source": [
        "지도 활용하여 교통사고 현황분석"
      ]
    },
    {
      "cell_type": "markdown",
      "metadata": {
        "id": "CfMA9L4G7tzr"
      },
      "source": [
        "서울분석"
      ]
    },
    {
      "cell_type": "code",
      "metadata": {
        "id": "fvVFwIST3Dw6"
      },
      "source": [
        "import folium\n",
        "\n",
        "map1 = folium.Map(location=[37.5554536,126.9925672])\n",
        "my_map1 = df[df.발생지시도==\"서울\"]\n",
        "my_map1 = my_map1.astype({'사망자수': 'float64'})\n",
        "my_map1 = my_map1.astype({'경상자수': 'float64'})\n",
        "my_map1 = my_map1.astype({'중상자수': 'float64'})\n",
        "my_map1 = my_map1.astype({'부상자수': 'float64'})"
      ],
      "execution_count": null,
      "outputs": []
    },
    {
      "cell_type": "code",
      "metadata": {
        "id": "tB33RO7qXi9p"
      },
      "source": [
        "my_map1.info()"
      ],
      "execution_count": null,
      "outputs": []
    },
    {
      "cell_type": "code",
      "metadata": {
        "id": "DwjWM9QTX2l9"
      },
      "source": [
        "my_dmap1 = df[df.발생지시군구==\"송파구\"]\n",
        "my_dmap1.info()"
      ],
      "execution_count": null,
      "outputs": []
    },
    {
      "cell_type": "code",
      "metadata": {
        "id": "R0JHXSeL2QYJ"
      },
      "source": [
        "for n in my_map1.index:\n",
        "  cnt= my_map1['사망자수'][n] + my_map1['경상자수'][n]  #사망자수 +경상자수 -> CircleMarker 사이즈 \n",
        "  folium.CircleMarker([my_map1['위도'][n], my_map1['경도'][n]],\n",
        "                       radius=cnt*10, popup=my_map['사고유형'][n],\n",
        "                      color = '#dbf516', fill_color='#fbffd9').add_to(map1)\n",
        "map1.save('서울교통사고 현황.html')"
      ],
      "execution_count": null,
      "outputs": []
    },
    {
      "cell_type": "code",
      "metadata": {
        "id": "v0nM1L3vVJ8w"
      },
      "source": [
        "import folium\n",
        "\n",
        "map = folium.Map(location=[37.5554536,126.9925672])\n",
        "map"
      ],
      "execution_count": null,
      "outputs": []
    },
    {
      "cell_type": "code",
      "metadata": {
        "id": "XOP7NbakVKMe"
      },
      "source": [
        "fig = px.bar(my_map1, x=\"발생시간\", y=\"사망자수\", color='발생지시군구',\n",
        "              title='서울 교통사고 발생 시간사망자 현황')\n",
        "fig.show()"
      ],
      "execution_count": null,
      "outputs": []
    },
    {
      "cell_type": "code",
      "metadata": {
        "id": "JndlD9WQYyhZ"
      },
      "source": [
        "fig = px.bar(my_dmap1 , x=\"발생시간\", y=\"사망자수\", \n",
        "              title='교통사고 발생 시간 별/구 별 사망자 현황')\n",
        "fig.show()"
      ],
      "execution_count": null,
      "outputs": []
    },
    {
      "cell_type": "markdown",
      "metadata": {
        "id": "6XcTJsjv7wQj"
      },
      "source": [
        "전국분석 어떻게 하지.... 안나오네...."
      ]
    },
    {
      "cell_type": "code",
      "metadata": {
        "id": "gypYhsFH6hcw"
      },
      "source": [
        "map3 = folium.Map(location=[36.529274358819286, 127.948611913001])\n",
        "my_map3 = df\n",
        "my_map3 = my_map3.astype({'사망자수': 'float64'})\n",
        "my_map3 = my_map3.astype({'경상자수': 'float64'})\n",
        "my_map3 = my_map3.astype({'중상자수': 'float64'})\n",
        "my_map3 = my_map3.astype({'부상자수': 'float64'})"
      ],
      "execution_count": null,
      "outputs": []
    },
    {
      "cell_type": "code",
      "metadata": {
        "id": "rN8iGW5q7WTz"
      },
      "source": [
        "for n in my_map3.index:\n",
        "  cnt= my_map3['사망자수'][n] + my_map3['경상자수'][n]  #사망자수 +경상자수 -> CircleMarker 사이즈 \n",
        "  folium.CircleMarker([my_map3['위도'][n], my_map3['경도'][n]],\n",
        "                       radius=cnt*10, popup=my_map3['사고유형'][n],\n",
        "                      color = '#dbf516', fill_color='#fbffd9').add_to(map3)\n",
        "map1.save('전국 교통사고 현황.html')"
      ],
      "execution_count": null,
      "outputs": []
    }
  ]
}